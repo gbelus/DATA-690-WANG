{
  "cells": [
    {
      "cell_type": "markdown",
      "source": "# <center> DATA 690\n## <center>Assignment # 06\n### <center> By: Geslande Belus",
      "metadata": {
        "tags": [],
        "cell_id": "00000-f93f5268-fd5c-4b1a-b9e1-dcebc31a1e4c",
        "deepnote_cell_type": "markdown"
      }
    },
    {
      "cell_type": "markdown",
      "source": "## REQUIREMENT #1:\n#### Use Pandas read_html() function to retrive the HTML tables as dataframes from the web page:",
      "metadata": {
        "tags": [],
        "cell_id": "00001-731974b3-8fd7-4dcc-93c3-589a466e1763",
        "deepnote_cell_type": "markdown"
      }
    },
    {
      "cell_type": "code",
      "source": "import pandas as pd\n\ntable_cost = pd.read_html('https://www.genealogybranches.com/censuscosts.html', header=0)\nimport pandas as pd\n\n#table_cost = pd.read_html('https://www.genealogybranches.com/censuscosts.html', header=1)",
      "metadata": {
        "tags": [],
        "cell_id": "00001-fc0e83fa-9dac-4ab7-8be3-176c67e67ad4",
        "deepnote_to_be_reexecuted": false,
        "source_hash": "e713e056",
        "execution_millis": 194,
        "execution_start": 1616986606930,
        "deepnote_cell_type": "code"
      },
      "outputs": [],
      "execution_count": 1
    },
    {
      "cell_type": "markdown",
      "source": "## Requirement #2:\n#### Find out how many HTML tables Pandas retrieves from the web page. Find out which dataframe contain the data and use it for further processing.",
      "metadata": {
        "tags": [],
        "cell_id": "00003-ebd858bd-99b6-4b0e-b745-a8e5eafaeedd",
        "deepnote_cell_type": "markdown"
      }
    },
    {
      "cell_type": "code",
      "source": "len(table_cost)\n",
      "metadata": {
        "tags": [],
        "cell_id": "00002-db97b37a-63d9-40ed-83fa-54bb539084fd",
        "deepnote_to_be_reexecuted": false,
        "source_hash": "5a8dc181",
        "execution_millis": 28,
        "execution_start": 1616986607129,
        "deepnote_cell_type": "code"
      },
      "outputs": [
        {
          "output_type": "execute_result",
          "execution_count": 2,
          "data": {
            "text/plain": "2"
          },
          "metadata": {}
        }
      ],
      "execution_count": 2
    },
    {
      "cell_type": "code",
      "source": "df1 = table_cost[0]\ndf2 = table_cost[1]\n\nprint(f\"Table 1: \\n{df1}\", f\"\\n\\nTable 2: \\n{df2}\")",
      "metadata": {
        "tags": [],
        "cell_id": "00005-a7a4d645-fca9-462b-b173-3c08ac00dc6c",
        "deepnote_to_be_reexecuted": false,
        "source_hash": "23b38b4",
        "execution_millis": 62,
        "execution_start": 1616986607154,
        "deepnote_cell_type": "code"
      },
      "outputs": [
        {
          "name": "stdout",
          "text": "Table 1: \n   Census Year  Total Population     Census Cost Average Cost Per Person\n0         1790           3929214         $44,377              1.13 cents\n1         1800           5308483         $66,109              1.24 cents\n2         1810           7239881        $178,445              2.46 cents\n3         1820           9633822        $208,526              2.16 cents\n4         1830          12866020        $378,545              2.94 cents\n5         1840          17069458        $833,371              4.88 cents\n6         1850          23191876      $1,423,351              6.14 cents\n7         1860          31443321      $1,969,377              6.26 cents\n8         1870          38558371      $3,421,198              8.87 cents\n9         1880          50155783      $5,790,678             11.54 cents\n10        1890          62979766     $11,547,127             18.33 cents\n11        1900          76303387     $11,854,000             15.54 cents\n12        1910          91972266     $15,968,000             17.07 cents\n13        1920         105710620     $25,117,000             23.76 cents\n14        1930         122775046     $40,156,000             32.71 cents\n15        1940         131669275     $67,527,000             51.29 cents\n16        1950         151325798     $91,462,000             60.44 cents\n17        1960         179323175    $127,934,000             71.34 cents\n18        1970         203302031    $247,653,000                   $1.22\n19        1980         226542199  $1,078,488,000                   $4.76\n20        1990         248718301  $2,492,830,000                  $10.02\n21        2000         281421906    $4.5 Billion                  $15.99\n22       2010*         308745538     $13 Billion                  $42.11 \n\nTable 2: \nEmpty DataFrame\nColumns: [The U.S. population reached 300,000,000 on 17 October 2006. At the end of 2015, it was at 319,958,045. At the end of 2017, it was at 326,971,209. Source (except 2010)... Gauthier, Jason G., Measuring America: The Decennial Censuses From 1790-2000, (US Bureau of the Census/Dept of Commerce), Washington: US Government Printing Office, 2002, Appendix A, Page A-1.The numbers in the fourth column are not included in the book and were added by me. * The 2010 census cost was taken from GAO (U.S. Government Accountability Office) report number GAO-11-496T, 2010 Census: Preliminary Lessons Learned Highlight the Need for Fundamental Reforms (April 6, 2011): \"At about $13 billion, 2010 was the costliest U.S. Census in history.\" The official census day for 2010 was April 1, 2010. The total population figure (308,745,538) was announced by the U.S. Census Bureau on Dec. 21, 2010. See: 2010 Census - Resident Population Data The 1940 Census 1940 census records were released on April 2, 2012. For details see:1940 Census Records and InformationFor information on census records for other years see: U.S. Census Records 1790-1940]\nIndex: []\n",
          "output_type": "stream"
        }
      ],
      "execution_count": 3
    },
    {
      "cell_type": "markdown",
      "source": "## Requirement #3:\n##### Display and explore the data (rows, columns, etc.) and determine the data quality (bad rows, bad columns, bad elements, null values, etc.)\n",
      "metadata": {
        "tags": [],
        "cell_id": "00005-c002459d-6d9f-4039-80ec-a8fbb3d6868c",
        "deepnote_cell_type": "markdown"
      }
    },
    {
      "cell_type": "code",
      "source": "print(table_cost)\n# for row in table_cost: \n#     print(row)",
      "metadata": {
        "tags": [],
        "cell_id": "00002-19491982-540c-4f1b-a9b3-428f41f10ead",
        "deepnote_to_be_reexecuted": false,
        "source_hash": "2efde0d0",
        "execution_millis": 5,
        "execution_start": 1616986607211,
        "deepnote_cell_type": "code"
      },
      "outputs": [
        {
          "name": "stdout",
          "text": "[   Census Year  Total Population     Census Cost Average Cost Per Person\n0         1790           3929214         $44,377              1.13 cents\n1         1800           5308483         $66,109              1.24 cents\n2         1810           7239881        $178,445              2.46 cents\n3         1820           9633822        $208,526              2.16 cents\n4         1830          12866020        $378,545              2.94 cents\n5         1840          17069458        $833,371              4.88 cents\n6         1850          23191876      $1,423,351              6.14 cents\n7         1860          31443321      $1,969,377              6.26 cents\n8         1870          38558371      $3,421,198              8.87 cents\n9         1880          50155783      $5,790,678             11.54 cents\n10        1890          62979766     $11,547,127             18.33 cents\n11        1900          76303387     $11,854,000             15.54 cents\n12        1910          91972266     $15,968,000             17.07 cents\n13        1920         105710620     $25,117,000             23.76 cents\n14        1930         122775046     $40,156,000             32.71 cents\n15        1940         131669275     $67,527,000             51.29 cents\n16        1950         151325798     $91,462,000             60.44 cents\n17        1960         179323175    $127,934,000             71.34 cents\n18        1970         203302031    $247,653,000                   $1.22\n19        1980         226542199  $1,078,488,000                   $4.76\n20        1990         248718301  $2,492,830,000                  $10.02\n21        2000         281421906    $4.5 Billion                  $15.99\n22       2010*         308745538     $13 Billion                  $42.11, Empty DataFrame\nColumns: [The U.S. population reached 300,000,000 on 17 October 2006. At the end of 2015, it was at 319,958,045. At the end of 2017, it was at 326,971,209. Source (except 2010)... Gauthier, Jason G., Measuring America: The Decennial Censuses From 1790-2000, (US Bureau of the Census/Dept of Commerce), Washington: US Government Printing Office, 2002, Appendix A, Page A-1.The numbers in the fourth column are not included in the book and were added by me. * The 2010 census cost was taken from GAO (U.S. Government Accountability Office) report number GAO-11-496T, 2010 Census: Preliminary Lessons Learned Highlight the Need for Fundamental Reforms (April 6, 2011): \"At about $13 billion, 2010 was the costliest U.S. Census in history.\" The official census day for 2010 was April 1, 2010. The total population figure (308,745,538) was announced by the U.S. Census Bureau on Dec. 21, 2010. See: 2010 Census - Resident Population Data The 1940 Census 1940 census records were released on April 2, 2012. For details see:1940 Census Records and InformationFor information on census records for other years see: U.S. Census Records 1790-1940]\nIndex: []]\n",
          "output_type": "stream"
        }
      ],
      "execution_count": 4
    },
    {
      "cell_type": "code",
      "source": "df1 = table_cost[0]\ndf1.head()",
      "metadata": {
        "tags": [],
        "cell_id": "00004-7a633a25-6a42-440d-a514-ed48db16baac",
        "deepnote_to_be_reexecuted": false,
        "source_hash": "b4c360b8",
        "execution_millis": 47,
        "execution_start": 1616986607212,
        "deepnote_cell_type": "code"
      },
      "outputs": [
        {
          "output_type": "execute_result",
          "execution_count": 5,
          "data": {
            "application/vnd.deepnote.dataframe.v2+json": {
              "row_count": 5,
              "column_count": 4,
              "columns": [
                {
                  "name": "Census Year",
                  "dtype": "object",
                  "stats": {
                    "unique_count": 5,
                    "nan_count": 0,
                    "categories": [
                      {
                        "name": "1790",
                        "count": 1
                      },
                      {
                        "name": "1800",
                        "count": 1
                      },
                      {
                        "name": "3 others",
                        "count": 3
                      }
                    ]
                  }
                },
                {
                  "name": "Total Population",
                  "dtype": "int64",
                  "stats": {
                    "unique_count": 5,
                    "nan_count": 0,
                    "min": 3929214,
                    "max": 12866020,
                    "histogram": [
                      {
                        "bin_start": 3929214,
                        "bin_end": 4822894.6,
                        "count": 1
                      },
                      {
                        "bin_start": 4822894.6,
                        "bin_end": 5716575.2,
                        "count": 1
                      },
                      {
                        "bin_start": 5716575.2,
                        "bin_end": 6610255.8,
                        "count": 0
                      },
                      {
                        "bin_start": 6610255.8,
                        "bin_end": 7503936.4,
                        "count": 1
                      },
                      {
                        "bin_start": 7503936.4,
                        "bin_end": 8397617,
                        "count": 0
                      },
                      {
                        "bin_start": 8397617,
                        "bin_end": 9291297.6,
                        "count": 0
                      },
                      {
                        "bin_start": 9291297.6,
                        "bin_end": 10184978.2,
                        "count": 1
                      },
                      {
                        "bin_start": 10184978.2,
                        "bin_end": 11078658.8,
                        "count": 0
                      },
                      {
                        "bin_start": 11078658.8,
                        "bin_end": 11972339.399999999,
                        "count": 0
                      },
                      {
                        "bin_start": 11972339.399999999,
                        "bin_end": 12866020,
                        "count": 1
                      }
                    ]
                  }
                },
                {
                  "name": "Census Cost",
                  "dtype": "object",
                  "stats": {
                    "unique_count": 5,
                    "nan_count": 0,
                    "categories": [
                      {
                        "name": "$44,377",
                        "count": 1
                      },
                      {
                        "name": "$66,109",
                        "count": 1
                      },
                      {
                        "name": "3 others",
                        "count": 3
                      }
                    ]
                  }
                },
                {
                  "name": "Average Cost Per Person",
                  "dtype": "object",
                  "stats": {
                    "unique_count": 5,
                    "nan_count": 0,
                    "categories": [
                      {
                        "name": "1.13 cents",
                        "count": 1
                      },
                      {
                        "name": "1.24 cents",
                        "count": 1
                      },
                      {
                        "name": "3 others",
                        "count": 3
                      }
                    ]
                  }
                },
                {
                  "name": "_deepnote_index_column",
                  "dtype": "int64"
                }
              ],
              "rows_top": [
                {
                  "Census Year": "1790",
                  "Total Population": 3929214,
                  "Census Cost": "$44,377",
                  "Average Cost Per Person": "1.13 cents",
                  "_deepnote_index_column": 0
                },
                {
                  "Census Year": "1800",
                  "Total Population": 5308483,
                  "Census Cost": "$66,109",
                  "Average Cost Per Person": "1.24 cents",
                  "_deepnote_index_column": 1
                },
                {
                  "Census Year": "1810",
                  "Total Population": 7239881,
                  "Census Cost": "$178,445",
                  "Average Cost Per Person": "2.46 cents",
                  "_deepnote_index_column": 2
                },
                {
                  "Census Year": "1820",
                  "Total Population": 9633822,
                  "Census Cost": "$208,526",
                  "Average Cost Per Person": "2.16 cents",
                  "_deepnote_index_column": 3
                },
                {
                  "Census Year": "1830",
                  "Total Population": 12866020,
                  "Census Cost": "$378,545",
                  "Average Cost Per Person": "2.94 cents",
                  "_deepnote_index_column": 4
                }
              ],
              "rows_bottom": null
            },
            "text/plain": "  Census Year  Total Population Census Cost Average Cost Per Person\n0        1790           3929214     $44,377              1.13 cents\n1        1800           5308483     $66,109              1.24 cents\n2        1810           7239881    $178,445              2.46 cents\n3        1820           9633822    $208,526              2.16 cents\n4        1830          12866020    $378,545              2.94 cents",
            "text/html": "<div>\n<style scoped>\n    .dataframe tbody tr th:only-of-type {\n        vertical-align: middle;\n    }\n\n    .dataframe tbody tr th {\n        vertical-align: top;\n    }\n\n    .dataframe thead th {\n        text-align: right;\n    }\n</style>\n<table border=\"1\" class=\"dataframe\">\n  <thead>\n    <tr style=\"text-align: right;\">\n      <th></th>\n      <th>Census Year</th>\n      <th>Total Population</th>\n      <th>Census Cost</th>\n      <th>Average Cost Per Person</th>\n    </tr>\n  </thead>\n  <tbody>\n    <tr>\n      <th>0</th>\n      <td>1790</td>\n      <td>3929214</td>\n      <td>$44,377</td>\n      <td>1.13 cents</td>\n    </tr>\n    <tr>\n      <th>1</th>\n      <td>1800</td>\n      <td>5308483</td>\n      <td>$66,109</td>\n      <td>1.24 cents</td>\n    </tr>\n    <tr>\n      <th>2</th>\n      <td>1810</td>\n      <td>7239881</td>\n      <td>$178,445</td>\n      <td>2.46 cents</td>\n    </tr>\n    <tr>\n      <th>3</th>\n      <td>1820</td>\n      <td>9633822</td>\n      <td>$208,526</td>\n      <td>2.16 cents</td>\n    </tr>\n    <tr>\n      <th>4</th>\n      <td>1830</td>\n      <td>12866020</td>\n      <td>$378,545</td>\n      <td>2.94 cents</td>\n    </tr>\n  </tbody>\n</table>\n</div>"
          },
          "metadata": {}
        }
      ],
      "execution_count": 5
    },
    {
      "cell_type": "code",
      "source": "df1.isnull()",
      "metadata": {
        "tags": [],
        "cell_id": "00007-b31707dd-c869-4acf-bbd9-23aa11e81a54",
        "deepnote_to_be_reexecuted": false,
        "source_hash": "3b026643",
        "execution_millis": 21,
        "execution_start": 1616986607255,
        "deepnote_cell_type": "code"
      },
      "outputs": [
        {
          "output_type": "execute_result",
          "execution_count": 6,
          "data": {
            "application/vnd.deepnote.dataframe.v2+json": {
              "row_count": 23,
              "column_count": 4,
              "columns": [
                {
                  "name": "Census Year",
                  "dtype": "bool",
                  "stats": {
                    "unique_count": 1,
                    "nan_count": 0,
                    "categories": [
                      {
                        "name": "False",
                        "count": 23
                      }
                    ]
                  }
                },
                {
                  "name": "Total Population",
                  "dtype": "bool",
                  "stats": {
                    "unique_count": 1,
                    "nan_count": 0,
                    "categories": [
                      {
                        "name": "False",
                        "count": 23
                      }
                    ]
                  }
                },
                {
                  "name": "Census Cost",
                  "dtype": "bool",
                  "stats": {
                    "unique_count": 1,
                    "nan_count": 0,
                    "categories": [
                      {
                        "name": "False",
                        "count": 23
                      }
                    ]
                  }
                },
                {
                  "name": "Average Cost Per Person",
                  "dtype": "bool",
                  "stats": {
                    "unique_count": 1,
                    "nan_count": 0,
                    "categories": [
                      {
                        "name": "False",
                        "count": 23
                      }
                    ]
                  }
                },
                {
                  "name": "_deepnote_index_column",
                  "dtype": "int64"
                }
              ],
              "rows_top": [
                {
                  "Census Year": false,
                  "Total Population": false,
                  "Census Cost": false,
                  "Average Cost Per Person": false,
                  "_deepnote_index_column": 0
                },
                {
                  "Census Year": false,
                  "Total Population": false,
                  "Census Cost": false,
                  "Average Cost Per Person": false,
                  "_deepnote_index_column": 1
                },
                {
                  "Census Year": false,
                  "Total Population": false,
                  "Census Cost": false,
                  "Average Cost Per Person": false,
                  "_deepnote_index_column": 2
                },
                {
                  "Census Year": false,
                  "Total Population": false,
                  "Census Cost": false,
                  "Average Cost Per Person": false,
                  "_deepnote_index_column": 3
                },
                {
                  "Census Year": false,
                  "Total Population": false,
                  "Census Cost": false,
                  "Average Cost Per Person": false,
                  "_deepnote_index_column": 4
                },
                {
                  "Census Year": false,
                  "Total Population": false,
                  "Census Cost": false,
                  "Average Cost Per Person": false,
                  "_deepnote_index_column": 5
                },
                {
                  "Census Year": false,
                  "Total Population": false,
                  "Census Cost": false,
                  "Average Cost Per Person": false,
                  "_deepnote_index_column": 6
                },
                {
                  "Census Year": false,
                  "Total Population": false,
                  "Census Cost": false,
                  "Average Cost Per Person": false,
                  "_deepnote_index_column": 7
                },
                {
                  "Census Year": false,
                  "Total Population": false,
                  "Census Cost": false,
                  "Average Cost Per Person": false,
                  "_deepnote_index_column": 8
                },
                {
                  "Census Year": false,
                  "Total Population": false,
                  "Census Cost": false,
                  "Average Cost Per Person": false,
                  "_deepnote_index_column": 9
                },
                {
                  "Census Year": false,
                  "Total Population": false,
                  "Census Cost": false,
                  "Average Cost Per Person": false,
                  "_deepnote_index_column": 10
                },
                {
                  "Census Year": false,
                  "Total Population": false,
                  "Census Cost": false,
                  "Average Cost Per Person": false,
                  "_deepnote_index_column": 11
                },
                {
                  "Census Year": false,
                  "Total Population": false,
                  "Census Cost": false,
                  "Average Cost Per Person": false,
                  "_deepnote_index_column": 12
                },
                {
                  "Census Year": false,
                  "Total Population": false,
                  "Census Cost": false,
                  "Average Cost Per Person": false,
                  "_deepnote_index_column": 13
                },
                {
                  "Census Year": false,
                  "Total Population": false,
                  "Census Cost": false,
                  "Average Cost Per Person": false,
                  "_deepnote_index_column": 14
                },
                {
                  "Census Year": false,
                  "Total Population": false,
                  "Census Cost": false,
                  "Average Cost Per Person": false,
                  "_deepnote_index_column": 15
                },
                {
                  "Census Year": false,
                  "Total Population": false,
                  "Census Cost": false,
                  "Average Cost Per Person": false,
                  "_deepnote_index_column": 16
                },
                {
                  "Census Year": false,
                  "Total Population": false,
                  "Census Cost": false,
                  "Average Cost Per Person": false,
                  "_deepnote_index_column": 17
                },
                {
                  "Census Year": false,
                  "Total Population": false,
                  "Census Cost": false,
                  "Average Cost Per Person": false,
                  "_deepnote_index_column": 18
                },
                {
                  "Census Year": false,
                  "Total Population": false,
                  "Census Cost": false,
                  "Average Cost Per Person": false,
                  "_deepnote_index_column": 19
                },
                {
                  "Census Year": false,
                  "Total Population": false,
                  "Census Cost": false,
                  "Average Cost Per Person": false,
                  "_deepnote_index_column": 20
                },
                {
                  "Census Year": false,
                  "Total Population": false,
                  "Census Cost": false,
                  "Average Cost Per Person": false,
                  "_deepnote_index_column": 21
                },
                {
                  "Census Year": false,
                  "Total Population": false,
                  "Census Cost": false,
                  "Average Cost Per Person": false,
                  "_deepnote_index_column": 22
                }
              ],
              "rows_bottom": null
            },
            "text/plain": "    Census Year  Total Population  Census Cost  Average Cost Per Person\n0         False             False        False                    False\n1         False             False        False                    False\n2         False             False        False                    False\n3         False             False        False                    False\n4         False             False        False                    False\n5         False             False        False                    False\n6         False             False        False                    False\n7         False             False        False                    False\n8         False             False        False                    False\n9         False             False        False                    False\n10        False             False        False                    False\n11        False             False        False                    False\n12        False             False        False                    False\n13        False             False        False                    False\n14        False             False        False                    False\n15        False             False        False                    False\n16        False             False        False                    False\n17        False             False        False                    False\n18        False             False        False                    False\n19        False             False        False                    False\n20        False             False        False                    False\n21        False             False        False                    False\n22        False             False        False                    False",
            "text/html": "<div>\n<style scoped>\n    .dataframe tbody tr th:only-of-type {\n        vertical-align: middle;\n    }\n\n    .dataframe tbody tr th {\n        vertical-align: top;\n    }\n\n    .dataframe thead th {\n        text-align: right;\n    }\n</style>\n<table border=\"1\" class=\"dataframe\">\n  <thead>\n    <tr style=\"text-align: right;\">\n      <th></th>\n      <th>Census Year</th>\n      <th>Total Population</th>\n      <th>Census Cost</th>\n      <th>Average Cost Per Person</th>\n    </tr>\n  </thead>\n  <tbody>\n    <tr>\n      <th>0</th>\n      <td>False</td>\n      <td>False</td>\n      <td>False</td>\n      <td>False</td>\n    </tr>\n    <tr>\n      <th>1</th>\n      <td>False</td>\n      <td>False</td>\n      <td>False</td>\n      <td>False</td>\n    </tr>\n    <tr>\n      <th>2</th>\n      <td>False</td>\n      <td>False</td>\n      <td>False</td>\n      <td>False</td>\n    </tr>\n    <tr>\n      <th>3</th>\n      <td>False</td>\n      <td>False</td>\n      <td>False</td>\n      <td>False</td>\n    </tr>\n    <tr>\n      <th>4</th>\n      <td>False</td>\n      <td>False</td>\n      <td>False</td>\n      <td>False</td>\n    </tr>\n    <tr>\n      <th>5</th>\n      <td>False</td>\n      <td>False</td>\n      <td>False</td>\n      <td>False</td>\n    </tr>\n    <tr>\n      <th>6</th>\n      <td>False</td>\n      <td>False</td>\n      <td>False</td>\n      <td>False</td>\n    </tr>\n    <tr>\n      <th>7</th>\n      <td>False</td>\n      <td>False</td>\n      <td>False</td>\n      <td>False</td>\n    </tr>\n    <tr>\n      <th>8</th>\n      <td>False</td>\n      <td>False</td>\n      <td>False</td>\n      <td>False</td>\n    </tr>\n    <tr>\n      <th>9</th>\n      <td>False</td>\n      <td>False</td>\n      <td>False</td>\n      <td>False</td>\n    </tr>\n    <tr>\n      <th>10</th>\n      <td>False</td>\n      <td>False</td>\n      <td>False</td>\n      <td>False</td>\n    </tr>\n    <tr>\n      <th>11</th>\n      <td>False</td>\n      <td>False</td>\n      <td>False</td>\n      <td>False</td>\n    </tr>\n    <tr>\n      <th>12</th>\n      <td>False</td>\n      <td>False</td>\n      <td>False</td>\n      <td>False</td>\n    </tr>\n    <tr>\n      <th>13</th>\n      <td>False</td>\n      <td>False</td>\n      <td>False</td>\n      <td>False</td>\n    </tr>\n    <tr>\n      <th>14</th>\n      <td>False</td>\n      <td>False</td>\n      <td>False</td>\n      <td>False</td>\n    </tr>\n    <tr>\n      <th>15</th>\n      <td>False</td>\n      <td>False</td>\n      <td>False</td>\n      <td>False</td>\n    </tr>\n    <tr>\n      <th>16</th>\n      <td>False</td>\n      <td>False</td>\n      <td>False</td>\n      <td>False</td>\n    </tr>\n    <tr>\n      <th>17</th>\n      <td>False</td>\n      <td>False</td>\n      <td>False</td>\n      <td>False</td>\n    </tr>\n    <tr>\n      <th>18</th>\n      <td>False</td>\n      <td>False</td>\n      <td>False</td>\n      <td>False</td>\n    </tr>\n    <tr>\n      <th>19</th>\n      <td>False</td>\n      <td>False</td>\n      <td>False</td>\n      <td>False</td>\n    </tr>\n    <tr>\n      <th>20</th>\n      <td>False</td>\n      <td>False</td>\n      <td>False</td>\n      <td>False</td>\n    </tr>\n    <tr>\n      <th>21</th>\n      <td>False</td>\n      <td>False</td>\n      <td>False</td>\n      <td>False</td>\n    </tr>\n    <tr>\n      <th>22</th>\n      <td>False</td>\n      <td>False</td>\n      <td>False</td>\n      <td>False</td>\n    </tr>\n  </tbody>\n</table>\n</div>"
          },
          "metadata": {}
        }
      ],
      "execution_count": 6
    },
    {
      "cell_type": "code",
      "source": "df1.info()",
      "metadata": {
        "tags": [],
        "cell_id": "00008-3107a3ae-8a41-4b00-8168-021a15be3a6f",
        "deepnote_to_be_reexecuted": false,
        "source_hash": "a281dd21",
        "execution_millis": 111,
        "execution_start": 1616986607280,
        "deepnote_cell_type": "code"
      },
      "outputs": [
        {
          "name": "stdout",
          "text": "<class 'pandas.core.frame.DataFrame'>\nRangeIndex: 23 entries, 0 to 22\nData columns (total 4 columns):\n #   Column                   Non-Null Count  Dtype \n---  ------                   --------------  ----- \n 0   Census Year              23 non-null     object\n 1   Total Population         23 non-null     int64 \n 2   Census Cost              23 non-null     object\n 3   Average Cost Per Person  23 non-null     object\ndtypes: int64(1), object(3)\nmemory usage: 864.0+ bytes\n",
          "output_type": "stream"
        }
      ],
      "execution_count": 7
    },
    {
      "cell_type": "code",
      "source": "print(df1.columns)\nprint(df1.index)",
      "metadata": {
        "tags": [],
        "cell_id": "00009-a4295380-cb00-4ac4-ac49-54dc2c46ff0c",
        "deepnote_to_be_reexecuted": false,
        "source_hash": "f9e5fb66",
        "execution_millis": 85,
        "execution_start": 1616986607306,
        "deepnote_cell_type": "code"
      },
      "outputs": [
        {
          "name": "stdout",
          "text": "Index(['Census Year', 'Total Population', 'Census Cost',\n       'Average Cost Per Person'],\n      dtype='object')\nRangeIndex(start=0, stop=23, step=1)\n",
          "output_type": "stream"
        }
      ],
      "execution_count": 8
    },
    {
      "cell_type": "markdown",
      "source": "## Requirement #4:\n\n##### Document the data quality issues using a Markdown cell so the reader understands what the problems are.",
      "metadata": {
        "tags": [],
        "cell_id": "00012-9186af3a-a3d8-4edf-969b-35279d52b5cd",
        "deepnote_cell_type": "markdown"
      }
    },
    {
      "cell_type": "markdown",
      "source": "##### The entire dataframe below contains dirty data and it would require cleaning of all columns in the dataframe. \n##### For example: \n- The Census Year column have an astrisk within one of the string values\n- From the raw texr file, The Total Population column appears to have commas(,) in the raw data values instead of intefers values\n- The Census Cost Average column has string values with ('$') , (',') and ('Billion') instead of integers values \n- The Average Cost Per Person column have string values that some contains the word 'cents' and cash symbol('$')\n",
      "metadata": {
        "tags": [],
        "cell_id": "00013-a148b5ba-bced-480c-b9c5-d200fb25153e",
        "deepnote_cell_type": "markdown"
      }
    },
    {
      "cell_type": "code",
      "source": "print(df1)",
      "metadata": {
        "tags": [],
        "cell_id": "00010-033fa665-7d1f-4417-80b8-85acaee8ddfa",
        "deepnote_to_be_reexecuted": false,
        "source_hash": "674dd8a8",
        "execution_millis": 70,
        "execution_start": 1616986607321,
        "deepnote_cell_type": "code"
      },
      "outputs": [
        {
          "name": "stdout",
          "text": "   Census Year  Total Population     Census Cost Average Cost Per Person\n0         1790           3929214         $44,377              1.13 cents\n1         1800           5308483         $66,109              1.24 cents\n2         1810           7239881        $178,445              2.46 cents\n3         1820           9633822        $208,526              2.16 cents\n4         1830          12866020        $378,545              2.94 cents\n5         1840          17069458        $833,371              4.88 cents\n6         1850          23191876      $1,423,351              6.14 cents\n7         1860          31443321      $1,969,377              6.26 cents\n8         1870          38558371      $3,421,198              8.87 cents\n9         1880          50155783      $5,790,678             11.54 cents\n10        1890          62979766     $11,547,127             18.33 cents\n11        1900          76303387     $11,854,000             15.54 cents\n12        1910          91972266     $15,968,000             17.07 cents\n13        1920         105710620     $25,117,000             23.76 cents\n14        1930         122775046     $40,156,000             32.71 cents\n15        1940         131669275     $67,527,000             51.29 cents\n16        1950         151325798     $91,462,000             60.44 cents\n17        1960         179323175    $127,934,000             71.34 cents\n18        1970         203302031    $247,653,000                   $1.22\n19        1980         226542199  $1,078,488,000                   $4.76\n20        1990         248718301  $2,492,830,000                  $10.02\n21        2000         281421906    $4.5 Billion                  $15.99\n22       2010*         308745538     $13 Billion                  $42.11\n",
          "output_type": "stream"
        }
      ],
      "execution_count": 9
    },
    {
      "cell_type": "markdown",
      "source": "## Requirement #5:\n### Write a function named cleanse_year() that takes a string as input and removes any asterisks in the string and return the cleansed string. Test the function by using test strings",
      "metadata": {
        "tags": [],
        "cell_id": "00015-ab70fc3e-107c-4164-bd1d-35cd9732f5aa",
        "deepnote_cell_type": "markdown"
      }
    },
    {
      "cell_type": "code",
      "source": "# Test code\nyear_list = ['123*', '239*0', '*2928']\n\nfor ele in year_list:\n    print(ele.replace(\"*\",\"\"))\n    ",
      "metadata": {
        "tags": [],
        "cell_id": "00016-d73046ea-9440-4aad-bf00-8562dfba4b5f",
        "deepnote_to_be_reexecuted": false,
        "source_hash": "95824125",
        "execution_millis": 52,
        "execution_start": 1616986607339,
        "deepnote_cell_type": "code"
      },
      "outputs": [
        {
          "name": "stdout",
          "text": "123\n2390\n2928\n",
          "output_type": "stream"
        }
      ],
      "execution_count": 10
    },
    {
      "cell_type": "code",
      "source": "def cleanse_year(raw_col):\n\n    year_colm = raw_col.replace(\"*\",\"\")\n    return year_colm\n     ",
      "metadata": {
        "tags": [],
        "cell_id": "00013-555cde2c-4978-4171-9db9-23c5c98b6dde",
        "deepnote_to_be_reexecuted": false,
        "source_hash": "c4e68a80",
        "execution_millis": 9,
        "execution_start": 1616986607357,
        "deepnote_cell_type": "code"
      },
      "outputs": [],
      "execution_count": 11
    },
    {
      "cell_type": "markdown",
      "source": "## Requirement #6 :\n### Cleanse the column \"Census Year\" using the function cleanse_year() and Pandas's apply() function.",
      "metadata": {
        "tags": [],
        "cell_id": "00018-e000a067-a46c-4878-b9cf-63152db6422f",
        "deepnote_cell_type": "markdown"
      }
    },
    {
      "cell_type": "code",
      "source": " df1[\"Census Year\"] =df1[\"Census Year\"].apply(cleanse_year)\n df1[\"Census Year\"]",
      "metadata": {
        "tags": [],
        "cell_id": "00014-c7ad1348-0777-41ea-84a3-5a38d62fa3ff",
        "deepnote_to_be_reexecuted": false,
        "source_hash": "335ee417",
        "execution_millis": 65,
        "execution_start": 1616986607373,
        "deepnote_cell_type": "code"
      },
      "outputs": [
        {
          "output_type": "execute_result",
          "execution_count": 12,
          "data": {
            "text/plain": "0     1790\n1     1800\n2     1810\n3     1820\n4     1830\n5     1840\n6     1850\n7     1860\n8     1870\n9     1880\n10    1890\n11    1900\n12    1910\n13    1920\n14    1930\n15    1940\n16    1950\n17    1960\n18    1970\n19    1980\n20    1990\n21    2000\n22    2010\nName: Census Year, dtype: object"
          },
          "metadata": {}
        }
      ],
      "execution_count": 12
    },
    {
      "cell_type": "code",
      "source": "df1.tail()",
      "metadata": {
        "tags": [],
        "cell_id": "00015-40744e12-5b6e-4c9f-a70f-e7c97b97e1fb",
        "deepnote_to_be_reexecuted": false,
        "source_hash": "53bc847",
        "execution_millis": 12,
        "execution_start": 1616986607426,
        "deepnote_cell_type": "code"
      },
      "outputs": [
        {
          "output_type": "execute_result",
          "execution_count": 13,
          "data": {
            "application/vnd.deepnote.dataframe.v2+json": {
              "row_count": 5,
              "column_count": 4,
              "columns": [
                {
                  "name": "Census Year",
                  "dtype": "object",
                  "stats": {
                    "unique_count": 5,
                    "nan_count": 0,
                    "categories": [
                      {
                        "name": "1970",
                        "count": 1
                      },
                      {
                        "name": "1980",
                        "count": 1
                      },
                      {
                        "name": "3 others",
                        "count": 3
                      }
                    ]
                  }
                },
                {
                  "name": "Total Population",
                  "dtype": "int64",
                  "stats": {
                    "unique_count": 5,
                    "nan_count": 0,
                    "min": 203302031,
                    "max": 308745538,
                    "histogram": [
                      {
                        "bin_start": 203302031,
                        "bin_end": 213846381.7,
                        "count": 1
                      },
                      {
                        "bin_start": 213846381.7,
                        "bin_end": 224390732.4,
                        "count": 0
                      },
                      {
                        "bin_start": 224390732.4,
                        "bin_end": 234935083.1,
                        "count": 1
                      },
                      {
                        "bin_start": 234935083.1,
                        "bin_end": 245479433.8,
                        "count": 0
                      },
                      {
                        "bin_start": 245479433.8,
                        "bin_end": 256023784.5,
                        "count": 1
                      },
                      {
                        "bin_start": 256023784.5,
                        "bin_end": 266568135.2,
                        "count": 0
                      },
                      {
                        "bin_start": 266568135.2,
                        "bin_end": 277112485.9,
                        "count": 0
                      },
                      {
                        "bin_start": 277112485.9,
                        "bin_end": 287656836.6,
                        "count": 1
                      },
                      {
                        "bin_start": 287656836.6,
                        "bin_end": 298201187.3,
                        "count": 0
                      },
                      {
                        "bin_start": 298201187.3,
                        "bin_end": 308745538,
                        "count": 1
                      }
                    ]
                  }
                },
                {
                  "name": "Census Cost",
                  "dtype": "object",
                  "stats": {
                    "unique_count": 5,
                    "nan_count": 0,
                    "categories": [
                      {
                        "name": "$247,653,000",
                        "count": 1
                      },
                      {
                        "name": "$1,078,488,000",
                        "count": 1
                      },
                      {
                        "name": "3 others",
                        "count": 3
                      }
                    ]
                  }
                },
                {
                  "name": "Average Cost Per Person",
                  "dtype": "object",
                  "stats": {
                    "unique_count": 5,
                    "nan_count": 0,
                    "categories": [
                      {
                        "name": "$1.22",
                        "count": 1
                      },
                      {
                        "name": "$4.76",
                        "count": 1
                      },
                      {
                        "name": "3 others",
                        "count": 3
                      }
                    ]
                  }
                },
                {
                  "name": "_deepnote_index_column",
                  "dtype": "int64"
                }
              ],
              "rows_top": [
                {
                  "Census Year": "1970",
                  "Total Population": 203302031,
                  "Census Cost": "$247,653,000",
                  "Average Cost Per Person": "$1.22",
                  "_deepnote_index_column": 18
                },
                {
                  "Census Year": "1980",
                  "Total Population": 226542199,
                  "Census Cost": "$1,078,488,000",
                  "Average Cost Per Person": "$4.76",
                  "_deepnote_index_column": 19
                },
                {
                  "Census Year": "1990",
                  "Total Population": 248718301,
                  "Census Cost": "$2,492,830,000",
                  "Average Cost Per Person": "$10.02",
                  "_deepnote_index_column": 20
                },
                {
                  "Census Year": "2000",
                  "Total Population": 281421906,
                  "Census Cost": "$4.5 Billion",
                  "Average Cost Per Person": "$15.99",
                  "_deepnote_index_column": 21
                },
                {
                  "Census Year": "2010",
                  "Total Population": 308745538,
                  "Census Cost": "$13 Billion",
                  "Average Cost Per Person": "$42.11",
                  "_deepnote_index_column": 22
                }
              ],
              "rows_bottom": null
            },
            "text/plain": "   Census Year  Total Population     Census Cost Average Cost Per Person\n18        1970         203302031    $247,653,000                   $1.22\n19        1980         226542199  $1,078,488,000                   $4.76\n20        1990         248718301  $2,492,830,000                  $10.02\n21        2000         281421906    $4.5 Billion                  $15.99\n22        2010         308745538     $13 Billion                  $42.11",
            "text/html": "<div>\n<style scoped>\n    .dataframe tbody tr th:only-of-type {\n        vertical-align: middle;\n    }\n\n    .dataframe tbody tr th {\n        vertical-align: top;\n    }\n\n    .dataframe thead th {\n        text-align: right;\n    }\n</style>\n<table border=\"1\" class=\"dataframe\">\n  <thead>\n    <tr style=\"text-align: right;\">\n      <th></th>\n      <th>Census Year</th>\n      <th>Total Population</th>\n      <th>Census Cost</th>\n      <th>Average Cost Per Person</th>\n    </tr>\n  </thead>\n  <tbody>\n    <tr>\n      <th>18</th>\n      <td>1970</td>\n      <td>203302031</td>\n      <td>$247,653,000</td>\n      <td>$1.22</td>\n    </tr>\n    <tr>\n      <th>19</th>\n      <td>1980</td>\n      <td>226542199</td>\n      <td>$1,078,488,000</td>\n      <td>$4.76</td>\n    </tr>\n    <tr>\n      <th>20</th>\n      <td>1990</td>\n      <td>248718301</td>\n      <td>$2,492,830,000</td>\n      <td>$10.02</td>\n    </tr>\n    <tr>\n      <th>21</th>\n      <td>2000</td>\n      <td>281421906</td>\n      <td>$4.5 Billion</td>\n      <td>$15.99</td>\n    </tr>\n    <tr>\n      <th>22</th>\n      <td>2010</td>\n      <td>308745538</td>\n      <td>$13 Billion</td>\n      <td>$42.11</td>\n    </tr>\n  </tbody>\n</table>\n</div>"
          },
          "metadata": {}
        }
      ],
      "execution_count": 13
    },
    {
      "cell_type": "markdown",
      "source": "## Requirement #7:\n### Repeat this process for column \"Total Population\", \"Census Cost\", \"Average Cost Per Person\". (define, test, and apply the function)",
      "metadata": {
        "tags": [],
        "cell_id": "00021-ef4268e8-64d5-40e4-acfc-d030439e474e",
        "deepnote_cell_type": "markdown"
      }
    },
    {
      "cell_type": "code",
      "source": "# Test code\ntotal_pop_list = [530483]\n\nfor i in total_pop_list:\n    print(int(i))\n    ",
      "metadata": {
        "tags": [],
        "cell_id": "00022-55e2da09-9069-4096-a55d-026b2bf496fe",
        "deepnote_to_be_reexecuted": false,
        "source_hash": "7815e890",
        "execution_millis": 12,
        "execution_start": 1616986607426,
        "deepnote_cell_type": "code"
      },
      "outputs": [
        {
          "name": "stdout",
          "text": "530483\n",
          "output_type": "stream"
        }
      ],
      "execution_count": 14
    },
    {
      "cell_type": "code",
      "source": "def cleanse_total_population(raw_population):\n    \n    raw_pop = int(raw_population)\n    return raw_pop\n",
      "metadata": {
        "tags": [],
        "cell_id": "00019-cee1764a-ecd6-4a76-bb01-2560e7b2b2a0",
        "deepnote_to_be_reexecuted": false,
        "source_hash": "9c6f1418",
        "execution_millis": 9,
        "execution_start": 1616986607436,
        "deepnote_cell_type": "code"
      },
      "outputs": [],
      "execution_count": 15
    },
    {
      "cell_type": "code",
      "source": " df1[\"Total Population\"] = df1[\"Total Population\"].apply(cleanse_total_population)\n df1[\"Total Population\"]",
      "metadata": {
        "tags": [],
        "cell_id": "00020-aea2dc8c-8686-431e-ad30-9c2a10709fd4",
        "deepnote_to_be_reexecuted": false,
        "source_hash": "571584b9",
        "execution_millis": 12,
        "execution_start": 1616986607455,
        "deepnote_cell_type": "code"
      },
      "outputs": [
        {
          "output_type": "execute_result",
          "execution_count": 16,
          "data": {
            "text/plain": "0       3929214\n1       5308483\n2       7239881\n3       9633822\n4      12866020\n5      17069458\n6      23191876\n7      31443321\n8      38558371\n9      50155783\n10     62979766\n11     76303387\n12     91972266\n13    105710620\n14    122775046\n15    131669275\n16    151325798\n17    179323175\n18    203302031\n19    226542199\n20    248718301\n21    281421906\n22    308745538\nName: Total Population, dtype: int64"
          },
          "metadata": {}
        }
      ],
      "execution_count": 16
    },
    {
      "cell_type": "code",
      "source": "print(df1['Census Cost'][1], type(df1['Census Cost'][1]))",
      "metadata": {
        "tags": [],
        "cell_id": "00022-7e87316c-fcad-480f-86df-1aa20e2fb926",
        "deepnote_to_be_reexecuted": false,
        "source_hash": "6e47f45f",
        "execution_millis": 8,
        "execution_start": 1616986607470,
        "deepnote_cell_type": "code"
      },
      "outputs": [
        {
          "name": "stdout",
          "text": "$66,109 <class 'str'>\n",
          "output_type": "stream"
        }
      ],
      "execution_count": 17
    },
    {
      "cell_type": "code",
      "source": "# Test Code\ncost_list = ['$223,555','$94,455']\n\nfor ele in cost_list:\n    if ele.lstrip().replace('$','').replace(',','').isdigit():\n            print(ele.lstrip().replace('$','').replace(',',''))     \n    else: \n        value_cost = ele.split(' ')\n        if 'Billion' in value_cost:\n            print((int(float(value_cost[0].lstrip().replace('$',''))* 1000000000)))",
      "metadata": {
        "tags": [],
        "cell_id": "00026-0f895b76-ef23-4f28-bb65-347fb9d2c47b",
        "deepnote_to_be_reexecuted": false,
        "source_hash": "8ef6a7b8",
        "execution_millis": 0,
        "execution_start": 1616986607522,
        "deepnote_cell_type": "code"
      },
      "outputs": [
        {
          "name": "stdout",
          "text": "223555\n94455\n",
          "output_type": "stream"
        }
      ],
      "execution_count": 18
    },
    {
      "cell_type": "code",
      "source": "def cleanse_cenus_cost(raw_cost):\n    if raw_cost.lstrip().replace('$','').replace(',','').isdigit():\n        return raw_cost.lstrip().replace('$','').replace(',','')\n       \n    else: \n        val_cost = raw_cost.split(' ')\n        if 'Billion' in val_cost:\n            return (int(float(val_cost[0].lstrip().replace('$',''))* 1000000000))\n\ndf1['Census Cost'].apply(cleanse_cenus_cost)\n",
      "metadata": {
        "tags": [],
        "cell_id": "00024-4546922c-396e-410d-a736-bc7138bbdd64",
        "deepnote_to_be_reexecuted": false,
        "source_hash": "7bed4048",
        "execution_millis": 6,
        "execution_start": 1616986607523,
        "deepnote_cell_type": "code"
      },
      "outputs": [
        {
          "output_type": "execute_result",
          "execution_count": 19,
          "data": {
            "text/plain": "0           44377\n1           66109\n2          178445\n3          208526\n4          378545\n5          833371\n6         1423351\n7         1969377\n8         3421198\n9         5790678\n10       11547127\n11       11854000\n12       15968000\n13       25117000\n14       40156000\n15       67527000\n16       91462000\n17      127934000\n18      247653000\n19     1078488000\n20     2492830000\n21     4500000000\n22    13000000000\nName: Census Cost, dtype: object"
          },
          "metadata": {}
        }
      ],
      "execution_count": 19
    },
    {
      "cell_type": "code",
      "source": "df1['Census Cost'] = df1['Census Cost'].apply(cleanse_cenus_cost)\ndf1['Census Cost']",
      "metadata": {
        "tags": [],
        "cell_id": "00025-7a556240-b6b3-447c-8305-553db962b54d",
        "deepnote_to_be_reexecuted": false,
        "source_hash": "9db2689f",
        "execution_millis": 11,
        "execution_start": 1616986607524,
        "deepnote_cell_type": "code"
      },
      "outputs": [
        {
          "output_type": "execute_result",
          "execution_count": 20,
          "data": {
            "text/plain": "0           44377\n1           66109\n2          178445\n3          208526\n4          378545\n5          833371\n6         1423351\n7         1969377\n8         3421198\n9         5790678\n10       11547127\n11       11854000\n12       15968000\n13       25117000\n14       40156000\n15       67527000\n16       91462000\n17      127934000\n18      247653000\n19     1078488000\n20     2492830000\n21     4500000000\n22    13000000000\nName: Census Cost, dtype: object"
          },
          "metadata": {}
        }
      ],
      "execution_count": 20
    },
    {
      "cell_type": "code",
      "source": "# Test Code\ntest_list = ['41.34 cents', '$10.02']\n\nfor x in test_list :\n    x_value = x.replace(\"cents\",\"\").replace(\"$\",\"\")\n    x_value = float(x_value)\n    print(x_value)\n",
      "metadata": {
        "tags": [],
        "cell_id": "00029-43e25855-31c2-481c-bff0-0ad4e5834c3f",
        "deepnote_to_be_reexecuted": false,
        "source_hash": "936079fe",
        "execution_millis": 17,
        "execution_start": 1616986607532,
        "deepnote_cell_type": "code"
      },
      "outputs": [
        {
          "name": "stdout",
          "text": "41.34\n10.02\n",
          "output_type": "stream"
        }
      ],
      "execution_count": 21
    },
    {
      "cell_type": "code",
      "source": "def cleanse_avg_cost(raw_person):\n    val = raw_person.replace(\"cents\",\"\").replace(\"$\",\"\")\n    return (float(val))\n\ndf1[\"Average Cost Per Person\"].apply(cleanse_avg_cost)",
      "metadata": {
        "tags": [],
        "cell_id": "00023-d8cdf3b8-eccc-4445-b8aa-dd9d438e9add",
        "deepnote_to_be_reexecuted": false,
        "source_hash": "54264804",
        "execution_millis": 13,
        "execution_start": 1616986607553,
        "deepnote_cell_type": "code"
      },
      "outputs": [
        {
          "output_type": "execute_result",
          "execution_count": 22,
          "data": {
            "text/plain": "0      1.13\n1      1.24\n2      2.46\n3      2.16\n4      2.94\n5      4.88\n6      6.14\n7      6.26\n8      8.87\n9     11.54\n10    18.33\n11    15.54\n12    17.07\n13    23.76\n14    32.71\n15    51.29\n16    60.44\n17    71.34\n18     1.22\n19     4.76\n20    10.02\n21    15.99\n22    42.11\nName: Average Cost Per Person, dtype: float64"
          },
          "metadata": {}
        }
      ],
      "execution_count": 22
    },
    {
      "cell_type": "code",
      "source": "df1[\"Average Cost Per Person\"] =  df1[\"Average Cost Per Person\"].apply(cleanse_avg_cost)\ndf1[\"Average Cost Per Person\"] ",
      "metadata": {
        "tags": [],
        "cell_id": "00023-ad91908d-254d-4510-8566-ff4cb7b19793",
        "deepnote_to_be_reexecuted": false,
        "source_hash": "917fe13f",
        "execution_millis": 21,
        "execution_start": 1616986607568,
        "deepnote_cell_type": "code"
      },
      "outputs": [
        {
          "output_type": "execute_result",
          "execution_count": 23,
          "data": {
            "text/plain": "0      1.13\n1      1.24\n2      2.46\n3      2.16\n4      2.94\n5      4.88\n6      6.14\n7      6.26\n8      8.87\n9     11.54\n10    18.33\n11    15.54\n12    17.07\n13    23.76\n14    32.71\n15    51.29\n16    60.44\n17    71.34\n18     1.22\n19     4.76\n20    10.02\n21    15.99\n22    42.11\nName: Average Cost Per Person, dtype: float64"
          },
          "metadata": {}
        }
      ],
      "execution_count": 23
    },
    {
      "cell_type": "markdown",
      "source": "## Updated Dataframe (Clean Data)",
      "metadata": {
        "tags": [],
        "cell_id": "00032-fcacc573-c38d-4e64-8483-6228ec2c3612",
        "deepnote_cell_type": "markdown"
      }
    },
    {
      "cell_type": "code",
      "source": "df1.head()",
      "metadata": {
        "tags": [],
        "cell_id": "00032-55e627be-06a2-4291-ae08-2e8345f79f8e",
        "deepnote_to_be_reexecuted": false,
        "source_hash": "ea6c9ba",
        "execution_millis": 74,
        "execution_start": 1616986786512,
        "deepnote_cell_type": "code"
      },
      "outputs": [
        {
          "output_type": "execute_result",
          "execution_count": 26,
          "data": {
            "application/vnd.deepnote.dataframe.v2+json": {
              "row_count": 5,
              "column_count": 4,
              "columns": [
                {
                  "name": "Census Year",
                  "dtype": "object",
                  "stats": {
                    "unique_count": 5,
                    "nan_count": 0,
                    "categories": [
                      {
                        "name": "1790",
                        "count": 1
                      },
                      {
                        "name": "1800",
                        "count": 1
                      },
                      {
                        "name": "3 others",
                        "count": 3
                      }
                    ]
                  }
                },
                {
                  "name": "Total Population",
                  "dtype": "int64",
                  "stats": {
                    "unique_count": 5,
                    "nan_count": 0,
                    "min": 3929214,
                    "max": 12866020,
                    "histogram": [
                      {
                        "bin_start": 3929214,
                        "bin_end": 4822894.6,
                        "count": 1
                      },
                      {
                        "bin_start": 4822894.6,
                        "bin_end": 5716575.2,
                        "count": 1
                      },
                      {
                        "bin_start": 5716575.2,
                        "bin_end": 6610255.8,
                        "count": 0
                      },
                      {
                        "bin_start": 6610255.8,
                        "bin_end": 7503936.4,
                        "count": 1
                      },
                      {
                        "bin_start": 7503936.4,
                        "bin_end": 8397617,
                        "count": 0
                      },
                      {
                        "bin_start": 8397617,
                        "bin_end": 9291297.6,
                        "count": 0
                      },
                      {
                        "bin_start": 9291297.6,
                        "bin_end": 10184978.2,
                        "count": 1
                      },
                      {
                        "bin_start": 10184978.2,
                        "bin_end": 11078658.8,
                        "count": 0
                      },
                      {
                        "bin_start": 11078658.8,
                        "bin_end": 11972339.399999999,
                        "count": 0
                      },
                      {
                        "bin_start": 11972339.399999999,
                        "bin_end": 12866020,
                        "count": 1
                      }
                    ]
                  }
                },
                {
                  "name": "Census Cost",
                  "dtype": "object",
                  "stats": {
                    "unique_count": 5,
                    "nan_count": 0,
                    "categories": [
                      {
                        "name": "44377",
                        "count": 1
                      },
                      {
                        "name": "66109",
                        "count": 1
                      },
                      {
                        "name": "3 others",
                        "count": 3
                      }
                    ]
                  }
                },
                {
                  "name": "Average Cost Per Person",
                  "dtype": "float64",
                  "stats": {
                    "unique_count": 5,
                    "nan_count": 0,
                    "min": 1.13,
                    "max": 2.94,
                    "histogram": [
                      {
                        "bin_start": 1.13,
                        "bin_end": 1.311,
                        "count": 2
                      },
                      {
                        "bin_start": 1.311,
                        "bin_end": 1.492,
                        "count": 0
                      },
                      {
                        "bin_start": 1.492,
                        "bin_end": 1.6729999999999998,
                        "count": 0
                      },
                      {
                        "bin_start": 1.6729999999999998,
                        "bin_end": 1.8539999999999999,
                        "count": 0
                      },
                      {
                        "bin_start": 1.8539999999999999,
                        "bin_end": 2.035,
                        "count": 0
                      },
                      {
                        "bin_start": 2.035,
                        "bin_end": 2.2159999999999997,
                        "count": 1
                      },
                      {
                        "bin_start": 2.2159999999999997,
                        "bin_end": 2.397,
                        "count": 0
                      },
                      {
                        "bin_start": 2.397,
                        "bin_end": 2.578,
                        "count": 1
                      },
                      {
                        "bin_start": 2.578,
                        "bin_end": 2.759,
                        "count": 0
                      },
                      {
                        "bin_start": 2.759,
                        "bin_end": 2.94,
                        "count": 1
                      }
                    ]
                  }
                },
                {
                  "name": "_deepnote_index_column",
                  "dtype": "int64"
                }
              ],
              "rows_top": [
                {
                  "Census Year": "1790",
                  "Total Population": 3929214,
                  "Census Cost": "44377",
                  "Average Cost Per Person": 1.13,
                  "_deepnote_index_column": 0
                },
                {
                  "Census Year": "1800",
                  "Total Population": 5308483,
                  "Census Cost": "66109",
                  "Average Cost Per Person": 1.24,
                  "_deepnote_index_column": 1
                },
                {
                  "Census Year": "1810",
                  "Total Population": 7239881,
                  "Census Cost": "178445",
                  "Average Cost Per Person": 2.46,
                  "_deepnote_index_column": 2
                },
                {
                  "Census Year": "1820",
                  "Total Population": 9633822,
                  "Census Cost": "208526",
                  "Average Cost Per Person": 2.16,
                  "_deepnote_index_column": 3
                },
                {
                  "Census Year": "1830",
                  "Total Population": 12866020,
                  "Census Cost": "378545",
                  "Average Cost Per Person": 2.94,
                  "_deepnote_index_column": 4
                }
              ],
              "rows_bottom": null
            },
            "text/plain": "  Census Year  Total Population Census Cost  Average Cost Per Person\n0        1790           3929214       44377                     1.13\n1        1800           5308483       66109                     1.24\n2        1810           7239881      178445                     2.46\n3        1820           9633822      208526                     2.16\n4        1830          12866020      378545                     2.94",
            "text/html": "<div>\n<style scoped>\n    .dataframe tbody tr th:only-of-type {\n        vertical-align: middle;\n    }\n\n    .dataframe tbody tr th {\n        vertical-align: top;\n    }\n\n    .dataframe thead th {\n        text-align: right;\n    }\n</style>\n<table border=\"1\" class=\"dataframe\">\n  <thead>\n    <tr style=\"text-align: right;\">\n      <th></th>\n      <th>Census Year</th>\n      <th>Total Population</th>\n      <th>Census Cost</th>\n      <th>Average Cost Per Person</th>\n    </tr>\n  </thead>\n  <tbody>\n    <tr>\n      <th>0</th>\n      <td>1790</td>\n      <td>3929214</td>\n      <td>44377</td>\n      <td>1.13</td>\n    </tr>\n    <tr>\n      <th>1</th>\n      <td>1800</td>\n      <td>5308483</td>\n      <td>66109</td>\n      <td>1.24</td>\n    </tr>\n    <tr>\n      <th>2</th>\n      <td>1810</td>\n      <td>7239881</td>\n      <td>178445</td>\n      <td>2.46</td>\n    </tr>\n    <tr>\n      <th>3</th>\n      <td>1820</td>\n      <td>9633822</td>\n      <td>208526</td>\n      <td>2.16</td>\n    </tr>\n    <tr>\n      <th>4</th>\n      <td>1830</td>\n      <td>12866020</td>\n      <td>378545</td>\n      <td>2.94</td>\n    </tr>\n  </tbody>\n</table>\n</div>"
          },
          "metadata": {}
        }
      ],
      "execution_count": 26
    },
    {
      "cell_type": "markdown",
      "source": "## Requirement #8:\n### After all columns are cleansed, save the clenased dataframe to a file named \"census_cost_cleansed.csv\" using CSV format.",
      "metadata": {
        "tags": [],
        "cell_id": "00034-748dd089-3fa5-40a6-a116-4be9062f5a11",
        "deepnote_cell_type": "markdown"
      }
    },
    {
      "cell_type": "code",
      "source": "cleanse_df = df1\n\ncleanse_df.to_csv('census_cost_cleansed.csv',index = False, header =True)",
      "metadata": {
        "tags": [],
        "cell_id": "00035-1e6976cb-d029-49a3-a257-5e258cde2055",
        "deepnote_to_be_reexecuted": false,
        "source_hash": "39a84638",
        "execution_millis": 1,
        "execution_start": 1616988168194,
        "deepnote_cell_type": "code"
      },
      "outputs": [],
      "execution_count": 46
    },
    {
      "cell_type": "markdown",
      "source": "## Requirement #9:\n### Use Pandas to read the saved cleansed file and explore to make sure it is clean.",
      "metadata": {
        "tags": [],
        "cell_id": "00036-c2f80f3a-8a22-4522-841c-a88753b2f443",
        "deepnote_cell_type": "markdown"
      }
    },
    {
      "cell_type": "code",
      "source": "df =pd.read_csv('census_cost_cleansed.csv')\ndf",
      "metadata": {
        "tags": [],
        "cell_id": "00036-d561f4a1-3a95-4347-b3e5-06f3b88c6e79",
        "deepnote_to_be_reexecuted": false,
        "source_hash": "c89bd8ef",
        "execution_millis": 42,
        "execution_start": 1616988393263,
        "deepnote_cell_type": "code"
      },
      "outputs": [
        {
          "output_type": "execute_result",
          "execution_count": 48,
          "data": {
            "application/vnd.deepnote.dataframe.v2+json": {
              "row_count": 23,
              "column_count": 4,
              "columns": [
                {
                  "name": "Census Year",
                  "dtype": "int64",
                  "stats": {
                    "unique_count": 23,
                    "nan_count": 0,
                    "min": 1790,
                    "max": 2010,
                    "histogram": [
                      {
                        "bin_start": 1790,
                        "bin_end": 1812,
                        "count": 3
                      },
                      {
                        "bin_start": 1812,
                        "bin_end": 1834,
                        "count": 2
                      },
                      {
                        "bin_start": 1834,
                        "bin_end": 1856,
                        "count": 2
                      },
                      {
                        "bin_start": 1856,
                        "bin_end": 1878,
                        "count": 2
                      },
                      {
                        "bin_start": 1878,
                        "bin_end": 1900,
                        "count": 2
                      },
                      {
                        "bin_start": 1900,
                        "bin_end": 1922,
                        "count": 3
                      },
                      {
                        "bin_start": 1922,
                        "bin_end": 1944,
                        "count": 2
                      },
                      {
                        "bin_start": 1944,
                        "bin_end": 1966,
                        "count": 2
                      },
                      {
                        "bin_start": 1966,
                        "bin_end": 1988,
                        "count": 2
                      },
                      {
                        "bin_start": 1988,
                        "bin_end": 2010,
                        "count": 3
                      }
                    ]
                  }
                },
                {
                  "name": "Total Population",
                  "dtype": "int64",
                  "stats": {
                    "unique_count": 23,
                    "nan_count": 0,
                    "min": 3929214,
                    "max": 308745538,
                    "histogram": [
                      {
                        "bin_start": 3929214,
                        "bin_end": 34410846.4,
                        "count": 8
                      },
                      {
                        "bin_start": 34410846.4,
                        "bin_end": 64892478.8,
                        "count": 3
                      },
                      {
                        "bin_start": 64892478.8,
                        "bin_end": 95374111.19999999,
                        "count": 2
                      },
                      {
                        "bin_start": 95374111.19999999,
                        "bin_end": 125855743.6,
                        "count": 2
                      },
                      {
                        "bin_start": 125855743.6,
                        "bin_end": 156337376,
                        "count": 2
                      },
                      {
                        "bin_start": 156337376,
                        "bin_end": 186819008.39999998,
                        "count": 1
                      },
                      {
                        "bin_start": 186819008.39999998,
                        "bin_end": 217300640.79999998,
                        "count": 1
                      },
                      {
                        "bin_start": 217300640.79999998,
                        "bin_end": 247782273.2,
                        "count": 1
                      },
                      {
                        "bin_start": 247782273.2,
                        "bin_end": 278263905.59999996,
                        "count": 1
                      },
                      {
                        "bin_start": 278263905.59999996,
                        "bin_end": 308745538,
                        "count": 2
                      }
                    ]
                  }
                },
                {
                  "name": "Census Cost",
                  "dtype": "int64",
                  "stats": {
                    "unique_count": 23,
                    "nan_count": 0,
                    "min": 44377,
                    "max": 13000000000,
                    "histogram": [
                      {
                        "bin_start": 44377,
                        "bin_end": 1300039939.3,
                        "count": 20
                      },
                      {
                        "bin_start": 1300039939.3,
                        "bin_end": 2600035501.6,
                        "count": 1
                      },
                      {
                        "bin_start": 2600035501.6,
                        "bin_end": 3900031063.8999996,
                        "count": 0
                      },
                      {
                        "bin_start": 3900031063.8999996,
                        "bin_end": 5200026626.2,
                        "count": 1
                      },
                      {
                        "bin_start": 5200026626.2,
                        "bin_end": 6500022188.5,
                        "count": 0
                      },
                      {
                        "bin_start": 6500022188.5,
                        "bin_end": 7800017750.799999,
                        "count": 0
                      },
                      {
                        "bin_start": 7800017750.799999,
                        "bin_end": 9100013313.1,
                        "count": 0
                      },
                      {
                        "bin_start": 9100013313.1,
                        "bin_end": 10400008875.4,
                        "count": 0
                      },
                      {
                        "bin_start": 10400008875.4,
                        "bin_end": 11700004437.699999,
                        "count": 0
                      },
                      {
                        "bin_start": 11700004437.699999,
                        "bin_end": 13000000000,
                        "count": 1
                      }
                    ]
                  }
                },
                {
                  "name": "Average Cost Per Person",
                  "dtype": "float64",
                  "stats": {
                    "unique_count": 23,
                    "nan_count": 0,
                    "min": 1.13,
                    "max": 71.34,
                    "histogram": [
                      {
                        "bin_start": 1.13,
                        "bin_end": 8.151,
                        "count": 10
                      },
                      {
                        "bin_start": 8.151,
                        "bin_end": 15.172,
                        "count": 3
                      },
                      {
                        "bin_start": 15.172,
                        "bin_end": 22.193,
                        "count": 4
                      },
                      {
                        "bin_start": 22.193,
                        "bin_end": 29.214000000000002,
                        "count": 1
                      },
                      {
                        "bin_start": 29.214000000000002,
                        "bin_end": 36.23500000000001,
                        "count": 1
                      },
                      {
                        "bin_start": 36.23500000000001,
                        "bin_end": 43.25600000000001,
                        "count": 1
                      },
                      {
                        "bin_start": 43.25600000000001,
                        "bin_end": 50.27700000000001,
                        "count": 0
                      },
                      {
                        "bin_start": 50.27700000000001,
                        "bin_end": 57.29800000000001,
                        "count": 1
                      },
                      {
                        "bin_start": 57.29800000000001,
                        "bin_end": 64.319,
                        "count": 1
                      },
                      {
                        "bin_start": 64.319,
                        "bin_end": 71.34,
                        "count": 1
                      }
                    ]
                  }
                },
                {
                  "name": "_deepnote_index_column",
                  "dtype": "int64"
                }
              ],
              "rows_top": [
                {
                  "Census Year": 1790,
                  "Total Population": 3929214,
                  "Census Cost": 44377,
                  "Average Cost Per Person": 1.13,
                  "_deepnote_index_column": 0
                },
                {
                  "Census Year": 1800,
                  "Total Population": 5308483,
                  "Census Cost": 66109,
                  "Average Cost Per Person": 1.24,
                  "_deepnote_index_column": 1
                },
                {
                  "Census Year": 1810,
                  "Total Population": 7239881,
                  "Census Cost": 178445,
                  "Average Cost Per Person": 2.46,
                  "_deepnote_index_column": 2
                },
                {
                  "Census Year": 1820,
                  "Total Population": 9633822,
                  "Census Cost": 208526,
                  "Average Cost Per Person": 2.16,
                  "_deepnote_index_column": 3
                },
                {
                  "Census Year": 1830,
                  "Total Population": 12866020,
                  "Census Cost": 378545,
                  "Average Cost Per Person": 2.94,
                  "_deepnote_index_column": 4
                },
                {
                  "Census Year": 1840,
                  "Total Population": 17069458,
                  "Census Cost": 833371,
                  "Average Cost Per Person": 4.88,
                  "_deepnote_index_column": 5
                },
                {
                  "Census Year": 1850,
                  "Total Population": 23191876,
                  "Census Cost": 1423351,
                  "Average Cost Per Person": 6.14,
                  "_deepnote_index_column": 6
                },
                {
                  "Census Year": 1860,
                  "Total Population": 31443321,
                  "Census Cost": 1969377,
                  "Average Cost Per Person": 6.26,
                  "_deepnote_index_column": 7
                },
                {
                  "Census Year": 1870,
                  "Total Population": 38558371,
                  "Census Cost": 3421198,
                  "Average Cost Per Person": 8.87,
                  "_deepnote_index_column": 8
                },
                {
                  "Census Year": 1880,
                  "Total Population": 50155783,
                  "Census Cost": 5790678,
                  "Average Cost Per Person": 11.54,
                  "_deepnote_index_column": 9
                },
                {
                  "Census Year": 1890,
                  "Total Population": 62979766,
                  "Census Cost": 11547127,
                  "Average Cost Per Person": 18.33,
                  "_deepnote_index_column": 10
                },
                {
                  "Census Year": 1900,
                  "Total Population": 76303387,
                  "Census Cost": 11854000,
                  "Average Cost Per Person": 15.54,
                  "_deepnote_index_column": 11
                },
                {
                  "Census Year": 1910,
                  "Total Population": 91972266,
                  "Census Cost": 15968000,
                  "Average Cost Per Person": 17.07,
                  "_deepnote_index_column": 12
                },
                {
                  "Census Year": 1920,
                  "Total Population": 105710620,
                  "Census Cost": 25117000,
                  "Average Cost Per Person": 23.76,
                  "_deepnote_index_column": 13
                },
                {
                  "Census Year": 1930,
                  "Total Population": 122775046,
                  "Census Cost": 40156000,
                  "Average Cost Per Person": 32.71,
                  "_deepnote_index_column": 14
                },
                {
                  "Census Year": 1940,
                  "Total Population": 131669275,
                  "Census Cost": 67527000,
                  "Average Cost Per Person": 51.29,
                  "_deepnote_index_column": 15
                },
                {
                  "Census Year": 1950,
                  "Total Population": 151325798,
                  "Census Cost": 91462000,
                  "Average Cost Per Person": 60.44,
                  "_deepnote_index_column": 16
                },
                {
                  "Census Year": 1960,
                  "Total Population": 179323175,
                  "Census Cost": 127934000,
                  "Average Cost Per Person": 71.34,
                  "_deepnote_index_column": 17
                },
                {
                  "Census Year": 1970,
                  "Total Population": 203302031,
                  "Census Cost": 247653000,
                  "Average Cost Per Person": 1.22,
                  "_deepnote_index_column": 18
                },
                {
                  "Census Year": 1980,
                  "Total Population": 226542199,
                  "Census Cost": 1078488000,
                  "Average Cost Per Person": 4.76,
                  "_deepnote_index_column": 19
                },
                {
                  "Census Year": 1990,
                  "Total Population": 248718301,
                  "Census Cost": 2492830000,
                  "Average Cost Per Person": 10.02,
                  "_deepnote_index_column": 20
                },
                {
                  "Census Year": 2000,
                  "Total Population": 281421906,
                  "Census Cost": 4500000000,
                  "Average Cost Per Person": 15.99,
                  "_deepnote_index_column": 21
                },
                {
                  "Census Year": 2010,
                  "Total Population": 308745538,
                  "Census Cost": 13000000000,
                  "Average Cost Per Person": 42.11,
                  "_deepnote_index_column": 22
                }
              ],
              "rows_bottom": null
            },
            "text/plain": "    Census Year  Total Population  Census Cost  Average Cost Per Person\n0          1790           3929214        44377                     1.13\n1          1800           5308483        66109                     1.24\n2          1810           7239881       178445                     2.46\n3          1820           9633822       208526                     2.16\n4          1830          12866020       378545                     2.94\n5          1840          17069458       833371                     4.88\n6          1850          23191876      1423351                     6.14\n7          1860          31443321      1969377                     6.26\n8          1870          38558371      3421198                     8.87\n9          1880          50155783      5790678                    11.54\n10         1890          62979766     11547127                    18.33\n11         1900          76303387     11854000                    15.54\n12         1910          91972266     15968000                    17.07\n13         1920         105710620     25117000                    23.76\n14         1930         122775046     40156000                    32.71\n15         1940         131669275     67527000                    51.29\n16         1950         151325798     91462000                    60.44\n17         1960         179323175    127934000                    71.34\n18         1970         203302031    247653000                     1.22\n19         1980         226542199   1078488000                     4.76\n20         1990         248718301   2492830000                    10.02\n21         2000         281421906   4500000000                    15.99\n22         2010         308745538  13000000000                    42.11",
            "text/html": "<div>\n<style scoped>\n    .dataframe tbody tr th:only-of-type {\n        vertical-align: middle;\n    }\n\n    .dataframe tbody tr th {\n        vertical-align: top;\n    }\n\n    .dataframe thead th {\n        text-align: right;\n    }\n</style>\n<table border=\"1\" class=\"dataframe\">\n  <thead>\n    <tr style=\"text-align: right;\">\n      <th></th>\n      <th>Census Year</th>\n      <th>Total Population</th>\n      <th>Census Cost</th>\n      <th>Average Cost Per Person</th>\n    </tr>\n  </thead>\n  <tbody>\n    <tr>\n      <th>0</th>\n      <td>1790</td>\n      <td>3929214</td>\n      <td>44377</td>\n      <td>1.13</td>\n    </tr>\n    <tr>\n      <th>1</th>\n      <td>1800</td>\n      <td>5308483</td>\n      <td>66109</td>\n      <td>1.24</td>\n    </tr>\n    <tr>\n      <th>2</th>\n      <td>1810</td>\n      <td>7239881</td>\n      <td>178445</td>\n      <td>2.46</td>\n    </tr>\n    <tr>\n      <th>3</th>\n      <td>1820</td>\n      <td>9633822</td>\n      <td>208526</td>\n      <td>2.16</td>\n    </tr>\n    <tr>\n      <th>4</th>\n      <td>1830</td>\n      <td>12866020</td>\n      <td>378545</td>\n      <td>2.94</td>\n    </tr>\n    <tr>\n      <th>5</th>\n      <td>1840</td>\n      <td>17069458</td>\n      <td>833371</td>\n      <td>4.88</td>\n    </tr>\n    <tr>\n      <th>6</th>\n      <td>1850</td>\n      <td>23191876</td>\n      <td>1423351</td>\n      <td>6.14</td>\n    </tr>\n    <tr>\n      <th>7</th>\n      <td>1860</td>\n      <td>31443321</td>\n      <td>1969377</td>\n      <td>6.26</td>\n    </tr>\n    <tr>\n      <th>8</th>\n      <td>1870</td>\n      <td>38558371</td>\n      <td>3421198</td>\n      <td>8.87</td>\n    </tr>\n    <tr>\n      <th>9</th>\n      <td>1880</td>\n      <td>50155783</td>\n      <td>5790678</td>\n      <td>11.54</td>\n    </tr>\n    <tr>\n      <th>10</th>\n      <td>1890</td>\n      <td>62979766</td>\n      <td>11547127</td>\n      <td>18.33</td>\n    </tr>\n    <tr>\n      <th>11</th>\n      <td>1900</td>\n      <td>76303387</td>\n      <td>11854000</td>\n      <td>15.54</td>\n    </tr>\n    <tr>\n      <th>12</th>\n      <td>1910</td>\n      <td>91972266</td>\n      <td>15968000</td>\n      <td>17.07</td>\n    </tr>\n    <tr>\n      <th>13</th>\n      <td>1920</td>\n      <td>105710620</td>\n      <td>25117000</td>\n      <td>23.76</td>\n    </tr>\n    <tr>\n      <th>14</th>\n      <td>1930</td>\n      <td>122775046</td>\n      <td>40156000</td>\n      <td>32.71</td>\n    </tr>\n    <tr>\n      <th>15</th>\n      <td>1940</td>\n      <td>131669275</td>\n      <td>67527000</td>\n      <td>51.29</td>\n    </tr>\n    <tr>\n      <th>16</th>\n      <td>1950</td>\n      <td>151325798</td>\n      <td>91462000</td>\n      <td>60.44</td>\n    </tr>\n    <tr>\n      <th>17</th>\n      <td>1960</td>\n      <td>179323175</td>\n      <td>127934000</td>\n      <td>71.34</td>\n    </tr>\n    <tr>\n      <th>18</th>\n      <td>1970</td>\n      <td>203302031</td>\n      <td>247653000</td>\n      <td>1.22</td>\n    </tr>\n    <tr>\n      <th>19</th>\n      <td>1980</td>\n      <td>226542199</td>\n      <td>1078488000</td>\n      <td>4.76</td>\n    </tr>\n    <tr>\n      <th>20</th>\n      <td>1990</td>\n      <td>248718301</td>\n      <td>2492830000</td>\n      <td>10.02</td>\n    </tr>\n    <tr>\n      <th>21</th>\n      <td>2000</td>\n      <td>281421906</td>\n      <td>4500000000</td>\n      <td>15.99</td>\n    </tr>\n    <tr>\n      <th>22</th>\n      <td>2010</td>\n      <td>308745538</td>\n      <td>13000000000</td>\n      <td>42.11</td>\n    </tr>\n  </tbody>\n</table>\n</div>"
          },
          "metadata": {}
        }
      ],
      "execution_count": 48
    },
    {
      "cell_type": "code",
      "source": "df.head()",
      "metadata": {
        "tags": [],
        "cell_id": "00038-8030051e-c206-48fa-be69-318af682b6f0",
        "deepnote_to_be_reexecuted": false,
        "source_hash": "c085b6ba",
        "execution_start": 1616988496231,
        "execution_millis": 47,
        "deepnote_cell_type": "code"
      },
      "outputs": [
        {
          "output_type": "execute_result",
          "execution_count": 55,
          "data": {
            "application/vnd.deepnote.dataframe.v2+json": {
              "row_count": 5,
              "column_count": 4,
              "columns": [
                {
                  "name": "Census Year",
                  "dtype": "int64",
                  "stats": {
                    "unique_count": 5,
                    "nan_count": 0,
                    "min": 1790,
                    "max": 1830,
                    "histogram": [
                      {
                        "bin_start": 1790,
                        "bin_end": 1794,
                        "count": 1
                      },
                      {
                        "bin_start": 1794,
                        "bin_end": 1798,
                        "count": 0
                      },
                      {
                        "bin_start": 1798,
                        "bin_end": 1802,
                        "count": 1
                      },
                      {
                        "bin_start": 1802,
                        "bin_end": 1806,
                        "count": 0
                      },
                      {
                        "bin_start": 1806,
                        "bin_end": 1810,
                        "count": 0
                      },
                      {
                        "bin_start": 1810,
                        "bin_end": 1814,
                        "count": 1
                      },
                      {
                        "bin_start": 1814,
                        "bin_end": 1818,
                        "count": 0
                      },
                      {
                        "bin_start": 1818,
                        "bin_end": 1822,
                        "count": 1
                      },
                      {
                        "bin_start": 1822,
                        "bin_end": 1826,
                        "count": 0
                      },
                      {
                        "bin_start": 1826,
                        "bin_end": 1830,
                        "count": 1
                      }
                    ]
                  }
                },
                {
                  "name": "Total Population",
                  "dtype": "int64",
                  "stats": {
                    "unique_count": 5,
                    "nan_count": 0,
                    "min": 3929214,
                    "max": 12866020,
                    "histogram": [
                      {
                        "bin_start": 3929214,
                        "bin_end": 4822894.6,
                        "count": 1
                      },
                      {
                        "bin_start": 4822894.6,
                        "bin_end": 5716575.2,
                        "count": 1
                      },
                      {
                        "bin_start": 5716575.2,
                        "bin_end": 6610255.8,
                        "count": 0
                      },
                      {
                        "bin_start": 6610255.8,
                        "bin_end": 7503936.4,
                        "count": 1
                      },
                      {
                        "bin_start": 7503936.4,
                        "bin_end": 8397617,
                        "count": 0
                      },
                      {
                        "bin_start": 8397617,
                        "bin_end": 9291297.6,
                        "count": 0
                      },
                      {
                        "bin_start": 9291297.6,
                        "bin_end": 10184978.2,
                        "count": 1
                      },
                      {
                        "bin_start": 10184978.2,
                        "bin_end": 11078658.8,
                        "count": 0
                      },
                      {
                        "bin_start": 11078658.8,
                        "bin_end": 11972339.399999999,
                        "count": 0
                      },
                      {
                        "bin_start": 11972339.399999999,
                        "bin_end": 12866020,
                        "count": 1
                      }
                    ]
                  }
                },
                {
                  "name": "Census Cost",
                  "dtype": "int64",
                  "stats": {
                    "unique_count": 5,
                    "nan_count": 0,
                    "min": 44377,
                    "max": 378545,
                    "histogram": [
                      {
                        "bin_start": 44377,
                        "bin_end": 77793.8,
                        "count": 2
                      },
                      {
                        "bin_start": 77793.8,
                        "bin_end": 111210.6,
                        "count": 0
                      },
                      {
                        "bin_start": 111210.6,
                        "bin_end": 144627.40000000002,
                        "count": 0
                      },
                      {
                        "bin_start": 144627.40000000002,
                        "bin_end": 178044.2,
                        "count": 0
                      },
                      {
                        "bin_start": 178044.2,
                        "bin_end": 211461,
                        "count": 2
                      },
                      {
                        "bin_start": 211461,
                        "bin_end": 244877.80000000002,
                        "count": 0
                      },
                      {
                        "bin_start": 244877.80000000002,
                        "bin_end": 278294.60000000003,
                        "count": 0
                      },
                      {
                        "bin_start": 278294.60000000003,
                        "bin_end": 311711.4,
                        "count": 0
                      },
                      {
                        "bin_start": 311711.4,
                        "bin_end": 345128.2,
                        "count": 0
                      },
                      {
                        "bin_start": 345128.2,
                        "bin_end": 378545,
                        "count": 1
                      }
                    ]
                  }
                },
                {
                  "name": "Average Cost Per Person",
                  "dtype": "float64",
                  "stats": {
                    "unique_count": 5,
                    "nan_count": 0,
                    "min": 1.13,
                    "max": 2.94,
                    "histogram": [
                      {
                        "bin_start": 1.13,
                        "bin_end": 1.311,
                        "count": 2
                      },
                      {
                        "bin_start": 1.311,
                        "bin_end": 1.492,
                        "count": 0
                      },
                      {
                        "bin_start": 1.492,
                        "bin_end": 1.6729999999999998,
                        "count": 0
                      },
                      {
                        "bin_start": 1.6729999999999998,
                        "bin_end": 1.8539999999999999,
                        "count": 0
                      },
                      {
                        "bin_start": 1.8539999999999999,
                        "bin_end": 2.035,
                        "count": 0
                      },
                      {
                        "bin_start": 2.035,
                        "bin_end": 2.2159999999999997,
                        "count": 1
                      },
                      {
                        "bin_start": 2.2159999999999997,
                        "bin_end": 2.397,
                        "count": 0
                      },
                      {
                        "bin_start": 2.397,
                        "bin_end": 2.578,
                        "count": 1
                      },
                      {
                        "bin_start": 2.578,
                        "bin_end": 2.759,
                        "count": 0
                      },
                      {
                        "bin_start": 2.759,
                        "bin_end": 2.94,
                        "count": 1
                      }
                    ]
                  }
                },
                {
                  "name": "_deepnote_index_column",
                  "dtype": "int64"
                }
              ],
              "rows_top": [
                {
                  "Census Year": 1790,
                  "Total Population": 3929214,
                  "Census Cost": 44377,
                  "Average Cost Per Person": 1.13,
                  "_deepnote_index_column": 0
                },
                {
                  "Census Year": 1800,
                  "Total Population": 5308483,
                  "Census Cost": 66109,
                  "Average Cost Per Person": 1.24,
                  "_deepnote_index_column": 1
                },
                {
                  "Census Year": 1810,
                  "Total Population": 7239881,
                  "Census Cost": 178445,
                  "Average Cost Per Person": 2.46,
                  "_deepnote_index_column": 2
                },
                {
                  "Census Year": 1820,
                  "Total Population": 9633822,
                  "Census Cost": 208526,
                  "Average Cost Per Person": 2.16,
                  "_deepnote_index_column": 3
                },
                {
                  "Census Year": 1830,
                  "Total Population": 12866020,
                  "Census Cost": 378545,
                  "Average Cost Per Person": 2.94,
                  "_deepnote_index_column": 4
                }
              ],
              "rows_bottom": null
            },
            "text/plain": "   Census Year  Total Population  Census Cost  Average Cost Per Person\n0         1790           3929214        44377                     1.13\n1         1800           5308483        66109                     1.24\n2         1810           7239881       178445                     2.46\n3         1820           9633822       208526                     2.16\n4         1830          12866020       378545                     2.94",
            "text/html": "<div>\n<style scoped>\n    .dataframe tbody tr th:only-of-type {\n        vertical-align: middle;\n    }\n\n    .dataframe tbody tr th {\n        vertical-align: top;\n    }\n\n    .dataframe thead th {\n        text-align: right;\n    }\n</style>\n<table border=\"1\" class=\"dataframe\">\n  <thead>\n    <tr style=\"text-align: right;\">\n      <th></th>\n      <th>Census Year</th>\n      <th>Total Population</th>\n      <th>Census Cost</th>\n      <th>Average Cost Per Person</th>\n    </tr>\n  </thead>\n  <tbody>\n    <tr>\n      <th>0</th>\n      <td>1790</td>\n      <td>3929214</td>\n      <td>44377</td>\n      <td>1.13</td>\n    </tr>\n    <tr>\n      <th>1</th>\n      <td>1800</td>\n      <td>5308483</td>\n      <td>66109</td>\n      <td>1.24</td>\n    </tr>\n    <tr>\n      <th>2</th>\n      <td>1810</td>\n      <td>7239881</td>\n      <td>178445</td>\n      <td>2.46</td>\n    </tr>\n    <tr>\n      <th>3</th>\n      <td>1820</td>\n      <td>9633822</td>\n      <td>208526</td>\n      <td>2.16</td>\n    </tr>\n    <tr>\n      <th>4</th>\n      <td>1830</td>\n      <td>12866020</td>\n      <td>378545</td>\n      <td>2.94</td>\n    </tr>\n  </tbody>\n</table>\n</div>"
          },
          "metadata": {}
        }
      ],
      "execution_count": 55
    },
    {
      "cell_type": "code",
      "source": "df.info()",
      "metadata": {
        "tags": [],
        "cell_id": "00036-0d58702e-79f7-409d-9199-7642d2aa1e03",
        "deepnote_to_be_reexecuted": false,
        "source_hash": "de1e323c",
        "execution_millis": 30,
        "execution_start": 1616988446163,
        "deepnote_cell_type": "code"
      },
      "outputs": [
        {
          "name": "stdout",
          "text": "<class 'pandas.core.frame.DataFrame'>\nRangeIndex: 23 entries, 0 to 22\nData columns (total 4 columns):\n #   Column                   Non-Null Count  Dtype  \n---  ------                   --------------  -----  \n 0   Census Year              23 non-null     int64  \n 1   Total Population         23 non-null     int64  \n 2   Census Cost              23 non-null     int64  \n 3   Average Cost Per Person  23 non-null     float64\ndtypes: float64(1), int64(3)\nmemory usage: 864.0 bytes\n",
          "output_type": "stream"
        }
      ],
      "execution_count": 52
    },
    {
      "cell_type": "code",
      "source": "df.describe()",
      "metadata": {
        "tags": [],
        "cell_id": "00039-1a9233ab-8f70-4dd6-86a7-e78045e3c8cb",
        "deepnote_to_be_reexecuted": false,
        "source_hash": "f88152d9",
        "execution_start": 1616988456525,
        "execution_millis": 93,
        "deepnote_cell_type": "code"
      },
      "outputs": [
        {
          "output_type": "execute_result",
          "execution_count": 53,
          "data": {
            "application/vnd.deepnote.dataframe.v2+json": {
              "row_count": 8,
              "column_count": 4,
              "columns": [
                {
                  "name": "Census Year",
                  "dtype": "float64",
                  "stats": {
                    "unique_count": 7,
                    "nan_count": 0,
                    "min": 23,
                    "max": 2010,
                    "histogram": [
                      {
                        "bin_start": 23,
                        "bin_end": 221.7,
                        "count": 2
                      },
                      {
                        "bin_start": 221.7,
                        "bin_end": 420.4,
                        "count": 0
                      },
                      {
                        "bin_start": 420.4,
                        "bin_end": 619.0999999999999,
                        "count": 0
                      },
                      {
                        "bin_start": 619.0999999999999,
                        "bin_end": 817.8,
                        "count": 0
                      },
                      {
                        "bin_start": 817.8,
                        "bin_end": 1016.5,
                        "count": 0
                      },
                      {
                        "bin_start": 1016.5,
                        "bin_end": 1215.1999999999998,
                        "count": 0
                      },
                      {
                        "bin_start": 1215.1999999999998,
                        "bin_end": 1413.8999999999999,
                        "count": 0
                      },
                      {
                        "bin_start": 1413.8999999999999,
                        "bin_end": 1612.6,
                        "count": 0
                      },
                      {
                        "bin_start": 1612.6,
                        "bin_end": 1811.3,
                        "count": 1
                      },
                      {
                        "bin_start": 1811.3,
                        "bin_end": 2010,
                        "count": 5
                      }
                    ]
                  }
                },
                {
                  "name": "Total Population",
                  "dtype": "float64",
                  "stats": {
                    "unique_count": 8,
                    "nan_count": 0,
                    "min": 23,
                    "max": 308745538,
                    "histogram": [
                      {
                        "bin_start": 23,
                        "bin_end": 30874574.5,
                        "count": 3
                      },
                      {
                        "bin_start": 30874574.5,
                        "bin_end": 61749126,
                        "count": 0
                      },
                      {
                        "bin_start": 61749126,
                        "bin_end": 92623677.5,
                        "count": 1
                      },
                      {
                        "bin_start": 92623677.5,
                        "bin_end": 123498229,
                        "count": 2
                      },
                      {
                        "bin_start": 123498229,
                        "bin_end": 154372780.5,
                        "count": 0
                      },
                      {
                        "bin_start": 154372780.5,
                        "bin_end": 185247332,
                        "count": 1
                      },
                      {
                        "bin_start": 185247332,
                        "bin_end": 216121883.5,
                        "count": 0
                      },
                      {
                        "bin_start": 216121883.5,
                        "bin_end": 246996435,
                        "count": 0
                      },
                      {
                        "bin_start": 246996435,
                        "bin_end": 277870986.5,
                        "count": 0
                      },
                      {
                        "bin_start": 277870986.5,
                        "bin_end": 308745538,
                        "count": 1
                      }
                    ]
                  }
                },
                {
                  "name": "Census Cost",
                  "dtype": "float64",
                  "stats": {
                    "unique_count": 8,
                    "nan_count": 0,
                    "min": 23,
                    "max": 13000000000,
                    "histogram": [
                      {
                        "bin_start": 23,
                        "bin_end": 1300000020.7,
                        "count": 6
                      },
                      {
                        "bin_start": 1300000020.7,
                        "bin_end": 2600000018.4,
                        "count": 0
                      },
                      {
                        "bin_start": 2600000018.4,
                        "bin_end": 3900000016.1000004,
                        "count": 1
                      },
                      {
                        "bin_start": 3900000016.1000004,
                        "bin_end": 5200000013.8,
                        "count": 0
                      },
                      {
                        "bin_start": 5200000013.8,
                        "bin_end": 6500000011.5,
                        "count": 0
                      },
                      {
                        "bin_start": 6500000011.5,
                        "bin_end": 7800000009.200001,
                        "count": 0
                      },
                      {
                        "bin_start": 7800000009.200001,
                        "bin_end": 9100000006.9,
                        "count": 0
                      },
                      {
                        "bin_start": 9100000006.9,
                        "bin_end": 10400000004.6,
                        "count": 0
                      },
                      {
                        "bin_start": 10400000004.6,
                        "bin_end": 11700000002.300001,
                        "count": 0
                      },
                      {
                        "bin_start": 11700000002.300001,
                        "bin_end": 13000000000,
                        "count": 1
                      }
                    ]
                  }
                },
                {
                  "name": "Average Cost Per Person",
                  "dtype": "float64",
                  "stats": {
                    "unique_count": 8,
                    "nan_count": 0,
                    "min": 1.13,
                    "max": 71.34,
                    "histogram": [
                      {
                        "bin_start": 1.13,
                        "bin_end": 8.151,
                        "count": 2
                      },
                      {
                        "bin_start": 8.151,
                        "bin_end": 15.172,
                        "count": 1
                      },
                      {
                        "bin_start": 15.172,
                        "bin_end": 22.193,
                        "count": 3
                      },
                      {
                        "bin_start": 22.193,
                        "bin_end": 29.214000000000002,
                        "count": 1
                      },
                      {
                        "bin_start": 29.214000000000002,
                        "bin_end": 36.23500000000001,
                        "count": 0
                      },
                      {
                        "bin_start": 36.23500000000001,
                        "bin_end": 43.25600000000001,
                        "count": 0
                      },
                      {
                        "bin_start": 43.25600000000001,
                        "bin_end": 50.27700000000001,
                        "count": 0
                      },
                      {
                        "bin_start": 50.27700000000001,
                        "bin_end": 57.29800000000001,
                        "count": 0
                      },
                      {
                        "bin_start": 57.29800000000001,
                        "bin_end": 64.319,
                        "count": 0
                      },
                      {
                        "bin_start": 64.319,
                        "bin_end": 71.34,
                        "count": 1
                      }
                    ]
                  }
                },
                {
                  "name": "_deepnote_index_column",
                  "dtype": "object"
                }
              ],
              "rows_top": [
                {
                  "Census Year": 23,
                  "Total Population": 23,
                  "Census Cost": 23,
                  "Average Cost Per Person": 23,
                  "_deepnote_index_column": "count"
                },
                {
                  "Census Year": 1900,
                  "Total Population": 103921110.30434783,
                  "Census Cost": 944558700.173913,
                  "Average Cost Per Person": 17.921739130434784,
                  "_deepnote_index_column": "mean"
                },
                {
                  "Census Year": 67.82329983125268,
                  "Total Population": 96226290.93015984,
                  "Census Cost": 2830036862.658827,
                  "Average Cost Per Person": 20.20043151028168,
                  "_deepnote_index_column": "std"
                },
                {
                  "Census Year": 1790,
                  "Total Population": 3929214,
                  "Census Cost": 44377,
                  "Average Cost Per Person": 1.13,
                  "_deepnote_index_column": "min"
                },
                {
                  "Census Year": 1845,
                  "Total Population": 20130667,
                  "Census Cost": 1128361,
                  "Average Cost Per Person": 3.8499999999999996,
                  "_deepnote_index_column": "25%"
                },
                {
                  "Census Year": 1900,
                  "Total Population": 76303387,
                  "Census Cost": 11854000,
                  "Average Cost Per Person": 10.02,
                  "_deepnote_index_column": "50%"
                },
                {
                  "Census Year": 1955,
                  "Total Population": 165324486.5,
                  "Census Cost": 109698000,
                  "Average Cost Per Person": 21.045,
                  "_deepnote_index_column": "75%"
                },
                {
                  "Census Year": 2010,
                  "Total Population": 308745538,
                  "Census Cost": 13000000000,
                  "Average Cost Per Person": 71.34,
                  "_deepnote_index_column": "max"
                }
              ],
              "rows_bottom": null
            },
            "text/plain": "       Census Year  Total Population   Census Cost  Average Cost Per Person\ncount      23.0000      2.300000e+01  2.300000e+01                23.000000\nmean     1900.0000      1.039211e+08  9.445587e+08                17.921739\nstd        67.8233      9.622629e+07  2.830037e+09                20.200432\nmin      1790.0000      3.929214e+06  4.437700e+04                 1.130000\n25%      1845.0000      2.013067e+07  1.128361e+06                 3.850000\n50%      1900.0000      7.630339e+07  1.185400e+07                10.020000\n75%      1955.0000      1.653245e+08  1.096980e+08                21.045000\nmax      2010.0000      3.087455e+08  1.300000e+10                71.340000",
            "text/html": "<div>\n<style scoped>\n    .dataframe tbody tr th:only-of-type {\n        vertical-align: middle;\n    }\n\n    .dataframe tbody tr th {\n        vertical-align: top;\n    }\n\n    .dataframe thead th {\n        text-align: right;\n    }\n</style>\n<table border=\"1\" class=\"dataframe\">\n  <thead>\n    <tr style=\"text-align: right;\">\n      <th></th>\n      <th>Census Year</th>\n      <th>Total Population</th>\n      <th>Census Cost</th>\n      <th>Average Cost Per Person</th>\n    </tr>\n  </thead>\n  <tbody>\n    <tr>\n      <th>count</th>\n      <td>23.0000</td>\n      <td>2.300000e+01</td>\n      <td>2.300000e+01</td>\n      <td>23.000000</td>\n    </tr>\n    <tr>\n      <th>mean</th>\n      <td>1900.0000</td>\n      <td>1.039211e+08</td>\n      <td>9.445587e+08</td>\n      <td>17.921739</td>\n    </tr>\n    <tr>\n      <th>std</th>\n      <td>67.8233</td>\n      <td>9.622629e+07</td>\n      <td>2.830037e+09</td>\n      <td>20.200432</td>\n    </tr>\n    <tr>\n      <th>min</th>\n      <td>1790.0000</td>\n      <td>3.929214e+06</td>\n      <td>4.437700e+04</td>\n      <td>1.130000</td>\n    </tr>\n    <tr>\n      <th>25%</th>\n      <td>1845.0000</td>\n      <td>2.013067e+07</td>\n      <td>1.128361e+06</td>\n      <td>3.850000</td>\n    </tr>\n    <tr>\n      <th>50%</th>\n      <td>1900.0000</td>\n      <td>7.630339e+07</td>\n      <td>1.185400e+07</td>\n      <td>10.020000</td>\n    </tr>\n    <tr>\n      <th>75%</th>\n      <td>1955.0000</td>\n      <td>1.653245e+08</td>\n      <td>1.096980e+08</td>\n      <td>21.045000</td>\n    </tr>\n    <tr>\n      <th>max</th>\n      <td>2010.0000</td>\n      <td>3.087455e+08</td>\n      <td>1.300000e+10</td>\n      <td>71.340000</td>\n    </tr>\n  </tbody>\n</table>\n</div>"
          },
          "metadata": {}
        }
      ],
      "execution_count": 53
    },
    {
      "cell_type": "code",
      "source": "df.shape",
      "metadata": {
        "tags": [],
        "cell_id": "00040-87070250-5551-4f0a-a28a-593227925aa7",
        "deepnote_to_be_reexecuted": false,
        "source_hash": "14f60b8f",
        "execution_start": 1616988482301,
        "execution_millis": 13,
        "deepnote_cell_type": "code"
      },
      "outputs": [
        {
          "output_type": "execute_result",
          "execution_count": 54,
          "data": {
            "text/plain": "(23, 4)"
          },
          "metadata": {}
        }
      ],
      "execution_count": 54
    },
    {
      "cell_type": "code",
      "source": "df.isnull()",
      "metadata": {
        "tags": [],
        "cell_id": "00042-cebb023a-958e-4eb7-80b5-dede4b488756",
        "deepnote_to_be_reexecuted": false,
        "source_hash": "2dba6cbb",
        "execution_millis": 34,
        "execution_start": 1616988514841,
        "deepnote_cell_type": "code"
      },
      "outputs": [
        {
          "output_type": "execute_result",
          "execution_count": 57,
          "data": {
            "application/vnd.deepnote.dataframe.v2+json": {
              "row_count": 23,
              "column_count": 4,
              "columns": [
                {
                  "name": "Census Year",
                  "dtype": "bool",
                  "stats": {
                    "unique_count": 1,
                    "nan_count": 0,
                    "categories": [
                      {
                        "name": "False",
                        "count": 23
                      }
                    ]
                  }
                },
                {
                  "name": "Total Population",
                  "dtype": "bool",
                  "stats": {
                    "unique_count": 1,
                    "nan_count": 0,
                    "categories": [
                      {
                        "name": "False",
                        "count": 23
                      }
                    ]
                  }
                },
                {
                  "name": "Census Cost",
                  "dtype": "bool",
                  "stats": {
                    "unique_count": 1,
                    "nan_count": 0,
                    "categories": [
                      {
                        "name": "False",
                        "count": 23
                      }
                    ]
                  }
                },
                {
                  "name": "Average Cost Per Person",
                  "dtype": "bool",
                  "stats": {
                    "unique_count": 1,
                    "nan_count": 0,
                    "categories": [
                      {
                        "name": "False",
                        "count": 23
                      }
                    ]
                  }
                },
                {
                  "name": "_deepnote_index_column",
                  "dtype": "int64"
                }
              ],
              "rows_top": [
                {
                  "Census Year": false,
                  "Total Population": false,
                  "Census Cost": false,
                  "Average Cost Per Person": false,
                  "_deepnote_index_column": 0
                },
                {
                  "Census Year": false,
                  "Total Population": false,
                  "Census Cost": false,
                  "Average Cost Per Person": false,
                  "_deepnote_index_column": 1
                },
                {
                  "Census Year": false,
                  "Total Population": false,
                  "Census Cost": false,
                  "Average Cost Per Person": false,
                  "_deepnote_index_column": 2
                },
                {
                  "Census Year": false,
                  "Total Population": false,
                  "Census Cost": false,
                  "Average Cost Per Person": false,
                  "_deepnote_index_column": 3
                },
                {
                  "Census Year": false,
                  "Total Population": false,
                  "Census Cost": false,
                  "Average Cost Per Person": false,
                  "_deepnote_index_column": 4
                },
                {
                  "Census Year": false,
                  "Total Population": false,
                  "Census Cost": false,
                  "Average Cost Per Person": false,
                  "_deepnote_index_column": 5
                },
                {
                  "Census Year": false,
                  "Total Population": false,
                  "Census Cost": false,
                  "Average Cost Per Person": false,
                  "_deepnote_index_column": 6
                },
                {
                  "Census Year": false,
                  "Total Population": false,
                  "Census Cost": false,
                  "Average Cost Per Person": false,
                  "_deepnote_index_column": 7
                },
                {
                  "Census Year": false,
                  "Total Population": false,
                  "Census Cost": false,
                  "Average Cost Per Person": false,
                  "_deepnote_index_column": 8
                },
                {
                  "Census Year": false,
                  "Total Population": false,
                  "Census Cost": false,
                  "Average Cost Per Person": false,
                  "_deepnote_index_column": 9
                },
                {
                  "Census Year": false,
                  "Total Population": false,
                  "Census Cost": false,
                  "Average Cost Per Person": false,
                  "_deepnote_index_column": 10
                },
                {
                  "Census Year": false,
                  "Total Population": false,
                  "Census Cost": false,
                  "Average Cost Per Person": false,
                  "_deepnote_index_column": 11
                },
                {
                  "Census Year": false,
                  "Total Population": false,
                  "Census Cost": false,
                  "Average Cost Per Person": false,
                  "_deepnote_index_column": 12
                },
                {
                  "Census Year": false,
                  "Total Population": false,
                  "Census Cost": false,
                  "Average Cost Per Person": false,
                  "_deepnote_index_column": 13
                },
                {
                  "Census Year": false,
                  "Total Population": false,
                  "Census Cost": false,
                  "Average Cost Per Person": false,
                  "_deepnote_index_column": 14
                },
                {
                  "Census Year": false,
                  "Total Population": false,
                  "Census Cost": false,
                  "Average Cost Per Person": false,
                  "_deepnote_index_column": 15
                },
                {
                  "Census Year": false,
                  "Total Population": false,
                  "Census Cost": false,
                  "Average Cost Per Person": false,
                  "_deepnote_index_column": 16
                },
                {
                  "Census Year": false,
                  "Total Population": false,
                  "Census Cost": false,
                  "Average Cost Per Person": false,
                  "_deepnote_index_column": 17
                },
                {
                  "Census Year": false,
                  "Total Population": false,
                  "Census Cost": false,
                  "Average Cost Per Person": false,
                  "_deepnote_index_column": 18
                },
                {
                  "Census Year": false,
                  "Total Population": false,
                  "Census Cost": false,
                  "Average Cost Per Person": false,
                  "_deepnote_index_column": 19
                },
                {
                  "Census Year": false,
                  "Total Population": false,
                  "Census Cost": false,
                  "Average Cost Per Person": false,
                  "_deepnote_index_column": 20
                },
                {
                  "Census Year": false,
                  "Total Population": false,
                  "Census Cost": false,
                  "Average Cost Per Person": false,
                  "_deepnote_index_column": 21
                },
                {
                  "Census Year": false,
                  "Total Population": false,
                  "Census Cost": false,
                  "Average Cost Per Person": false,
                  "_deepnote_index_column": 22
                }
              ],
              "rows_bottom": null
            },
            "text/plain": "    Census Year  Total Population  Census Cost  Average Cost Per Person\n0         False             False        False                    False\n1         False             False        False                    False\n2         False             False        False                    False\n3         False             False        False                    False\n4         False             False        False                    False\n5         False             False        False                    False\n6         False             False        False                    False\n7         False             False        False                    False\n8         False             False        False                    False\n9         False             False        False                    False\n10        False             False        False                    False\n11        False             False        False                    False\n12        False             False        False                    False\n13        False             False        False                    False\n14        False             False        False                    False\n15        False             False        False                    False\n16        False             False        False                    False\n17        False             False        False                    False\n18        False             False        False                    False\n19        False             False        False                    False\n20        False             False        False                    False\n21        False             False        False                    False\n22        False             False        False                    False",
            "text/html": "<div>\n<style scoped>\n    .dataframe tbody tr th:only-of-type {\n        vertical-align: middle;\n    }\n\n    .dataframe tbody tr th {\n        vertical-align: top;\n    }\n\n    .dataframe thead th {\n        text-align: right;\n    }\n</style>\n<table border=\"1\" class=\"dataframe\">\n  <thead>\n    <tr style=\"text-align: right;\">\n      <th></th>\n      <th>Census Year</th>\n      <th>Total Population</th>\n      <th>Census Cost</th>\n      <th>Average Cost Per Person</th>\n    </tr>\n  </thead>\n  <tbody>\n    <tr>\n      <th>0</th>\n      <td>False</td>\n      <td>False</td>\n      <td>False</td>\n      <td>False</td>\n    </tr>\n    <tr>\n      <th>1</th>\n      <td>False</td>\n      <td>False</td>\n      <td>False</td>\n      <td>False</td>\n    </tr>\n    <tr>\n      <th>2</th>\n      <td>False</td>\n      <td>False</td>\n      <td>False</td>\n      <td>False</td>\n    </tr>\n    <tr>\n      <th>3</th>\n      <td>False</td>\n      <td>False</td>\n      <td>False</td>\n      <td>False</td>\n    </tr>\n    <tr>\n      <th>4</th>\n      <td>False</td>\n      <td>False</td>\n      <td>False</td>\n      <td>False</td>\n    </tr>\n    <tr>\n      <th>5</th>\n      <td>False</td>\n      <td>False</td>\n      <td>False</td>\n      <td>False</td>\n    </tr>\n    <tr>\n      <th>6</th>\n      <td>False</td>\n      <td>False</td>\n      <td>False</td>\n      <td>False</td>\n    </tr>\n    <tr>\n      <th>7</th>\n      <td>False</td>\n      <td>False</td>\n      <td>False</td>\n      <td>False</td>\n    </tr>\n    <tr>\n      <th>8</th>\n      <td>False</td>\n      <td>False</td>\n      <td>False</td>\n      <td>False</td>\n    </tr>\n    <tr>\n      <th>9</th>\n      <td>False</td>\n      <td>False</td>\n      <td>False</td>\n      <td>False</td>\n    </tr>\n    <tr>\n      <th>10</th>\n      <td>False</td>\n      <td>False</td>\n      <td>False</td>\n      <td>False</td>\n    </tr>\n    <tr>\n      <th>11</th>\n      <td>False</td>\n      <td>False</td>\n      <td>False</td>\n      <td>False</td>\n    </tr>\n    <tr>\n      <th>12</th>\n      <td>False</td>\n      <td>False</td>\n      <td>False</td>\n      <td>False</td>\n    </tr>\n    <tr>\n      <th>13</th>\n      <td>False</td>\n      <td>False</td>\n      <td>False</td>\n      <td>False</td>\n    </tr>\n    <tr>\n      <th>14</th>\n      <td>False</td>\n      <td>False</td>\n      <td>False</td>\n      <td>False</td>\n    </tr>\n    <tr>\n      <th>15</th>\n      <td>False</td>\n      <td>False</td>\n      <td>False</td>\n      <td>False</td>\n    </tr>\n    <tr>\n      <th>16</th>\n      <td>False</td>\n      <td>False</td>\n      <td>False</td>\n      <td>False</td>\n    </tr>\n    <tr>\n      <th>17</th>\n      <td>False</td>\n      <td>False</td>\n      <td>False</td>\n      <td>False</td>\n    </tr>\n    <tr>\n      <th>18</th>\n      <td>False</td>\n      <td>False</td>\n      <td>False</td>\n      <td>False</td>\n    </tr>\n    <tr>\n      <th>19</th>\n      <td>False</td>\n      <td>False</td>\n      <td>False</td>\n      <td>False</td>\n    </tr>\n    <tr>\n      <th>20</th>\n      <td>False</td>\n      <td>False</td>\n      <td>False</td>\n      <td>False</td>\n    </tr>\n    <tr>\n      <th>21</th>\n      <td>False</td>\n      <td>False</td>\n      <td>False</td>\n      <td>False</td>\n    </tr>\n    <tr>\n      <th>22</th>\n      <td>False</td>\n      <td>False</td>\n      <td>False</td>\n      <td>False</td>\n    </tr>\n  </tbody>\n</table>\n</div>"
          },
          "metadata": {}
        }
      ],
      "execution_count": 57
    },
    {
      "cell_type": "markdown",
      "source": "<a style='text-decoration:none;line-height:16px;display:flex;color:#5B5B62;padding:10px;justify-content:end;' href='https://deepnote.com?utm_source=created-in-deepnote-cell&projectId=d7b9ad1a-058d-4099-acdc-888131314832' target=\"_blank\">\n<img style='display:inline;max-height:16px;margin:0px;margin-right:7.5px;' src='data:image/svg+xml;base64,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' > </img>\nCreated in <span style='font-weight:600;margin-left:4px;'>Deepnote</span></a>",
      "metadata": {
        "tags": [],
        "created_in_deepnote_cell": true,
        "deepnote_cell_type": "markdown"
      }
    }
  ],
  "nbformat": 4,
  "nbformat_minor": 2,
  "metadata": {
    "orig_nbformat": 2,
    "deepnote_notebook_id": "074473cf-ad8f-43e7-b88d-b70f3c23507e",
    "deepnote": {},
    "deepnote_execution_queue": []
  }
}