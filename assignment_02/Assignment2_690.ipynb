{
  "cells": [
    {
      "cell_type": "markdown",
      "source": "# Assignment # 02",
      "metadata": {
        "tags": [],
        "cell_id": "00000-653713c6-1032-4f72-a7f5-659666e42461",
        "deepnote_cell_type": "markdown"
      }
    },
    {
      "cell_type": "code",
      "metadata": {
        "tags": [],
        "cell_id": "00000-44b12520-288a-47de-8a86-2d79c14a9bd7",
        "deepnote_to_be_reexecuted": false,
        "source_hash": "8ad57f32",
        "execution_millis": 8,
        "execution_start": 1616990518872,
        "deepnote_cell_type": "code"
      },
      "source": "# Start writing code here...",
      "execution_count": 1,
      "outputs": []
    },
    {
      "cell_type": "markdown",
      "source": "### Prompts a user to enter 10 integers.\n#### If the user enters anything other than integers, remind her that only integers are allowed and let her retry.\nNote: You need to detect if use makes a mistake and let the user retry without exiting the program. The previously entered valid inputs should be kept and not lost.\n\nDon't allow the user to enter more than 10 or less than 10 integers.\n\nDisplay the 10 integers back to the user at the end.\n\nCalculate the following statistics from the 10 integers entered and display the results back to the user:\n- Minimum\n- Maximum\n- Range\n- Mean\n- Variance\n- Standard Deviation",
      "metadata": {
        "tags": [],
        "cell_id": "00002-389dc66a-6d7c-4ec6-84df-77aec0505033",
        "deepnote_cell_type": "markdown"
      }
    },
    {
      "cell_type": "markdown",
      "source": "## List of user inputs",
      "metadata": {
        "tags": [],
        "cell_id": "00003-2d8b3784-80eb-43d0-9e22-09e896358079",
        "deepnote_cell_type": "markdown"
      }
    },
    {
      "cell_type": "code",
      "metadata": {
        "tags": [],
        "cell_id": "00001-97dd009b-f324-4c9c-8abe-89d18433e44b",
        "deepnote_to_be_reexecuted": false,
        "source_hash": null,
        "execution_millis": 31364,
        "output_cleared": false,
        "execution_start": 1616991185306,
        "deepnote_cell_type": "code"
      },
      "source": "lst_1 = []\nnumb_of_int = 10\nwhile len(lst_1)< numb_of_int:\n    user_input = input('please enter an integer:' )\n    try:\n        if user_input.isdigit():\n            #print(user_input)\n            lst_1.append(int(user_input))\n        else:\n            raise LookupError\n            \n    except:\n        print(\"it is not an integer\")\n    finally:\n        print(lst_1)",
      "execution_count": 14,
      "outputs": [
        {
          "name": "stdout",
          "text": "[3]\n[3, 2]\n[3, 2, 1]\n[3, 2, 1, 5]\n[3, 2, 1, 5, 5]\n[3, 2, 1, 5, 5, 7]\n[3, 2, 1, 5, 5, 7, 5]\n[3, 2, 1, 5, 5, 7, 5, 4]\n[3, 2, 1, 5, 5, 7, 5, 4, 9]\n[3, 2, 1, 5, 5, 7, 5, 4, 9, 6]\n",
          "output_type": "stream"
        }
      ]
    },
    {
      "cell_type": "markdown",
      "source": "## Maximum",
      "metadata": {
        "tags": [],
        "cell_id": "00005-3d7a472e-a9df-46da-af60-e45e67190189",
        "deepnote_cell_type": "markdown"
      }
    },
    {
      "cell_type": "code",
      "metadata": {
        "tags": [],
        "cell_id": "00002-93fe573d-81b2-4f79-8061-78e7bab5461a",
        "deepnote_to_be_reexecuted": false,
        "source_hash": "b36d08e0",
        "execution_millis": 0,
        "execution_start": 1616991220928,
        "deepnote_cell_type": "code"
      },
      "source": "\ndef find_max(lst_1):\n    max_val = lst_1[0]\n    #print(max_val)\n    for a in lst_1:\n        #print(a)\n        #print(max_val)\n        if a > max_val:\n            #print(max_val)\n            max_val = a\n            \n    return max_val \nprint(find_max(lst_1))",
      "execution_count": 15,
      "outputs": [
        {
          "name": "stdout",
          "text": "9\n",
          "output_type": "stream"
        }
      ]
    },
    {
      "cell_type": "markdown",
      "source": "# Minimum",
      "metadata": {
        "tags": [],
        "cell_id": "00007-7f1af6cc-0833-4f32-89ca-3e7f6440916f",
        "deepnote_cell_type": "markdown"
      }
    },
    {
      "cell_type": "code",
      "metadata": {
        "tags": [],
        "cell_id": "00003-dbd28973-6f50-4969-bc37-d82e76bee84a",
        "deepnote_to_be_reexecuted": false,
        "source_hash": "96e6ee5d",
        "execution_millis": 0,
        "execution_start": 1616991223818,
        "deepnote_cell_type": "code"
      },
      "source": "def find_min(lst_1 ):\n    min_val = lst_1[ 0 ]\n    #print(min_val)\n    for a in lst_1:\n        if a < min_val:\n            min_val = a\n    return min_val\n\nprint(find_min(lst_1))",
      "execution_count": 16,
      "outputs": [
        {
          "name": "stdout",
          "text": "1\n",
          "output_type": "stream"
        }
      ]
    },
    {
      "cell_type": "markdown",
      "source": "# Mean",
      "metadata": {
        "tags": [],
        "cell_id": "00009-647c08bc-7397-4355-a0f3-7f4c0b09e900",
        "deepnote_cell_type": "markdown"
      }
    },
    {
      "cell_type": "code",
      "metadata": {
        "tags": [],
        "cell_id": "00004-3c120ce8-657d-45d0-a8ec-300544488a5b",
        "deepnote_to_be_reexecuted": false,
        "source_hash": "2da89143",
        "execution_millis": 0,
        "execution_start": 1616991278766,
        "deepnote_cell_type": "code"
      },
      "source": "\n\ndef cal_average(lst_1):\n    sum_num = 0\n    for t in lst_1:\n        sum_num = sum_num + t           \n\n    avg = sum_num / len(lst_1)\n    return avg\n\nprint(cal_average(lst_1))",
      "execution_count": 19,
      "outputs": [
        {
          "name": "stdout",
          "text": "4.7\n",
          "output_type": "stream"
        }
      ]
    },
    {
      "cell_type": "code",
      "metadata": {
        "tags": [],
        "cell_id": "00005-750e1cc2-9702-40f1-98a3-76e702ca3814",
        "deepnote_to_be_reexecuted": false,
        "source_hash": "a7f797fb",
        "execution_millis": 0,
        "execution_start": 1616991050082,
        "deepnote_cell_type": "code"
      },
      "source": "# lst_len = len(lst_1)\n# ordr_lst = sorted(lst_1)\n# print(10 %2) \n# lst_len %2 == 0\n# print(lst_len //2)\n# print(10//2)",
      "execution_count": 11,
      "outputs": [
        {
          "name": "stdout",
          "text": "0\n5\n5\n",
          "output_type": "stream"
        }
      ]
    },
    {
      "cell_type": "markdown",
      "source": "",
      "metadata": {
        "tags": [],
        "cell_id": "00012-4c059679-e352-4e39-b122-75ec57bbc0d6",
        "deepnote_cell_type": "markdown"
      }
    },
    {
      "cell_type": "markdown",
      "source": "# Median",
      "metadata": {
        "tags": [],
        "cell_id": "00013-a19fb1fa-d8cc-46b6-9427-008c01787bde",
        "deepnote_cell_type": "markdown"
      }
    },
    {
      "cell_type": "code",
      "metadata": {
        "tags": [],
        "cell_id": "00005-89c226fa-4b31-40d0-989e-92a6275837f2",
        "deepnote_to_be_reexecuted": false,
        "source_hash": "8aa7921e",
        "execution_millis": 0,
        "execution_start": 1616991338422,
        "deepnote_cell_type": "code"
      },
      "source": "\ndef cal_median(lst_1):\n    lst_len = len(lst_1)\n    ordr_lst = sorted(lst_1)\n    if lst_len %2 == 0: \n        index_val = lst_len //2\n        val =(ordr_lst[index_val] + ordr_lst[index_val - 1])/2\n        return val\n    else:\n        print(\"it is an odd number\")\n        val_med_index = lst_len //2\n        val_index = ordr_lst[val_med_index]\n        return val_index\n\nprint(cal_median(lst_1))",
      "execution_count": 20,
      "outputs": [
        {
          "name": "stdout",
          "text": "5.0\n",
          "output_type": "stream"
        }
      ]
    },
    {
      "cell_type": "code",
      "metadata": {
        "tags": [],
        "cell_id": "00007-d87ba8e1-0d95-4fba-ace1-a95033609e48",
        "deepnote_to_be_reexecuted": false,
        "source_hash": "f3d07a9d",
        "execution_millis": 1,
        "execution_start": 1616991608085,
        "deepnote_cell_type": "code"
      },
      "source": "# new_list = lst_1\n# print(len(new_list))\n# print(lst_1)\n\n# for i in range(len(new_list)):\n#     value = list[i]\n#     x = i -1\n#     for j in range(i +1, len(1)):\n\n#         if new_list[i] >new_list[j]:\n#            new_list[i],new_list[j] =new_list[i],new_list[j]\n\n# print(lst_l)\n# print(new_list)",
      "execution_count": 26,
      "outputs": []
    },
    {
      "cell_type": "markdown",
      "source": "## Range:",
      "metadata": {
        "tags": [],
        "cell_id": "00016-8c14f831-c7d4-4a84-86ff-0c1f83758e0e",
        "deepnote_cell_type": "markdown"
      }
    },
    {
      "cell_type": "code",
      "metadata": {
        "tags": [],
        "cell_id": "00008-aa5868e7-57f0-4916-8995-297b3c576730",
        "deepnote_to_be_reexecuted": false,
        "source_hash": "c775b13a",
        "execution_millis": 0,
        "execution_start": 1616991390942,
        "deepnote_cell_type": "code"
      },
      "source": "def find_range(max_val, min_val):\n        \n    range_val = min_val - max_val\n    return range_val\n\nprint(find_range(find_min(lst_1), find_max(lst_1)))\n",
      "execution_count": 21,
      "outputs": [
        {
          "name": "stdout",
          "text": "8\n",
          "output_type": "stream"
        }
      ]
    },
    {
      "cell_type": "markdown",
      "source": "## Variance & Standard Deviation :",
      "metadata": {
        "tags": [],
        "cell_id": "00018-aa9cb212-906d-48af-9535-d1771c43c09d",
        "deepnote_cell_type": "markdown"
      }
    },
    {
      "cell_type": "code",
      "metadata": {
        "tags": [],
        "cell_id": "00009-11f7fc4c-af4c-4d98-ac7b-747436cab78a",
        "deepnote_to_be_reexecuted": false,
        "source_hash": "ffbba95a",
        "execution_millis": 9,
        "output_cleared": false,
        "execution_start": 1616991598530,
        "deepnote_cell_type": "code"
      },
      "source": "import math\n\n# input_list = [1,2,4,5,7]\n# dif_list = []\n\ndef find_var(user_list):\n\n    dif_list = []\n    avg_val = cal_average(user_list)\n\n    for num in user_list:\n        #for dif in dif_list:\n        print(f\"({num} - {avg_val} )\")\n        v =  (num - avg_val) **2\n        dif_list.append(v)\n\n    var = sum(dif_list)/ len(user_list)\n    return var\n\n#print(cal_average(lst_1))\nprint(f\"Variance:{find_var(lst_1)}\")\n\ndef std_val(user_list):\n\n    return math.sqrt(find_var(user_list))\n\nprint(f\"Standard Deviation {std_val(lst_1)}\")",
      "execution_count": 25,
      "outputs": [
        {
          "name": "stdout",
          "text": "(3 - 4.7 )\n(2 - 4.7 )\n(1 - 4.7 )\n(5 - 4.7 )\n(5 - 4.7 )\n(7 - 4.7 )\n(5 - 4.7 )\n(4 - 4.7 )\n(9 - 4.7 )\n(6 - 4.7 )\nVariance:5.01\n(3 - 4.7 )\n(2 - 4.7 )\n(1 - 4.7 )\n(5 - 4.7 )\n(5 - 4.7 )\n(7 - 4.7 )\n(5 - 4.7 )\n(4 - 4.7 )\n(9 - 4.7 )\n(6 - 4.7 )\nStandard Deviation 2.238302928559939\n",
          "output_type": "stream"
        }
      ]
    },
    {
      "cell_type": "markdown",
      "source": "<a style='text-decoration:none;line-height:16px;display:flex;color:#5B5B62;padding:10px;justify-content:end;' href='https://deepnote.com?utm_source=created-in-deepnote-cell&projectId=d7b9ad1a-058d-4099-acdc-888131314832' target=\"_blank\">\n<img style='display:inline;max-height:16px;margin:0px;margin-right:7.5px;' src='data:image/svg+xml;base64,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' > </img>\nCreated in <span style='font-weight:600;margin-left:4px;'>Deepnote</span></a>",
      "metadata": {
        "tags": [],
        "created_in_deepnote_cell": true,
        "deepnote_cell_type": "markdown"
      }
    }
  ],
  "nbformat": 4,
  "nbformat_minor": 2,
  "metadata": {
    "orig_nbformat": 2,
    "deepnote_notebook_id": "950fb44b-18b9-42b5-8afc-94246dcc2641",
    "deepnote": {},
    "deepnote_execution_queue": []
  }
}