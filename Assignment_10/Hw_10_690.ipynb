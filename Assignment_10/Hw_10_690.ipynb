{
  "nbformat": 4,
  "nbformat_minor": 0,
  "metadata": {
    "colab": {
      "name": "Hw_10_690.ipynb",
      "provenance": []
    },
    "kernelspec": {
      "name": "python3",
      "display_name": "Python 3"
    },
    "language_info": {
      "name": "python"
    }
  },
  "cells": [
    {
      "cell_type": "code",
      "metadata": {
        "id": "UujDU4H_z83-"
      },
      "source": [
        "import pandas as pd"
      ],
      "execution_count": 1,
      "outputs": []
    },
    {
      "cell_type": "code",
      "metadata": {
        "id": "eVm4RLFY0Mug"
      },
      "source": [
        "pew = pd.read_csv('/content/pew.csv')"
      ],
      "execution_count": 2,
      "outputs": []
    },
    {
      "cell_type": "code",
      "metadata": {
        "id": "vZiToGNS0MxT",
        "colab": {
          "base_uri": "https://localhost:8080/",
          "height": 197
        },
        "outputId": "2eef84c6-9285-4c4a-bbd6-2f9fcb3aa682"
      },
      "source": [
        "\n",
        "pew.head()"
      ],
      "execution_count": 3,
      "outputs": [
        {
          "output_type": "execute_result",
          "data": {
            "text/html": [
              "<div>\n",
              "<style scoped>\n",
              "    .dataframe tbody tr th:only-of-type {\n",
              "        vertical-align: middle;\n",
              "    }\n",
              "\n",
              "    .dataframe tbody tr th {\n",
              "        vertical-align: top;\n",
              "    }\n",
              "\n",
              "    .dataframe thead th {\n",
              "        text-align: right;\n",
              "    }\n",
              "</style>\n",
              "<table border=\"1\" class=\"dataframe\">\n",
              "  <thead>\n",
              "    <tr style=\"text-align: right;\">\n",
              "      <th></th>\n",
              "      <th>religion</th>\n",
              "      <th>&lt;$10k</th>\n",
              "      <th>$10-20k</th>\n",
              "      <th>$20-30k</th>\n",
              "      <th>$30-40k</th>\n",
              "      <th>$40-50k</th>\n",
              "      <th>$50-75k</th>\n",
              "      <th>$75-100k</th>\n",
              "      <th>$100-150k</th>\n",
              "      <th>&gt;150k</th>\n",
              "      <th>Don't know/refused</th>\n",
              "    </tr>\n",
              "  </thead>\n",
              "  <tbody>\n",
              "    <tr>\n",
              "      <th>0</th>\n",
              "      <td>Agnostic</td>\n",
              "      <td>27</td>\n",
              "      <td>34</td>\n",
              "      <td>60</td>\n",
              "      <td>81</td>\n",
              "      <td>76</td>\n",
              "      <td>137</td>\n",
              "      <td>122</td>\n",
              "      <td>109</td>\n",
              "      <td>84</td>\n",
              "      <td>96</td>\n",
              "    </tr>\n",
              "    <tr>\n",
              "      <th>1</th>\n",
              "      <td>Atheist</td>\n",
              "      <td>12</td>\n",
              "      <td>27</td>\n",
              "      <td>37</td>\n",
              "      <td>52</td>\n",
              "      <td>35</td>\n",
              "      <td>70</td>\n",
              "      <td>73</td>\n",
              "      <td>59</td>\n",
              "      <td>74</td>\n",
              "      <td>76</td>\n",
              "    </tr>\n",
              "    <tr>\n",
              "      <th>2</th>\n",
              "      <td>Buddhist</td>\n",
              "      <td>27</td>\n",
              "      <td>21</td>\n",
              "      <td>30</td>\n",
              "      <td>34</td>\n",
              "      <td>33</td>\n",
              "      <td>58</td>\n",
              "      <td>62</td>\n",
              "      <td>39</td>\n",
              "      <td>53</td>\n",
              "      <td>54</td>\n",
              "    </tr>\n",
              "    <tr>\n",
              "      <th>3</th>\n",
              "      <td>Catholic</td>\n",
              "      <td>418</td>\n",
              "      <td>617</td>\n",
              "      <td>732</td>\n",
              "      <td>670</td>\n",
              "      <td>638</td>\n",
              "      <td>1116</td>\n",
              "      <td>949</td>\n",
              "      <td>792</td>\n",
              "      <td>633</td>\n",
              "      <td>1489</td>\n",
              "    </tr>\n",
              "    <tr>\n",
              "      <th>4</th>\n",
              "      <td>Don’t know/refused</td>\n",
              "      <td>15</td>\n",
              "      <td>14</td>\n",
              "      <td>15</td>\n",
              "      <td>11</td>\n",
              "      <td>10</td>\n",
              "      <td>35</td>\n",
              "      <td>21</td>\n",
              "      <td>17</td>\n",
              "      <td>18</td>\n",
              "      <td>116</td>\n",
              "    </tr>\n",
              "  </tbody>\n",
              "</table>\n",
              "</div>"
            ],
            "text/plain": [
              "             religion  <$10k  $10-20k  ...  $100-150k  >150k  Don't know/refused\n",
              "0            Agnostic     27       34  ...        109     84                  96\n",
              "1             Atheist     12       27  ...         59     74                  76\n",
              "2            Buddhist     27       21  ...         39     53                  54\n",
              "3            Catholic    418      617  ...        792    633                1489\n",
              "4  Don’t know/refused     15       14  ...         17     18                 116\n",
              "\n",
              "[5 rows x 11 columns]"
            ]
          },
          "metadata": {
            "tags": []
          },
          "execution_count": 3
        }
      ]
    },
    {
      "cell_type": "code",
      "metadata": {
        "id": "qfyiLqIQ0M0F"
      },
      "source": [
        "pew_long = pd.melt(pew, id_vars='religion')"
      ],
      "execution_count": 4,
      "outputs": []
    },
    {
      "cell_type": "code",
      "metadata": {
        "id": "PU59ELcz0M2q",
        "colab": {
          "base_uri": "https://localhost:8080/",
          "height": 197
        },
        "outputId": "a30c339e-5d7d-4353-ce64-2d842ef70be6"
      },
      "source": [
        "pew_long.head()"
      ],
      "execution_count": 5,
      "outputs": [
        {
          "output_type": "execute_result",
          "data": {
            "text/html": [
              "<div>\n",
              "<style scoped>\n",
              "    .dataframe tbody tr th:only-of-type {\n",
              "        vertical-align: middle;\n",
              "    }\n",
              "\n",
              "    .dataframe tbody tr th {\n",
              "        vertical-align: top;\n",
              "    }\n",
              "\n",
              "    .dataframe thead th {\n",
              "        text-align: right;\n",
              "    }\n",
              "</style>\n",
              "<table border=\"1\" class=\"dataframe\">\n",
              "  <thead>\n",
              "    <tr style=\"text-align: right;\">\n",
              "      <th></th>\n",
              "      <th>religion</th>\n",
              "      <th>variable</th>\n",
              "      <th>value</th>\n",
              "    </tr>\n",
              "  </thead>\n",
              "  <tbody>\n",
              "    <tr>\n",
              "      <th>0</th>\n",
              "      <td>Agnostic</td>\n",
              "      <td>&lt;$10k</td>\n",
              "      <td>27</td>\n",
              "    </tr>\n",
              "    <tr>\n",
              "      <th>1</th>\n",
              "      <td>Atheist</td>\n",
              "      <td>&lt;$10k</td>\n",
              "      <td>12</td>\n",
              "    </tr>\n",
              "    <tr>\n",
              "      <th>2</th>\n",
              "      <td>Buddhist</td>\n",
              "      <td>&lt;$10k</td>\n",
              "      <td>27</td>\n",
              "    </tr>\n",
              "    <tr>\n",
              "      <th>3</th>\n",
              "      <td>Catholic</td>\n",
              "      <td>&lt;$10k</td>\n",
              "      <td>418</td>\n",
              "    </tr>\n",
              "    <tr>\n",
              "      <th>4</th>\n",
              "      <td>Don’t know/refused</td>\n",
              "      <td>&lt;$10k</td>\n",
              "      <td>15</td>\n",
              "    </tr>\n",
              "  </tbody>\n",
              "</table>\n",
              "</div>"
            ],
            "text/plain": [
              "             religion variable  value\n",
              "0            Agnostic    <$10k     27\n",
              "1             Atheist    <$10k     12\n",
              "2            Buddhist    <$10k     27\n",
              "3            Catholic    <$10k    418\n",
              "4  Don’t know/refused    <$10k     15"
            ]
          },
          "metadata": {
            "tags": []
          },
          "execution_count": 5
        }
      ]
    },
    {
      "cell_type": "code",
      "metadata": {
        "id": "7Lk75CSv0M5F",
        "colab": {
          "base_uri": "https://localhost:8080/",
          "height": 197
        },
        "outputId": "619d63a7-6028-4813-d317-1796ba7e32d0"
      },
      "source": [
        "pew_long = pd.melt(pew, id_vars='religion', var_name='income', value_name='count')\n",
        "pew_long.head()"
      ],
      "execution_count": 6,
      "outputs": [
        {
          "output_type": "execute_result",
          "data": {
            "text/html": [
              "<div>\n",
              "<style scoped>\n",
              "    .dataframe tbody tr th:only-of-type {\n",
              "        vertical-align: middle;\n",
              "    }\n",
              "\n",
              "    .dataframe tbody tr th {\n",
              "        vertical-align: top;\n",
              "    }\n",
              "\n",
              "    .dataframe thead th {\n",
              "        text-align: right;\n",
              "    }\n",
              "</style>\n",
              "<table border=\"1\" class=\"dataframe\">\n",
              "  <thead>\n",
              "    <tr style=\"text-align: right;\">\n",
              "      <th></th>\n",
              "      <th>religion</th>\n",
              "      <th>income</th>\n",
              "      <th>count</th>\n",
              "    </tr>\n",
              "  </thead>\n",
              "  <tbody>\n",
              "    <tr>\n",
              "      <th>0</th>\n",
              "      <td>Agnostic</td>\n",
              "      <td>&lt;$10k</td>\n",
              "      <td>27</td>\n",
              "    </tr>\n",
              "    <tr>\n",
              "      <th>1</th>\n",
              "      <td>Atheist</td>\n",
              "      <td>&lt;$10k</td>\n",
              "      <td>12</td>\n",
              "    </tr>\n",
              "    <tr>\n",
              "      <th>2</th>\n",
              "      <td>Buddhist</td>\n",
              "      <td>&lt;$10k</td>\n",
              "      <td>27</td>\n",
              "    </tr>\n",
              "    <tr>\n",
              "      <th>3</th>\n",
              "      <td>Catholic</td>\n",
              "      <td>&lt;$10k</td>\n",
              "      <td>418</td>\n",
              "    </tr>\n",
              "    <tr>\n",
              "      <th>4</th>\n",
              "      <td>Don’t know/refused</td>\n",
              "      <td>&lt;$10k</td>\n",
              "      <td>15</td>\n",
              "    </tr>\n",
              "  </tbody>\n",
              "</table>\n",
              "</div>"
            ],
            "text/plain": [
              "             religion income  count\n",
              "0            Agnostic  <$10k     27\n",
              "1             Atheist  <$10k     12\n",
              "2            Buddhist  <$10k     27\n",
              "3            Catholic  <$10k    418\n",
              "4  Don’t know/refused  <$10k     15"
            ]
          },
          "metadata": {
            "tags": []
          },
          "execution_count": 6
        }
      ]
    },
    {
      "cell_type": "code",
      "metadata": {
        "id": "T_adPjnj0M77"
      },
      "source": [
        "billboard = pd.read_csv('/content/billboard.csv')"
      ],
      "execution_count": 7,
      "outputs": []
    },
    {
      "cell_type": "code",
      "metadata": {
        "id": "nWJsdQLe0M-z",
        "colab": {
          "base_uri": "https://localhost:8080/",
          "height": 363
        },
        "outputId": "3ddac94e-9024-432d-b21a-a4b7df043027"
      },
      "source": [
        "billboard.head()"
      ],
      "execution_count": 8,
      "outputs": [
        {
          "output_type": "execute_result",
          "data": {
            "text/html": [
              "<div>\n",
              "<style scoped>\n",
              "    .dataframe tbody tr th:only-of-type {\n",
              "        vertical-align: middle;\n",
              "    }\n",
              "\n",
              "    .dataframe tbody tr th {\n",
              "        vertical-align: top;\n",
              "    }\n",
              "\n",
              "    .dataframe thead th {\n",
              "        text-align: right;\n",
              "    }\n",
              "</style>\n",
              "<table border=\"1\" class=\"dataframe\">\n",
              "  <thead>\n",
              "    <tr style=\"text-align: right;\">\n",
              "      <th></th>\n",
              "      <th>year</th>\n",
              "      <th>artist</th>\n",
              "      <th>track</th>\n",
              "      <th>time</th>\n",
              "      <th>date.entered</th>\n",
              "      <th>wk1</th>\n",
              "      <th>wk2</th>\n",
              "      <th>wk3</th>\n",
              "      <th>wk4</th>\n",
              "      <th>wk5</th>\n",
              "      <th>wk6</th>\n",
              "      <th>wk7</th>\n",
              "      <th>wk8</th>\n",
              "      <th>wk9</th>\n",
              "      <th>wk10</th>\n",
              "      <th>wk11</th>\n",
              "      <th>wk12</th>\n",
              "      <th>wk13</th>\n",
              "      <th>wk14</th>\n",
              "      <th>wk15</th>\n",
              "      <th>wk16</th>\n",
              "      <th>wk17</th>\n",
              "      <th>wk18</th>\n",
              "      <th>wk19</th>\n",
              "      <th>wk20</th>\n",
              "      <th>wk21</th>\n",
              "      <th>wk22</th>\n",
              "      <th>wk23</th>\n",
              "      <th>wk24</th>\n",
              "      <th>wk25</th>\n",
              "      <th>wk26</th>\n",
              "      <th>wk27</th>\n",
              "      <th>wk28</th>\n",
              "      <th>wk29</th>\n",
              "      <th>wk30</th>\n",
              "      <th>wk31</th>\n",
              "      <th>wk32</th>\n",
              "      <th>wk33</th>\n",
              "      <th>wk34</th>\n",
              "      <th>wk35</th>\n",
              "      <th>...</th>\n",
              "      <th>wk37</th>\n",
              "      <th>wk38</th>\n",
              "      <th>wk39</th>\n",
              "      <th>wk40</th>\n",
              "      <th>wk41</th>\n",
              "      <th>wk42</th>\n",
              "      <th>wk43</th>\n",
              "      <th>wk44</th>\n",
              "      <th>wk45</th>\n",
              "      <th>wk46</th>\n",
              "      <th>wk47</th>\n",
              "      <th>wk48</th>\n",
              "      <th>wk49</th>\n",
              "      <th>wk50</th>\n",
              "      <th>wk51</th>\n",
              "      <th>wk52</th>\n",
              "      <th>wk53</th>\n",
              "      <th>wk54</th>\n",
              "      <th>wk55</th>\n",
              "      <th>wk56</th>\n",
              "      <th>wk57</th>\n",
              "      <th>wk58</th>\n",
              "      <th>wk59</th>\n",
              "      <th>wk60</th>\n",
              "      <th>wk61</th>\n",
              "      <th>wk62</th>\n",
              "      <th>wk63</th>\n",
              "      <th>wk64</th>\n",
              "      <th>wk65</th>\n",
              "      <th>wk66</th>\n",
              "      <th>wk67</th>\n",
              "      <th>wk68</th>\n",
              "      <th>wk69</th>\n",
              "      <th>wk70</th>\n",
              "      <th>wk71</th>\n",
              "      <th>wk72</th>\n",
              "      <th>wk73</th>\n",
              "      <th>wk74</th>\n",
              "      <th>wk75</th>\n",
              "      <th>wk76</th>\n",
              "    </tr>\n",
              "  </thead>\n",
              "  <tbody>\n",
              "    <tr>\n",
              "      <th>0</th>\n",
              "      <td>2000</td>\n",
              "      <td>2 Pac</td>\n",
              "      <td>Baby Don't Cry (Keep...</td>\n",
              "      <td>4:22</td>\n",
              "      <td>2000-02-26</td>\n",
              "      <td>87</td>\n",
              "      <td>82.0</td>\n",
              "      <td>72.0</td>\n",
              "      <td>77.0</td>\n",
              "      <td>87.0</td>\n",
              "      <td>94.0</td>\n",
              "      <td>99.0</td>\n",
              "      <td>NaN</td>\n",
              "      <td>NaN</td>\n",
              "      <td>NaN</td>\n",
              "      <td>NaN</td>\n",
              "      <td>NaN</td>\n",
              "      <td>NaN</td>\n",
              "      <td>NaN</td>\n",
              "      <td>NaN</td>\n",
              "      <td>NaN</td>\n",
              "      <td>NaN</td>\n",
              "      <td>NaN</td>\n",
              "      <td>NaN</td>\n",
              "      <td>NaN</td>\n",
              "      <td>NaN</td>\n",
              "      <td>NaN</td>\n",
              "      <td>NaN</td>\n",
              "      <td>NaN</td>\n",
              "      <td>NaN</td>\n",
              "      <td>NaN</td>\n",
              "      <td>NaN</td>\n",
              "      <td>NaN</td>\n",
              "      <td>NaN</td>\n",
              "      <td>NaN</td>\n",
              "      <td>NaN</td>\n",
              "      <td>NaN</td>\n",
              "      <td>NaN</td>\n",
              "      <td>NaN</td>\n",
              "      <td>NaN</td>\n",
              "      <td>...</td>\n",
              "      <td>NaN</td>\n",
              "      <td>NaN</td>\n",
              "      <td>NaN</td>\n",
              "      <td>NaN</td>\n",
              "      <td>NaN</td>\n",
              "      <td>NaN</td>\n",
              "      <td>NaN</td>\n",
              "      <td>NaN</td>\n",
              "      <td>NaN</td>\n",
              "      <td>NaN</td>\n",
              "      <td>NaN</td>\n",
              "      <td>NaN</td>\n",
              "      <td>NaN</td>\n",
              "      <td>NaN</td>\n",
              "      <td>NaN</td>\n",
              "      <td>NaN</td>\n",
              "      <td>NaN</td>\n",
              "      <td>NaN</td>\n",
              "      <td>NaN</td>\n",
              "      <td>NaN</td>\n",
              "      <td>NaN</td>\n",
              "      <td>NaN</td>\n",
              "      <td>NaN</td>\n",
              "      <td>NaN</td>\n",
              "      <td>NaN</td>\n",
              "      <td>NaN</td>\n",
              "      <td>NaN</td>\n",
              "      <td>NaN</td>\n",
              "      <td>NaN</td>\n",
              "      <td>NaN</td>\n",
              "      <td>NaN</td>\n",
              "      <td>NaN</td>\n",
              "      <td>NaN</td>\n",
              "      <td>NaN</td>\n",
              "      <td>NaN</td>\n",
              "      <td>NaN</td>\n",
              "      <td>NaN</td>\n",
              "      <td>NaN</td>\n",
              "      <td>NaN</td>\n",
              "      <td>NaN</td>\n",
              "    </tr>\n",
              "    <tr>\n",
              "      <th>1</th>\n",
              "      <td>2000</td>\n",
              "      <td>2Ge+her</td>\n",
              "      <td>The Hardest Part Of ...</td>\n",
              "      <td>3:15</td>\n",
              "      <td>2000-09-02</td>\n",
              "      <td>91</td>\n",
              "      <td>87.0</td>\n",
              "      <td>92.0</td>\n",
              "      <td>NaN</td>\n",
              "      <td>NaN</td>\n",
              "      <td>NaN</td>\n",
              "      <td>NaN</td>\n",
              "      <td>NaN</td>\n",
              "      <td>NaN</td>\n",
              "      <td>NaN</td>\n",
              "      <td>NaN</td>\n",
              "      <td>NaN</td>\n",
              "      <td>NaN</td>\n",
              "      <td>NaN</td>\n",
              "      <td>NaN</td>\n",
              "      <td>NaN</td>\n",
              "      <td>NaN</td>\n",
              "      <td>NaN</td>\n",
              "      <td>NaN</td>\n",
              "      <td>NaN</td>\n",
              "      <td>NaN</td>\n",
              "      <td>NaN</td>\n",
              "      <td>NaN</td>\n",
              "      <td>NaN</td>\n",
              "      <td>NaN</td>\n",
              "      <td>NaN</td>\n",
              "      <td>NaN</td>\n",
              "      <td>NaN</td>\n",
              "      <td>NaN</td>\n",
              "      <td>NaN</td>\n",
              "      <td>NaN</td>\n",
              "      <td>NaN</td>\n",
              "      <td>NaN</td>\n",
              "      <td>NaN</td>\n",
              "      <td>NaN</td>\n",
              "      <td>...</td>\n",
              "      <td>NaN</td>\n",
              "      <td>NaN</td>\n",
              "      <td>NaN</td>\n",
              "      <td>NaN</td>\n",
              "      <td>NaN</td>\n",
              "      <td>NaN</td>\n",
              "      <td>NaN</td>\n",
              "      <td>NaN</td>\n",
              "      <td>NaN</td>\n",
              "      <td>NaN</td>\n",
              "      <td>NaN</td>\n",
              "      <td>NaN</td>\n",
              "      <td>NaN</td>\n",
              "      <td>NaN</td>\n",
              "      <td>NaN</td>\n",
              "      <td>NaN</td>\n",
              "      <td>NaN</td>\n",
              "      <td>NaN</td>\n",
              "      <td>NaN</td>\n",
              "      <td>NaN</td>\n",
              "      <td>NaN</td>\n",
              "      <td>NaN</td>\n",
              "      <td>NaN</td>\n",
              "      <td>NaN</td>\n",
              "      <td>NaN</td>\n",
              "      <td>NaN</td>\n",
              "      <td>NaN</td>\n",
              "      <td>NaN</td>\n",
              "      <td>NaN</td>\n",
              "      <td>NaN</td>\n",
              "      <td>NaN</td>\n",
              "      <td>NaN</td>\n",
              "      <td>NaN</td>\n",
              "      <td>NaN</td>\n",
              "      <td>NaN</td>\n",
              "      <td>NaN</td>\n",
              "      <td>NaN</td>\n",
              "      <td>NaN</td>\n",
              "      <td>NaN</td>\n",
              "      <td>NaN</td>\n",
              "    </tr>\n",
              "    <tr>\n",
              "      <th>2</th>\n",
              "      <td>2000</td>\n",
              "      <td>3 Doors Down</td>\n",
              "      <td>Kryptonite</td>\n",
              "      <td>3:53</td>\n",
              "      <td>2000-04-08</td>\n",
              "      <td>81</td>\n",
              "      <td>70.0</td>\n",
              "      <td>68.0</td>\n",
              "      <td>67.0</td>\n",
              "      <td>66.0</td>\n",
              "      <td>57.0</td>\n",
              "      <td>54.0</td>\n",
              "      <td>53.0</td>\n",
              "      <td>51.0</td>\n",
              "      <td>51.0</td>\n",
              "      <td>51.0</td>\n",
              "      <td>51.0</td>\n",
              "      <td>47.0</td>\n",
              "      <td>44.0</td>\n",
              "      <td>38.0</td>\n",
              "      <td>28.0</td>\n",
              "      <td>22.0</td>\n",
              "      <td>18.0</td>\n",
              "      <td>18.0</td>\n",
              "      <td>14.0</td>\n",
              "      <td>12.0</td>\n",
              "      <td>7.0</td>\n",
              "      <td>6.0</td>\n",
              "      <td>6.0</td>\n",
              "      <td>6.0</td>\n",
              "      <td>5.0</td>\n",
              "      <td>5.0</td>\n",
              "      <td>4.0</td>\n",
              "      <td>4.0</td>\n",
              "      <td>4.0</td>\n",
              "      <td>4.0</td>\n",
              "      <td>3.0</td>\n",
              "      <td>3.0</td>\n",
              "      <td>3.0</td>\n",
              "      <td>4.0</td>\n",
              "      <td>...</td>\n",
              "      <td>5.0</td>\n",
              "      <td>9.0</td>\n",
              "      <td>9.0</td>\n",
              "      <td>15.0</td>\n",
              "      <td>14.0</td>\n",
              "      <td>13.0</td>\n",
              "      <td>14.0</td>\n",
              "      <td>16.0</td>\n",
              "      <td>17.0</td>\n",
              "      <td>21.0</td>\n",
              "      <td>22.0</td>\n",
              "      <td>24.0</td>\n",
              "      <td>28.0</td>\n",
              "      <td>33.0</td>\n",
              "      <td>42.0</td>\n",
              "      <td>42.0</td>\n",
              "      <td>49.0</td>\n",
              "      <td>NaN</td>\n",
              "      <td>NaN</td>\n",
              "      <td>NaN</td>\n",
              "      <td>NaN</td>\n",
              "      <td>NaN</td>\n",
              "      <td>NaN</td>\n",
              "      <td>NaN</td>\n",
              "      <td>NaN</td>\n",
              "      <td>NaN</td>\n",
              "      <td>NaN</td>\n",
              "      <td>NaN</td>\n",
              "      <td>NaN</td>\n",
              "      <td>NaN</td>\n",
              "      <td>NaN</td>\n",
              "      <td>NaN</td>\n",
              "      <td>NaN</td>\n",
              "      <td>NaN</td>\n",
              "      <td>NaN</td>\n",
              "      <td>NaN</td>\n",
              "      <td>NaN</td>\n",
              "      <td>NaN</td>\n",
              "      <td>NaN</td>\n",
              "      <td>NaN</td>\n",
              "    </tr>\n",
              "    <tr>\n",
              "      <th>3</th>\n",
              "      <td>2000</td>\n",
              "      <td>3 Doors Down</td>\n",
              "      <td>Loser</td>\n",
              "      <td>4:24</td>\n",
              "      <td>2000-10-21</td>\n",
              "      <td>76</td>\n",
              "      <td>76.0</td>\n",
              "      <td>72.0</td>\n",
              "      <td>69.0</td>\n",
              "      <td>67.0</td>\n",
              "      <td>65.0</td>\n",
              "      <td>55.0</td>\n",
              "      <td>59.0</td>\n",
              "      <td>62.0</td>\n",
              "      <td>61.0</td>\n",
              "      <td>61.0</td>\n",
              "      <td>59.0</td>\n",
              "      <td>61.0</td>\n",
              "      <td>66.0</td>\n",
              "      <td>72.0</td>\n",
              "      <td>76.0</td>\n",
              "      <td>75.0</td>\n",
              "      <td>67.0</td>\n",
              "      <td>73.0</td>\n",
              "      <td>70.0</td>\n",
              "      <td>NaN</td>\n",
              "      <td>NaN</td>\n",
              "      <td>NaN</td>\n",
              "      <td>NaN</td>\n",
              "      <td>NaN</td>\n",
              "      <td>NaN</td>\n",
              "      <td>NaN</td>\n",
              "      <td>NaN</td>\n",
              "      <td>NaN</td>\n",
              "      <td>NaN</td>\n",
              "      <td>NaN</td>\n",
              "      <td>NaN</td>\n",
              "      <td>NaN</td>\n",
              "      <td>NaN</td>\n",
              "      <td>NaN</td>\n",
              "      <td>...</td>\n",
              "      <td>NaN</td>\n",
              "      <td>NaN</td>\n",
              "      <td>NaN</td>\n",
              "      <td>NaN</td>\n",
              "      <td>NaN</td>\n",
              "      <td>NaN</td>\n",
              "      <td>NaN</td>\n",
              "      <td>NaN</td>\n",
              "      <td>NaN</td>\n",
              "      <td>NaN</td>\n",
              "      <td>NaN</td>\n",
              "      <td>NaN</td>\n",
              "      <td>NaN</td>\n",
              "      <td>NaN</td>\n",
              "      <td>NaN</td>\n",
              "      <td>NaN</td>\n",
              "      <td>NaN</td>\n",
              "      <td>NaN</td>\n",
              "      <td>NaN</td>\n",
              "      <td>NaN</td>\n",
              "      <td>NaN</td>\n",
              "      <td>NaN</td>\n",
              "      <td>NaN</td>\n",
              "      <td>NaN</td>\n",
              "      <td>NaN</td>\n",
              "      <td>NaN</td>\n",
              "      <td>NaN</td>\n",
              "      <td>NaN</td>\n",
              "      <td>NaN</td>\n",
              "      <td>NaN</td>\n",
              "      <td>NaN</td>\n",
              "      <td>NaN</td>\n",
              "      <td>NaN</td>\n",
              "      <td>NaN</td>\n",
              "      <td>NaN</td>\n",
              "      <td>NaN</td>\n",
              "      <td>NaN</td>\n",
              "      <td>NaN</td>\n",
              "      <td>NaN</td>\n",
              "      <td>NaN</td>\n",
              "    </tr>\n",
              "    <tr>\n",
              "      <th>4</th>\n",
              "      <td>2000</td>\n",
              "      <td>504 Boyz</td>\n",
              "      <td>Wobble Wobble</td>\n",
              "      <td>3:35</td>\n",
              "      <td>2000-04-15</td>\n",
              "      <td>57</td>\n",
              "      <td>34.0</td>\n",
              "      <td>25.0</td>\n",
              "      <td>17.0</td>\n",
              "      <td>17.0</td>\n",
              "      <td>31.0</td>\n",
              "      <td>36.0</td>\n",
              "      <td>49.0</td>\n",
              "      <td>53.0</td>\n",
              "      <td>57.0</td>\n",
              "      <td>64.0</td>\n",
              "      <td>70.0</td>\n",
              "      <td>75.0</td>\n",
              "      <td>76.0</td>\n",
              "      <td>78.0</td>\n",
              "      <td>85.0</td>\n",
              "      <td>92.0</td>\n",
              "      <td>96.0</td>\n",
              "      <td>NaN</td>\n",
              "      <td>NaN</td>\n",
              "      <td>NaN</td>\n",
              "      <td>NaN</td>\n",
              "      <td>NaN</td>\n",
              "      <td>NaN</td>\n",
              "      <td>NaN</td>\n",
              "      <td>NaN</td>\n",
              "      <td>NaN</td>\n",
              "      <td>NaN</td>\n",
              "      <td>NaN</td>\n",
              "      <td>NaN</td>\n",
              "      <td>NaN</td>\n",
              "      <td>NaN</td>\n",
              "      <td>NaN</td>\n",
              "      <td>NaN</td>\n",
              "      <td>NaN</td>\n",
              "      <td>...</td>\n",
              "      <td>NaN</td>\n",
              "      <td>NaN</td>\n",
              "      <td>NaN</td>\n",
              "      <td>NaN</td>\n",
              "      <td>NaN</td>\n",
              "      <td>NaN</td>\n",
              "      <td>NaN</td>\n",
              "      <td>NaN</td>\n",
              "      <td>NaN</td>\n",
              "      <td>NaN</td>\n",
              "      <td>NaN</td>\n",
              "      <td>NaN</td>\n",
              "      <td>NaN</td>\n",
              "      <td>NaN</td>\n",
              "      <td>NaN</td>\n",
              "      <td>NaN</td>\n",
              "      <td>NaN</td>\n",
              "      <td>NaN</td>\n",
              "      <td>NaN</td>\n",
              "      <td>NaN</td>\n",
              "      <td>NaN</td>\n",
              "      <td>NaN</td>\n",
              "      <td>NaN</td>\n",
              "      <td>NaN</td>\n",
              "      <td>NaN</td>\n",
              "      <td>NaN</td>\n",
              "      <td>NaN</td>\n",
              "      <td>NaN</td>\n",
              "      <td>NaN</td>\n",
              "      <td>NaN</td>\n",
              "      <td>NaN</td>\n",
              "      <td>NaN</td>\n",
              "      <td>NaN</td>\n",
              "      <td>NaN</td>\n",
              "      <td>NaN</td>\n",
              "      <td>NaN</td>\n",
              "      <td>NaN</td>\n",
              "      <td>NaN</td>\n",
              "      <td>NaN</td>\n",
              "      <td>NaN</td>\n",
              "    </tr>\n",
              "  </tbody>\n",
              "</table>\n",
              "<p>5 rows × 81 columns</p>\n",
              "</div>"
            ],
            "text/plain": [
              "   year        artist                    track  time  ... wk73  wk74  wk75  wk76\n",
              "0  2000         2 Pac  Baby Don't Cry (Keep...  4:22  ...  NaN   NaN   NaN   NaN\n",
              "1  2000       2Ge+her  The Hardest Part Of ...  3:15  ...  NaN   NaN   NaN   NaN\n",
              "2  2000  3 Doors Down               Kryptonite  3:53  ...  NaN   NaN   NaN   NaN\n",
              "3  2000  3 Doors Down                    Loser  4:24  ...  NaN   NaN   NaN   NaN\n",
              "4  2000      504 Boyz            Wobble Wobble  3:35  ...  NaN   NaN   NaN   NaN\n",
              "\n",
              "[5 rows x 81 columns]"
            ]
          },
          "metadata": {
            "tags": []
          },
          "execution_count": 8
        }
      ]
    },
    {
      "cell_type": "code",
      "metadata": {
        "id": "49IHiOoI0NBJ"
      },
      "source": [
        "\n",
        "billboard_long = pd.melt(\n",
        "    billboard,\n",
        "    id_vars=['year', 'artist', 'track', 'time', 'date.entered'],\n",
        "    var_name='week',\n",
        "    value_name='rating'\n",
        ")"
      ],
      "execution_count": 9,
      "outputs": []
    },
    {
      "cell_type": "code",
      "metadata": {
        "id": "OCcvtkcA0ND0",
        "colab": {
          "base_uri": "https://localhost:8080/",
          "height": 197
        },
        "outputId": "def604a0-43d9-4f53-c593-80de8ee1da64"
      },
      "source": [
        "billboard_long.head()\n"
      ],
      "execution_count": 10,
      "outputs": [
        {
          "output_type": "execute_result",
          "data": {
            "text/html": [
              "<div>\n",
              "<style scoped>\n",
              "    .dataframe tbody tr th:only-of-type {\n",
              "        vertical-align: middle;\n",
              "    }\n",
              "\n",
              "    .dataframe tbody tr th {\n",
              "        vertical-align: top;\n",
              "    }\n",
              "\n",
              "    .dataframe thead th {\n",
              "        text-align: right;\n",
              "    }\n",
              "</style>\n",
              "<table border=\"1\" class=\"dataframe\">\n",
              "  <thead>\n",
              "    <tr style=\"text-align: right;\">\n",
              "      <th></th>\n",
              "      <th>year</th>\n",
              "      <th>artist</th>\n",
              "      <th>track</th>\n",
              "      <th>time</th>\n",
              "      <th>date.entered</th>\n",
              "      <th>week</th>\n",
              "      <th>rating</th>\n",
              "    </tr>\n",
              "  </thead>\n",
              "  <tbody>\n",
              "    <tr>\n",
              "      <th>0</th>\n",
              "      <td>2000</td>\n",
              "      <td>2 Pac</td>\n",
              "      <td>Baby Don't Cry (Keep...</td>\n",
              "      <td>4:22</td>\n",
              "      <td>2000-02-26</td>\n",
              "      <td>wk1</td>\n",
              "      <td>87.0</td>\n",
              "    </tr>\n",
              "    <tr>\n",
              "      <th>1</th>\n",
              "      <td>2000</td>\n",
              "      <td>2Ge+her</td>\n",
              "      <td>The Hardest Part Of ...</td>\n",
              "      <td>3:15</td>\n",
              "      <td>2000-09-02</td>\n",
              "      <td>wk1</td>\n",
              "      <td>91.0</td>\n",
              "    </tr>\n",
              "    <tr>\n",
              "      <th>2</th>\n",
              "      <td>2000</td>\n",
              "      <td>3 Doors Down</td>\n",
              "      <td>Kryptonite</td>\n",
              "      <td>3:53</td>\n",
              "      <td>2000-04-08</td>\n",
              "      <td>wk1</td>\n",
              "      <td>81.0</td>\n",
              "    </tr>\n",
              "    <tr>\n",
              "      <th>3</th>\n",
              "      <td>2000</td>\n",
              "      <td>3 Doors Down</td>\n",
              "      <td>Loser</td>\n",
              "      <td>4:24</td>\n",
              "      <td>2000-10-21</td>\n",
              "      <td>wk1</td>\n",
              "      <td>76.0</td>\n",
              "    </tr>\n",
              "    <tr>\n",
              "      <th>4</th>\n",
              "      <td>2000</td>\n",
              "      <td>504 Boyz</td>\n",
              "      <td>Wobble Wobble</td>\n",
              "      <td>3:35</td>\n",
              "      <td>2000-04-15</td>\n",
              "      <td>wk1</td>\n",
              "      <td>57.0</td>\n",
              "    </tr>\n",
              "  </tbody>\n",
              "</table>\n",
              "</div>"
            ],
            "text/plain": [
              "   year        artist                    track  time date.entered week  rating\n",
              "0  2000         2 Pac  Baby Don't Cry (Keep...  4:22   2000-02-26  wk1    87.0\n",
              "1  2000       2Ge+her  The Hardest Part Of ...  3:15   2000-09-02  wk1    91.0\n",
              "2  2000  3 Doors Down               Kryptonite  3:53   2000-04-08  wk1    81.0\n",
              "3  2000  3 Doors Down                    Loser  4:24   2000-10-21  wk1    76.0\n",
              "4  2000      504 Boyz            Wobble Wobble  3:35   2000-04-15  wk1    57.0"
            ]
          },
          "metadata": {
            "tags": []
          },
          "execution_count": 10
        }
      ]
    },
    {
      "cell_type": "code",
      "metadata": {
        "id": "NNj-OzcD0NGm",
        "colab": {
          "base_uri": "https://localhost:8080/"
        },
        "outputId": "dd0cc15e-ec77-45bf-8cc7-7b9d4719a29a"
      },
      "source": [
        "billboard_long.shape\n"
      ],
      "execution_count": 11,
      "outputs": [
        {
          "output_type": "execute_result",
          "data": {
            "text/plain": [
              "(24092, 7)"
            ]
          },
          "metadata": {
            "tags": []
          },
          "execution_count": 11
        }
      ]
    },
    {
      "cell_type": "code",
      "metadata": {
        "id": "UHpv6BL80NJQ"
      },
      "source": [
        "ebola = pd.read_csv('/content/country_timeseries.csv')\n"
      ],
      "execution_count": 12,
      "outputs": []
    },
    {
      "cell_type": "code",
      "metadata": {
        "id": "xJufU2Jr0NNb",
        "colab": {
          "base_uri": "https://localhost:8080/",
          "height": 217
        },
        "outputId": "fc546bdc-c887-4ed0-8516-65e1c801fea7"
      },
      "source": [
        "ebola.head()"
      ],
      "execution_count": 13,
      "outputs": [
        {
          "output_type": "execute_result",
          "data": {
            "text/html": [
              "<div>\n",
              "<style scoped>\n",
              "    .dataframe tbody tr th:only-of-type {\n",
              "        vertical-align: middle;\n",
              "    }\n",
              "\n",
              "    .dataframe tbody tr th {\n",
              "        vertical-align: top;\n",
              "    }\n",
              "\n",
              "    .dataframe thead th {\n",
              "        text-align: right;\n",
              "    }\n",
              "</style>\n",
              "<table border=\"1\" class=\"dataframe\">\n",
              "  <thead>\n",
              "    <tr style=\"text-align: right;\">\n",
              "      <th></th>\n",
              "      <th>Date</th>\n",
              "      <th>Day</th>\n",
              "      <th>Cases_Guinea</th>\n",
              "      <th>Cases_Liberia</th>\n",
              "      <th>Cases_SierraLeone</th>\n",
              "      <th>Cases_Nigeria</th>\n",
              "      <th>Cases_Senegal</th>\n",
              "      <th>Cases_UnitedStates</th>\n",
              "      <th>Cases_Spain</th>\n",
              "      <th>Cases_Mali</th>\n",
              "      <th>Deaths_Guinea</th>\n",
              "      <th>Deaths_Liberia</th>\n",
              "      <th>Deaths_SierraLeone</th>\n",
              "      <th>Deaths_Nigeria</th>\n",
              "      <th>Deaths_Senegal</th>\n",
              "      <th>Deaths_UnitedStates</th>\n",
              "      <th>Deaths_Spain</th>\n",
              "      <th>Deaths_Mali</th>\n",
              "    </tr>\n",
              "  </thead>\n",
              "  <tbody>\n",
              "    <tr>\n",
              "      <th>0</th>\n",
              "      <td>1/5/2015</td>\n",
              "      <td>289</td>\n",
              "      <td>2776.0</td>\n",
              "      <td>NaN</td>\n",
              "      <td>10030.0</td>\n",
              "      <td>NaN</td>\n",
              "      <td>NaN</td>\n",
              "      <td>NaN</td>\n",
              "      <td>NaN</td>\n",
              "      <td>NaN</td>\n",
              "      <td>1786.0</td>\n",
              "      <td>NaN</td>\n",
              "      <td>2977.0</td>\n",
              "      <td>NaN</td>\n",
              "      <td>NaN</td>\n",
              "      <td>NaN</td>\n",
              "      <td>NaN</td>\n",
              "      <td>NaN</td>\n",
              "    </tr>\n",
              "    <tr>\n",
              "      <th>1</th>\n",
              "      <td>1/4/2015</td>\n",
              "      <td>288</td>\n",
              "      <td>2775.0</td>\n",
              "      <td>NaN</td>\n",
              "      <td>9780.0</td>\n",
              "      <td>NaN</td>\n",
              "      <td>NaN</td>\n",
              "      <td>NaN</td>\n",
              "      <td>NaN</td>\n",
              "      <td>NaN</td>\n",
              "      <td>1781.0</td>\n",
              "      <td>NaN</td>\n",
              "      <td>2943.0</td>\n",
              "      <td>NaN</td>\n",
              "      <td>NaN</td>\n",
              "      <td>NaN</td>\n",
              "      <td>NaN</td>\n",
              "      <td>NaN</td>\n",
              "    </tr>\n",
              "    <tr>\n",
              "      <th>2</th>\n",
              "      <td>1/3/2015</td>\n",
              "      <td>287</td>\n",
              "      <td>2769.0</td>\n",
              "      <td>8166.0</td>\n",
              "      <td>9722.0</td>\n",
              "      <td>NaN</td>\n",
              "      <td>NaN</td>\n",
              "      <td>NaN</td>\n",
              "      <td>NaN</td>\n",
              "      <td>NaN</td>\n",
              "      <td>1767.0</td>\n",
              "      <td>3496.0</td>\n",
              "      <td>2915.0</td>\n",
              "      <td>NaN</td>\n",
              "      <td>NaN</td>\n",
              "      <td>NaN</td>\n",
              "      <td>NaN</td>\n",
              "      <td>NaN</td>\n",
              "    </tr>\n",
              "    <tr>\n",
              "      <th>3</th>\n",
              "      <td>1/2/2015</td>\n",
              "      <td>286</td>\n",
              "      <td>NaN</td>\n",
              "      <td>8157.0</td>\n",
              "      <td>NaN</td>\n",
              "      <td>NaN</td>\n",
              "      <td>NaN</td>\n",
              "      <td>NaN</td>\n",
              "      <td>NaN</td>\n",
              "      <td>NaN</td>\n",
              "      <td>NaN</td>\n",
              "      <td>3496.0</td>\n",
              "      <td>NaN</td>\n",
              "      <td>NaN</td>\n",
              "      <td>NaN</td>\n",
              "      <td>NaN</td>\n",
              "      <td>NaN</td>\n",
              "      <td>NaN</td>\n",
              "    </tr>\n",
              "    <tr>\n",
              "      <th>4</th>\n",
              "      <td>12/31/2014</td>\n",
              "      <td>284</td>\n",
              "      <td>2730.0</td>\n",
              "      <td>8115.0</td>\n",
              "      <td>9633.0</td>\n",
              "      <td>NaN</td>\n",
              "      <td>NaN</td>\n",
              "      <td>NaN</td>\n",
              "      <td>NaN</td>\n",
              "      <td>NaN</td>\n",
              "      <td>1739.0</td>\n",
              "      <td>3471.0</td>\n",
              "      <td>2827.0</td>\n",
              "      <td>NaN</td>\n",
              "      <td>NaN</td>\n",
              "      <td>NaN</td>\n",
              "      <td>NaN</td>\n",
              "      <td>NaN</td>\n",
              "    </tr>\n",
              "  </tbody>\n",
              "</table>\n",
              "</div>"
            ],
            "text/plain": [
              "         Date  Day  ...  Deaths_Spain  Deaths_Mali\n",
              "0    1/5/2015  289  ...           NaN          NaN\n",
              "1    1/4/2015  288  ...           NaN          NaN\n",
              "2    1/3/2015  287  ...           NaN          NaN\n",
              "3    1/2/2015  286  ...           NaN          NaN\n",
              "4  12/31/2014  284  ...           NaN          NaN\n",
              "\n",
              "[5 rows x 18 columns]"
            ]
          },
          "metadata": {
            "tags": []
          },
          "execution_count": 13
        }
      ]
    },
    {
      "cell_type": "code",
      "metadata": {
        "colab": {
          "base_uri": "https://localhost:8080/",
          "height": 197
        },
        "id": "PCowwFhq1vAL",
        "outputId": "2432ee40-5d97-4017-ce22-650a1e0eb9de"
      },
      "source": [
        "ebola_long = pd.melt(ebola, id_vars=['Date', 'Day'])\n",
        "ebola_long.head()"
      ],
      "execution_count": 14,
      "outputs": [
        {
          "output_type": "execute_result",
          "data": {
            "text/html": [
              "<div>\n",
              "<style scoped>\n",
              "    .dataframe tbody tr th:only-of-type {\n",
              "        vertical-align: middle;\n",
              "    }\n",
              "\n",
              "    .dataframe tbody tr th {\n",
              "        vertical-align: top;\n",
              "    }\n",
              "\n",
              "    .dataframe thead th {\n",
              "        text-align: right;\n",
              "    }\n",
              "</style>\n",
              "<table border=\"1\" class=\"dataframe\">\n",
              "  <thead>\n",
              "    <tr style=\"text-align: right;\">\n",
              "      <th></th>\n",
              "      <th>Date</th>\n",
              "      <th>Day</th>\n",
              "      <th>variable</th>\n",
              "      <th>value</th>\n",
              "    </tr>\n",
              "  </thead>\n",
              "  <tbody>\n",
              "    <tr>\n",
              "      <th>0</th>\n",
              "      <td>1/5/2015</td>\n",
              "      <td>289</td>\n",
              "      <td>Cases_Guinea</td>\n",
              "      <td>2776.0</td>\n",
              "    </tr>\n",
              "    <tr>\n",
              "      <th>1</th>\n",
              "      <td>1/4/2015</td>\n",
              "      <td>288</td>\n",
              "      <td>Cases_Guinea</td>\n",
              "      <td>2775.0</td>\n",
              "    </tr>\n",
              "    <tr>\n",
              "      <th>2</th>\n",
              "      <td>1/3/2015</td>\n",
              "      <td>287</td>\n",
              "      <td>Cases_Guinea</td>\n",
              "      <td>2769.0</td>\n",
              "    </tr>\n",
              "    <tr>\n",
              "      <th>3</th>\n",
              "      <td>1/2/2015</td>\n",
              "      <td>286</td>\n",
              "      <td>Cases_Guinea</td>\n",
              "      <td>NaN</td>\n",
              "    </tr>\n",
              "    <tr>\n",
              "      <th>4</th>\n",
              "      <td>12/31/2014</td>\n",
              "      <td>284</td>\n",
              "      <td>Cases_Guinea</td>\n",
              "      <td>2730.0</td>\n",
              "    </tr>\n",
              "  </tbody>\n",
              "</table>\n",
              "</div>"
            ],
            "text/plain": [
              "         Date  Day      variable   value\n",
              "0    1/5/2015  289  Cases_Guinea  2776.0\n",
              "1    1/4/2015  288  Cases_Guinea  2775.0\n",
              "2    1/3/2015  287  Cases_Guinea  2769.0\n",
              "3    1/2/2015  286  Cases_Guinea     NaN\n",
              "4  12/31/2014  284  Cases_Guinea  2730.0"
            ]
          },
          "metadata": {
            "tags": []
          },
          "execution_count": 14
        }
      ]
    },
    {
      "cell_type": "code",
      "metadata": {
        "colab": {
          "base_uri": "https://localhost:8080/"
        },
        "id": "RGOg9Kik1u96",
        "outputId": "531cc80b-78a6-45fe-d2a8-439e7e250c81"
      },
      "source": [
        "\n",
        "'Cases_Guinea'.split('_')"
      ],
      "execution_count": 15,
      "outputs": [
        {
          "output_type": "execute_result",
          "data": {
            "text/plain": [
              "['Cases', 'Guinea']"
            ]
          },
          "metadata": {
            "tags": []
          },
          "execution_count": 15
        }
      ]
    },
    {
      "cell_type": "code",
      "metadata": {
        "id": "XjBRTaqd1u7P"
      },
      "source": [
        "\n",
        "# string accessor\n",
        "variable_split = ebola_long['variable'].str.split('_')"
      ],
      "execution_count": 16,
      "outputs": []
    },
    {
      "cell_type": "code",
      "metadata": {
        "colab": {
          "base_uri": "https://localhost:8080/"
        },
        "id": "SBf15jQ51u4b",
        "outputId": "0b728ec8-6000-4241-cee1-fdb6d57accc2"
      },
      "source": [
        "type(variable_split)"
      ],
      "execution_count": 17,
      "outputs": [
        {
          "output_type": "execute_result",
          "data": {
            "text/plain": [
              "pandas.core.series.Series"
            ]
          },
          "metadata": {
            "tags": []
          },
          "execution_count": 17
        }
      ]
    },
    {
      "cell_type": "code",
      "metadata": {
        "colab": {
          "base_uri": "https://localhost:8080/"
        },
        "id": "wYiWo3HL1u11",
        "outputId": "a32d7671-1d9f-4ab0-c8bb-c5b7ff0696e6"
      },
      "source": [
        "variable_split.head()"
      ],
      "execution_count": 18,
      "outputs": [
        {
          "output_type": "execute_result",
          "data": {
            "text/plain": [
              "0    [Cases, Guinea]\n",
              "1    [Cases, Guinea]\n",
              "2    [Cases, Guinea]\n",
              "3    [Cases, Guinea]\n",
              "4    [Cases, Guinea]\n",
              "Name: variable, dtype: object"
            ]
          },
          "metadata": {
            "tags": []
          },
          "execution_count": 18
        }
      ]
    },
    {
      "cell_type": "code",
      "metadata": {
        "colab": {
          "base_uri": "https://localhost:8080/"
        },
        "id": "B3xfU9_81uy4",
        "outputId": "fda002c0-b79e-42ed-9cd5-9e6bb38d6a31"
      },
      "source": [
        "\n",
        "type(variable_split[0])"
      ],
      "execution_count": 19,
      "outputs": [
        {
          "output_type": "execute_result",
          "data": {
            "text/plain": [
              "list"
            ]
          },
          "metadata": {
            "tags": []
          },
          "execution_count": 19
        }
      ]
    },
    {
      "cell_type": "code",
      "metadata": {
        "colab": {
          "base_uri": "https://localhost:8080/",
          "height": 35
        },
        "id": "sPjacFTe5ZVO",
        "outputId": "a2f33387-0eac-4851-f8fb-988d15ba9cce"
      },
      "source": [
        "\n",
        "variable_split[0][1]"
      ],
      "execution_count": 20,
      "outputs": [
        {
          "output_type": "execute_result",
          "data": {
            "application/vnd.google.colaboratory.intrinsic+json": {
              "type": "string"
            },
            "text/plain": [
              "'Guinea'"
            ]
          },
          "metadata": {
            "tags": []
          },
          "execution_count": 20
        }
      ]
    },
    {
      "cell_type": "code",
      "metadata": {
        "colab": {
          "base_uri": "https://localhost:8080/"
        },
        "id": "kVs_SwLK1uvp",
        "outputId": "f28b9946-c023-4682-8d10-a1d1f2779bf2"
      },
      "source": [
        "status_values = variable_split.str.get(0)\n",
        "status_values.head()"
      ],
      "execution_count": 21,
      "outputs": [
        {
          "output_type": "execute_result",
          "data": {
            "text/plain": [
              "0    Cases\n",
              "1    Cases\n",
              "2    Cases\n",
              "3    Cases\n",
              "4    Cases\n",
              "Name: variable, dtype: object"
            ]
          },
          "metadata": {
            "tags": []
          },
          "execution_count": 21
        }
      ]
    },
    {
      "cell_type": "code",
      "metadata": {
        "colab": {
          "base_uri": "https://localhost:8080/"
        },
        "id": "l92wLIjj1usV",
        "outputId": "bd191508-1743-488c-a703-735e84b28489"
      },
      "source": [
        "country_values = variable_split.str.get(1)\n",
        "country_values.head()"
      ],
      "execution_count": 22,
      "outputs": [
        {
          "output_type": "execute_result",
          "data": {
            "text/plain": [
              "0    Guinea\n",
              "1    Guinea\n",
              "2    Guinea\n",
              "3    Guinea\n",
              "4    Guinea\n",
              "Name: variable, dtype: object"
            ]
          },
          "metadata": {
            "tags": []
          },
          "execution_count": 22
        }
      ]
    },
    {
      "cell_type": "code",
      "metadata": {
        "id": "u2nLhVk72ffX"
      },
      "source": [
        "ebola_long['status'] = status_values\n",
        "ebola_long['country'] = country_values"
      ],
      "execution_count": 23,
      "outputs": []
    },
    {
      "cell_type": "code",
      "metadata": {
        "colab": {
          "base_uri": "https://localhost:8080/",
          "height": 197
        },
        "id": "xfdhQDkZ2fcf",
        "outputId": "e0ecca9f-160a-46a2-b4b2-48fb680b2179"
      },
      "source": [
        "ebola_long.head()"
      ],
      "execution_count": 24,
      "outputs": [
        {
          "output_type": "execute_result",
          "data": {
            "text/html": [
              "<div>\n",
              "<style scoped>\n",
              "    .dataframe tbody tr th:only-of-type {\n",
              "        vertical-align: middle;\n",
              "    }\n",
              "\n",
              "    .dataframe tbody tr th {\n",
              "        vertical-align: top;\n",
              "    }\n",
              "\n",
              "    .dataframe thead th {\n",
              "        text-align: right;\n",
              "    }\n",
              "</style>\n",
              "<table border=\"1\" class=\"dataframe\">\n",
              "  <thead>\n",
              "    <tr style=\"text-align: right;\">\n",
              "      <th></th>\n",
              "      <th>Date</th>\n",
              "      <th>Day</th>\n",
              "      <th>variable</th>\n",
              "      <th>value</th>\n",
              "      <th>status</th>\n",
              "      <th>country</th>\n",
              "    </tr>\n",
              "  </thead>\n",
              "  <tbody>\n",
              "    <tr>\n",
              "      <th>0</th>\n",
              "      <td>1/5/2015</td>\n",
              "      <td>289</td>\n",
              "      <td>Cases_Guinea</td>\n",
              "      <td>2776.0</td>\n",
              "      <td>Cases</td>\n",
              "      <td>Guinea</td>\n",
              "    </tr>\n",
              "    <tr>\n",
              "      <th>1</th>\n",
              "      <td>1/4/2015</td>\n",
              "      <td>288</td>\n",
              "      <td>Cases_Guinea</td>\n",
              "      <td>2775.0</td>\n",
              "      <td>Cases</td>\n",
              "      <td>Guinea</td>\n",
              "    </tr>\n",
              "    <tr>\n",
              "      <th>2</th>\n",
              "      <td>1/3/2015</td>\n",
              "      <td>287</td>\n",
              "      <td>Cases_Guinea</td>\n",
              "      <td>2769.0</td>\n",
              "      <td>Cases</td>\n",
              "      <td>Guinea</td>\n",
              "    </tr>\n",
              "    <tr>\n",
              "      <th>3</th>\n",
              "      <td>1/2/2015</td>\n",
              "      <td>286</td>\n",
              "      <td>Cases_Guinea</td>\n",
              "      <td>NaN</td>\n",
              "      <td>Cases</td>\n",
              "      <td>Guinea</td>\n",
              "    </tr>\n",
              "    <tr>\n",
              "      <th>4</th>\n",
              "      <td>12/31/2014</td>\n",
              "      <td>284</td>\n",
              "      <td>Cases_Guinea</td>\n",
              "      <td>2730.0</td>\n",
              "      <td>Cases</td>\n",
              "      <td>Guinea</td>\n",
              "    </tr>\n",
              "  </tbody>\n",
              "</table>\n",
              "</div>"
            ],
            "text/plain": [
              "         Date  Day      variable   value status country\n",
              "0    1/5/2015  289  Cases_Guinea  2776.0  Cases  Guinea\n",
              "1    1/4/2015  288  Cases_Guinea  2775.0  Cases  Guinea\n",
              "2    1/3/2015  287  Cases_Guinea  2769.0  Cases  Guinea\n",
              "3    1/2/2015  286  Cases_Guinea     NaN  Cases  Guinea\n",
              "4  12/31/2014  284  Cases_Guinea  2730.0  Cases  Guinea"
            ]
          },
          "metadata": {
            "tags": []
          },
          "execution_count": 24
        }
      ]
    },
    {
      "cell_type": "code",
      "metadata": {
        "id": "hlHbsii02fYx"
      },
      "source": [
        "variable_split = ebola_long['variable'].str.split('_', expand=True)"
      ],
      "execution_count": 25,
      "outputs": []
    },
    {
      "cell_type": "code",
      "metadata": {
        "colab": {
          "base_uri": "https://localhost:8080/"
        },
        "id": "J3EUHbtR2fVU",
        "outputId": "e31cccda-3744-4f48-978e-af6ce1fed119"
      },
      "source": [
        "type(variable_split)"
      ],
      "execution_count": 26,
      "outputs": [
        {
          "output_type": "execute_result",
          "data": {
            "text/plain": [
              "pandas.core.frame.DataFrame"
            ]
          },
          "metadata": {
            "tags": []
          },
          "execution_count": 26
        }
      ]
    },
    {
      "cell_type": "code",
      "metadata": {
        "colab": {
          "base_uri": "https://localhost:8080/",
          "height": 197
        },
        "id": "J9NOubAk2fR_",
        "outputId": "94678dbd-4218-48a2-cdac-5f50b8919202"
      },
      "source": [
        "variable_split.head()"
      ],
      "execution_count": 27,
      "outputs": [
        {
          "output_type": "execute_result",
          "data": {
            "text/html": [
              "<div>\n",
              "<style scoped>\n",
              "    .dataframe tbody tr th:only-of-type {\n",
              "        vertical-align: middle;\n",
              "    }\n",
              "\n",
              "    .dataframe tbody tr th {\n",
              "        vertical-align: top;\n",
              "    }\n",
              "\n",
              "    .dataframe thead th {\n",
              "        text-align: right;\n",
              "    }\n",
              "</style>\n",
              "<table border=\"1\" class=\"dataframe\">\n",
              "  <thead>\n",
              "    <tr style=\"text-align: right;\">\n",
              "      <th></th>\n",
              "      <th>0</th>\n",
              "      <th>1</th>\n",
              "    </tr>\n",
              "  </thead>\n",
              "  <tbody>\n",
              "    <tr>\n",
              "      <th>0</th>\n",
              "      <td>Cases</td>\n",
              "      <td>Guinea</td>\n",
              "    </tr>\n",
              "    <tr>\n",
              "      <th>1</th>\n",
              "      <td>Cases</td>\n",
              "      <td>Guinea</td>\n",
              "    </tr>\n",
              "    <tr>\n",
              "      <th>2</th>\n",
              "      <td>Cases</td>\n",
              "      <td>Guinea</td>\n",
              "    </tr>\n",
              "    <tr>\n",
              "      <th>3</th>\n",
              "      <td>Cases</td>\n",
              "      <td>Guinea</td>\n",
              "    </tr>\n",
              "    <tr>\n",
              "      <th>4</th>\n",
              "      <td>Cases</td>\n",
              "      <td>Guinea</td>\n",
              "    </tr>\n",
              "  </tbody>\n",
              "</table>\n",
              "</div>"
            ],
            "text/plain": [
              "       0       1\n",
              "0  Cases  Guinea\n",
              "1  Cases  Guinea\n",
              "2  Cases  Guinea\n",
              "3  Cases  Guinea\n",
              "4  Cases  Guinea"
            ]
          },
          "metadata": {
            "tags": []
          },
          "execution_count": 27
        }
      ]
    },
    {
      "cell_type": "code",
      "metadata": {
        "id": "ZfbFprUL2oHv"
      },
      "source": [
        "#30\n",
        "ebola_long = pd.concat([ebola_long, variable_split], axis=1)"
      ],
      "execution_count": 28,
      "outputs": []
    },
    {
      "cell_type": "code",
      "metadata": {
        "colab": {
          "base_uri": "https://localhost:8080/",
          "height": 197
        },
        "id": "W5aI5mh02oE3",
        "outputId": "1d4e1366-7631-416a-f75d-245c483f5e1f"
      },
      "source": [
        "\n",
        "ebola_long.head()"
      ],
      "execution_count": 29,
      "outputs": [
        {
          "output_type": "execute_result",
          "data": {
            "text/html": [
              "<div>\n",
              "<style scoped>\n",
              "    .dataframe tbody tr th:only-of-type {\n",
              "        vertical-align: middle;\n",
              "    }\n",
              "\n",
              "    .dataframe tbody tr th {\n",
              "        vertical-align: top;\n",
              "    }\n",
              "\n",
              "    .dataframe thead th {\n",
              "        text-align: right;\n",
              "    }\n",
              "</style>\n",
              "<table border=\"1\" class=\"dataframe\">\n",
              "  <thead>\n",
              "    <tr style=\"text-align: right;\">\n",
              "      <th></th>\n",
              "      <th>Date</th>\n",
              "      <th>Day</th>\n",
              "      <th>variable</th>\n",
              "      <th>value</th>\n",
              "      <th>status</th>\n",
              "      <th>country</th>\n",
              "      <th>0</th>\n",
              "      <th>1</th>\n",
              "    </tr>\n",
              "  </thead>\n",
              "  <tbody>\n",
              "    <tr>\n",
              "      <th>0</th>\n",
              "      <td>1/5/2015</td>\n",
              "      <td>289</td>\n",
              "      <td>Cases_Guinea</td>\n",
              "      <td>2776.0</td>\n",
              "      <td>Cases</td>\n",
              "      <td>Guinea</td>\n",
              "      <td>Cases</td>\n",
              "      <td>Guinea</td>\n",
              "    </tr>\n",
              "    <tr>\n",
              "      <th>1</th>\n",
              "      <td>1/4/2015</td>\n",
              "      <td>288</td>\n",
              "      <td>Cases_Guinea</td>\n",
              "      <td>2775.0</td>\n",
              "      <td>Cases</td>\n",
              "      <td>Guinea</td>\n",
              "      <td>Cases</td>\n",
              "      <td>Guinea</td>\n",
              "    </tr>\n",
              "    <tr>\n",
              "      <th>2</th>\n",
              "      <td>1/3/2015</td>\n",
              "      <td>287</td>\n",
              "      <td>Cases_Guinea</td>\n",
              "      <td>2769.0</td>\n",
              "      <td>Cases</td>\n",
              "      <td>Guinea</td>\n",
              "      <td>Cases</td>\n",
              "      <td>Guinea</td>\n",
              "    </tr>\n",
              "    <tr>\n",
              "      <th>3</th>\n",
              "      <td>1/2/2015</td>\n",
              "      <td>286</td>\n",
              "      <td>Cases_Guinea</td>\n",
              "      <td>NaN</td>\n",
              "      <td>Cases</td>\n",
              "      <td>Guinea</td>\n",
              "      <td>Cases</td>\n",
              "      <td>Guinea</td>\n",
              "    </tr>\n",
              "    <tr>\n",
              "      <th>4</th>\n",
              "      <td>12/31/2014</td>\n",
              "      <td>284</td>\n",
              "      <td>Cases_Guinea</td>\n",
              "      <td>2730.0</td>\n",
              "      <td>Cases</td>\n",
              "      <td>Guinea</td>\n",
              "      <td>Cases</td>\n",
              "      <td>Guinea</td>\n",
              "    </tr>\n",
              "  </tbody>\n",
              "</table>\n",
              "</div>"
            ],
            "text/plain": [
              "         Date  Day      variable   value status country      0       1\n",
              "0    1/5/2015  289  Cases_Guinea  2776.0  Cases  Guinea  Cases  Guinea\n",
              "1    1/4/2015  288  Cases_Guinea  2775.0  Cases  Guinea  Cases  Guinea\n",
              "2    1/3/2015  287  Cases_Guinea  2769.0  Cases  Guinea  Cases  Guinea\n",
              "3    1/2/2015  286  Cases_Guinea     NaN  Cases  Guinea  Cases  Guinea\n",
              "4  12/31/2014  284  Cases_Guinea  2730.0  Cases  Guinea  Cases  Guinea"
            ]
          },
          "metadata": {
            "tags": []
          },
          "execution_count": 29
        }
      ]
    },
    {
      "cell_type": "code",
      "metadata": {
        "id": "aL-wZbLM2oCJ"
      },
      "source": [
        "\n",
        "ebola_long[['status_sim', 'country_sim']] = ebola_long['variable'].str.split('_', expand=True)"
      ],
      "execution_count": 30,
      "outputs": []
    },
    {
      "cell_type": "code",
      "metadata": {
        "colab": {
          "base_uri": "https://localhost:8080/",
          "height": 197
        },
        "id": "53zpPEMN2n-y",
        "outputId": "694e9b0a-8adf-438e-ef0f-a9773549e00e"
      },
      "source": [
        "\n",
        "ebola_long.head()"
      ],
      "execution_count": 31,
      "outputs": [
        {
          "output_type": "execute_result",
          "data": {
            "text/html": [
              "<div>\n",
              "<style scoped>\n",
              "    .dataframe tbody tr th:only-of-type {\n",
              "        vertical-align: middle;\n",
              "    }\n",
              "\n",
              "    .dataframe tbody tr th {\n",
              "        vertical-align: top;\n",
              "    }\n",
              "\n",
              "    .dataframe thead th {\n",
              "        text-align: right;\n",
              "    }\n",
              "</style>\n",
              "<table border=\"1\" class=\"dataframe\">\n",
              "  <thead>\n",
              "    <tr style=\"text-align: right;\">\n",
              "      <th></th>\n",
              "      <th>Date</th>\n",
              "      <th>Day</th>\n",
              "      <th>variable</th>\n",
              "      <th>value</th>\n",
              "      <th>status</th>\n",
              "      <th>country</th>\n",
              "      <th>0</th>\n",
              "      <th>1</th>\n",
              "      <th>status_sim</th>\n",
              "      <th>country_sim</th>\n",
              "    </tr>\n",
              "  </thead>\n",
              "  <tbody>\n",
              "    <tr>\n",
              "      <th>0</th>\n",
              "      <td>1/5/2015</td>\n",
              "      <td>289</td>\n",
              "      <td>Cases_Guinea</td>\n",
              "      <td>2776.0</td>\n",
              "      <td>Cases</td>\n",
              "      <td>Guinea</td>\n",
              "      <td>Cases</td>\n",
              "      <td>Guinea</td>\n",
              "      <td>Cases</td>\n",
              "      <td>Guinea</td>\n",
              "    </tr>\n",
              "    <tr>\n",
              "      <th>1</th>\n",
              "      <td>1/4/2015</td>\n",
              "      <td>288</td>\n",
              "      <td>Cases_Guinea</td>\n",
              "      <td>2775.0</td>\n",
              "      <td>Cases</td>\n",
              "      <td>Guinea</td>\n",
              "      <td>Cases</td>\n",
              "      <td>Guinea</td>\n",
              "      <td>Cases</td>\n",
              "      <td>Guinea</td>\n",
              "    </tr>\n",
              "    <tr>\n",
              "      <th>2</th>\n",
              "      <td>1/3/2015</td>\n",
              "      <td>287</td>\n",
              "      <td>Cases_Guinea</td>\n",
              "      <td>2769.0</td>\n",
              "      <td>Cases</td>\n",
              "      <td>Guinea</td>\n",
              "      <td>Cases</td>\n",
              "      <td>Guinea</td>\n",
              "      <td>Cases</td>\n",
              "      <td>Guinea</td>\n",
              "    </tr>\n",
              "    <tr>\n",
              "      <th>3</th>\n",
              "      <td>1/2/2015</td>\n",
              "      <td>286</td>\n",
              "      <td>Cases_Guinea</td>\n",
              "      <td>NaN</td>\n",
              "      <td>Cases</td>\n",
              "      <td>Guinea</td>\n",
              "      <td>Cases</td>\n",
              "      <td>Guinea</td>\n",
              "      <td>Cases</td>\n",
              "      <td>Guinea</td>\n",
              "    </tr>\n",
              "    <tr>\n",
              "      <th>4</th>\n",
              "      <td>12/31/2014</td>\n",
              "      <td>284</td>\n",
              "      <td>Cases_Guinea</td>\n",
              "      <td>2730.0</td>\n",
              "      <td>Cases</td>\n",
              "      <td>Guinea</td>\n",
              "      <td>Cases</td>\n",
              "      <td>Guinea</td>\n",
              "      <td>Cases</td>\n",
              "      <td>Guinea</td>\n",
              "    </tr>\n",
              "  </tbody>\n",
              "</table>\n",
              "</div>"
            ],
            "text/plain": [
              "         Date  Day      variable   value  ...      0       1 status_sim country_sim\n",
              "0    1/5/2015  289  Cases_Guinea  2776.0  ...  Cases  Guinea      Cases      Guinea\n",
              "1    1/4/2015  288  Cases_Guinea  2775.0  ...  Cases  Guinea      Cases      Guinea\n",
              "2    1/3/2015  287  Cases_Guinea  2769.0  ...  Cases  Guinea      Cases      Guinea\n",
              "3    1/2/2015  286  Cases_Guinea     NaN  ...  Cases  Guinea      Cases      Guinea\n",
              "4  12/31/2014  284  Cases_Guinea  2730.0  ...  Cases  Guinea      Cases      Guinea\n",
              "\n",
              "[5 rows x 10 columns]"
            ]
          },
          "metadata": {
            "tags": []
          },
          "execution_count": 31
        }
      ]
    },
    {
      "cell_type": "code",
      "metadata": {
        "id": "4ERZfVJh2n7S"
      },
      "source": [
        "weather = pd.read_csv('/content/weather.csv')"
      ],
      "execution_count": 32,
      "outputs": []
    },
    {
      "cell_type": "code",
      "metadata": {
        "colab": {
          "base_uri": "https://localhost:8080/"
        },
        "id": "6ZqoIQmF2n4i",
        "outputId": "331a0c04-28d8-4b81-8cbd-a0c17932a29d"
      },
      "source": [
        "weather.shape"
      ],
      "execution_count": 33,
      "outputs": [
        {
          "output_type": "execute_result",
          "data": {
            "text/plain": [
              "(22, 35)"
            ]
          },
          "metadata": {
            "tags": []
          },
          "execution_count": 33
        }
      ]
    },
    {
      "cell_type": "code",
      "metadata": {
        "colab": {
          "base_uri": "https://localhost:8080/",
          "height": 197
        },
        "id": "k1F2kbgL2n1Q",
        "outputId": "9d4b1e7a-357a-4f61-db33-151debbf654e"
      },
      "source": [
        "\n",
        "weather.iloc[:5, :11]"
      ],
      "execution_count": 34,
      "outputs": [
        {
          "output_type": "execute_result",
          "data": {
            "text/html": [
              "<div>\n",
              "<style scoped>\n",
              "    .dataframe tbody tr th:only-of-type {\n",
              "        vertical-align: middle;\n",
              "    }\n",
              "\n",
              "    .dataframe tbody tr th {\n",
              "        vertical-align: top;\n",
              "    }\n",
              "\n",
              "    .dataframe thead th {\n",
              "        text-align: right;\n",
              "    }\n",
              "</style>\n",
              "<table border=\"1\" class=\"dataframe\">\n",
              "  <thead>\n",
              "    <tr style=\"text-align: right;\">\n",
              "      <th></th>\n",
              "      <th>id</th>\n",
              "      <th>year</th>\n",
              "      <th>month</th>\n",
              "      <th>element</th>\n",
              "      <th>d1</th>\n",
              "      <th>d2</th>\n",
              "      <th>d3</th>\n",
              "      <th>d4</th>\n",
              "      <th>d5</th>\n",
              "      <th>d6</th>\n",
              "      <th>d7</th>\n",
              "    </tr>\n",
              "  </thead>\n",
              "  <tbody>\n",
              "    <tr>\n",
              "      <th>0</th>\n",
              "      <td>MX17004</td>\n",
              "      <td>2010</td>\n",
              "      <td>1</td>\n",
              "      <td>tmax</td>\n",
              "      <td>NaN</td>\n",
              "      <td>NaN</td>\n",
              "      <td>NaN</td>\n",
              "      <td>NaN</td>\n",
              "      <td>NaN</td>\n",
              "      <td>NaN</td>\n",
              "      <td>NaN</td>\n",
              "    </tr>\n",
              "    <tr>\n",
              "      <th>1</th>\n",
              "      <td>MX17004</td>\n",
              "      <td>2010</td>\n",
              "      <td>1</td>\n",
              "      <td>tmin</td>\n",
              "      <td>NaN</td>\n",
              "      <td>NaN</td>\n",
              "      <td>NaN</td>\n",
              "      <td>NaN</td>\n",
              "      <td>NaN</td>\n",
              "      <td>NaN</td>\n",
              "      <td>NaN</td>\n",
              "    </tr>\n",
              "    <tr>\n",
              "      <th>2</th>\n",
              "      <td>MX17004</td>\n",
              "      <td>2010</td>\n",
              "      <td>2</td>\n",
              "      <td>tmax</td>\n",
              "      <td>NaN</td>\n",
              "      <td>27.3</td>\n",
              "      <td>24.1</td>\n",
              "      <td>NaN</td>\n",
              "      <td>NaN</td>\n",
              "      <td>NaN</td>\n",
              "      <td>NaN</td>\n",
              "    </tr>\n",
              "    <tr>\n",
              "      <th>3</th>\n",
              "      <td>MX17004</td>\n",
              "      <td>2010</td>\n",
              "      <td>2</td>\n",
              "      <td>tmin</td>\n",
              "      <td>NaN</td>\n",
              "      <td>14.4</td>\n",
              "      <td>14.4</td>\n",
              "      <td>NaN</td>\n",
              "      <td>NaN</td>\n",
              "      <td>NaN</td>\n",
              "      <td>NaN</td>\n",
              "    </tr>\n",
              "    <tr>\n",
              "      <th>4</th>\n",
              "      <td>MX17004</td>\n",
              "      <td>2010</td>\n",
              "      <td>3</td>\n",
              "      <td>tmax</td>\n",
              "      <td>NaN</td>\n",
              "      <td>NaN</td>\n",
              "      <td>NaN</td>\n",
              "      <td>NaN</td>\n",
              "      <td>32.1</td>\n",
              "      <td>NaN</td>\n",
              "      <td>NaN</td>\n",
              "    </tr>\n",
              "  </tbody>\n",
              "</table>\n",
              "</div>"
            ],
            "text/plain": [
              "        id  year  month element  d1    d2    d3  d4    d5  d6  d7\n",
              "0  MX17004  2010      1    tmax NaN   NaN   NaN NaN   NaN NaN NaN\n",
              "1  MX17004  2010      1    tmin NaN   NaN   NaN NaN   NaN NaN NaN\n",
              "2  MX17004  2010      2    tmax NaN  27.3  24.1 NaN   NaN NaN NaN\n",
              "3  MX17004  2010      2    tmin NaN  14.4  14.4 NaN   NaN NaN NaN\n",
              "4  MX17004  2010      3    tmax NaN   NaN   NaN NaN  32.1 NaN NaN"
            ]
          },
          "metadata": {
            "tags": []
          },
          "execution_count": 34
        }
      ]
    },
    {
      "cell_type": "code",
      "metadata": {
        "id": "NxsjCd612nyg"
      },
      "source": [
        "weather_melt = pd.melt(\n",
        "    weather,\n",
        "    id_vars=['id', 'year', 'month', 'element'],\n",
        "    var_name='day',\n",
        "    value_name='temp'\n",
        ")"
      ],
      "execution_count": 35,
      "outputs": []
    },
    {
      "cell_type": "code",
      "metadata": {
        "colab": {
          "base_uri": "https://localhost:8080/",
          "height": 197
        },
        "id": "S3VMyEaf2nvJ",
        "outputId": "cefdf284-b83d-4b24-80f7-8ea4a024dcaf"
      },
      "source": [
        "weather_melt.head()"
      ],
      "execution_count": 36,
      "outputs": [
        {
          "output_type": "execute_result",
          "data": {
            "text/html": [
              "<div>\n",
              "<style scoped>\n",
              "    .dataframe tbody tr th:only-of-type {\n",
              "        vertical-align: middle;\n",
              "    }\n",
              "\n",
              "    .dataframe tbody tr th {\n",
              "        vertical-align: top;\n",
              "    }\n",
              "\n",
              "    .dataframe thead th {\n",
              "        text-align: right;\n",
              "    }\n",
              "</style>\n",
              "<table border=\"1\" class=\"dataframe\">\n",
              "  <thead>\n",
              "    <tr style=\"text-align: right;\">\n",
              "      <th></th>\n",
              "      <th>id</th>\n",
              "      <th>year</th>\n",
              "      <th>month</th>\n",
              "      <th>element</th>\n",
              "      <th>day</th>\n",
              "      <th>temp</th>\n",
              "    </tr>\n",
              "  </thead>\n",
              "  <tbody>\n",
              "    <tr>\n",
              "      <th>0</th>\n",
              "      <td>MX17004</td>\n",
              "      <td>2010</td>\n",
              "      <td>1</td>\n",
              "      <td>tmax</td>\n",
              "      <td>d1</td>\n",
              "      <td>NaN</td>\n",
              "    </tr>\n",
              "    <tr>\n",
              "      <th>1</th>\n",
              "      <td>MX17004</td>\n",
              "      <td>2010</td>\n",
              "      <td>1</td>\n",
              "      <td>tmin</td>\n",
              "      <td>d1</td>\n",
              "      <td>NaN</td>\n",
              "    </tr>\n",
              "    <tr>\n",
              "      <th>2</th>\n",
              "      <td>MX17004</td>\n",
              "      <td>2010</td>\n",
              "      <td>2</td>\n",
              "      <td>tmax</td>\n",
              "      <td>d1</td>\n",
              "      <td>NaN</td>\n",
              "    </tr>\n",
              "    <tr>\n",
              "      <th>3</th>\n",
              "      <td>MX17004</td>\n",
              "      <td>2010</td>\n",
              "      <td>2</td>\n",
              "      <td>tmin</td>\n",
              "      <td>d1</td>\n",
              "      <td>NaN</td>\n",
              "    </tr>\n",
              "    <tr>\n",
              "      <th>4</th>\n",
              "      <td>MX17004</td>\n",
              "      <td>2010</td>\n",
              "      <td>3</td>\n",
              "      <td>tmax</td>\n",
              "      <td>d1</td>\n",
              "      <td>NaN</td>\n",
              "    </tr>\n",
              "  </tbody>\n",
              "</table>\n",
              "</div>"
            ],
            "text/plain": [
              "        id  year  month element day  temp\n",
              "0  MX17004  2010      1    tmax  d1   NaN\n",
              "1  MX17004  2010      1    tmin  d1   NaN\n",
              "2  MX17004  2010      2    tmax  d1   NaN\n",
              "3  MX17004  2010      2    tmin  d1   NaN\n",
              "4  MX17004  2010      3    tmax  d1   NaN"
            ]
          },
          "metadata": {
            "tags": []
          },
          "execution_count": 36
        }
      ]
    },
    {
      "cell_type": "code",
      "metadata": {
        "id": "8MW9KoZA2nsn"
      },
      "source": [
        "weather_tidy = weather_melt.pivot_table(\n",
        "    index=['id', 'year', 'month', 'day'],\n",
        "    columns='element',\n",
        "    values='temp'\n",
        ")"
      ],
      "execution_count": 37,
      "outputs": []
    },
    {
      "cell_type": "code",
      "metadata": {
        "colab": {
          "base_uri": "https://localhost:8080/"
        },
        "id": "TA_HvxKA2nnp",
        "outputId": "4f611d0b-2582-453f-f76b-d399a7f57d72"
      },
      "source": [
        "type(weather_tidy)"
      ],
      "execution_count": 38,
      "outputs": [
        {
          "output_type": "execute_result",
          "data": {
            "text/plain": [
              "pandas.core.frame.DataFrame"
            ]
          },
          "metadata": {
            "tags": []
          },
          "execution_count": 38
        }
      ]
    },
    {
      "cell_type": "code",
      "metadata": {
        "colab": {
          "base_uri": "https://localhost:8080/",
          "height": 197
        },
        "id": "_IQqu6Pv2nkt",
        "outputId": "58bddd9e-1efe-4c1f-b0d8-9c725d1376f8"
      },
      "source": [
        "weather_tidy.reset_index().head()"
      ],
      "execution_count": 39,
      "outputs": [
        {
          "output_type": "execute_result",
          "data": {
            "text/html": [
              "<div>\n",
              "<style scoped>\n",
              "    .dataframe tbody tr th:only-of-type {\n",
              "        vertical-align: middle;\n",
              "    }\n",
              "\n",
              "    .dataframe tbody tr th {\n",
              "        vertical-align: top;\n",
              "    }\n",
              "\n",
              "    .dataframe thead th {\n",
              "        text-align: right;\n",
              "    }\n",
              "</style>\n",
              "<table border=\"1\" class=\"dataframe\">\n",
              "  <thead>\n",
              "    <tr style=\"text-align: right;\">\n",
              "      <th>element</th>\n",
              "      <th>id</th>\n",
              "      <th>year</th>\n",
              "      <th>month</th>\n",
              "      <th>day</th>\n",
              "      <th>tmax</th>\n",
              "      <th>tmin</th>\n",
              "    </tr>\n",
              "  </thead>\n",
              "  <tbody>\n",
              "    <tr>\n",
              "      <th>0</th>\n",
              "      <td>MX17004</td>\n",
              "      <td>2010</td>\n",
              "      <td>1</td>\n",
              "      <td>d30</td>\n",
              "      <td>27.8</td>\n",
              "      <td>14.5</td>\n",
              "    </tr>\n",
              "    <tr>\n",
              "      <th>1</th>\n",
              "      <td>MX17004</td>\n",
              "      <td>2010</td>\n",
              "      <td>2</td>\n",
              "      <td>d11</td>\n",
              "      <td>29.7</td>\n",
              "      <td>13.4</td>\n",
              "    </tr>\n",
              "    <tr>\n",
              "      <th>2</th>\n",
              "      <td>MX17004</td>\n",
              "      <td>2010</td>\n",
              "      <td>2</td>\n",
              "      <td>d2</td>\n",
              "      <td>27.3</td>\n",
              "      <td>14.4</td>\n",
              "    </tr>\n",
              "    <tr>\n",
              "      <th>3</th>\n",
              "      <td>MX17004</td>\n",
              "      <td>2010</td>\n",
              "      <td>2</td>\n",
              "      <td>d23</td>\n",
              "      <td>29.9</td>\n",
              "      <td>10.7</td>\n",
              "    </tr>\n",
              "    <tr>\n",
              "      <th>4</th>\n",
              "      <td>MX17004</td>\n",
              "      <td>2010</td>\n",
              "      <td>2</td>\n",
              "      <td>d3</td>\n",
              "      <td>24.1</td>\n",
              "      <td>14.4</td>\n",
              "    </tr>\n",
              "  </tbody>\n",
              "</table>\n",
              "</div>"
            ],
            "text/plain": [
              "element       id  year  month  day  tmax  tmin\n",
              "0        MX17004  2010      1  d30  27.8  14.5\n",
              "1        MX17004  2010      2  d11  29.7  13.4\n",
              "2        MX17004  2010      2   d2  27.3  14.4\n",
              "3        MX17004  2010      2  d23  29.9  10.7\n",
              "4        MX17004  2010      2   d3  24.1  14.4"
            ]
          },
          "metadata": {
            "tags": []
          },
          "execution_count": 39
        }
      ]
    },
    {
      "cell_type": "code",
      "metadata": {
        "id": "yaMH9-lI2nh5"
      },
      "source": [
        "weather_tidy = (weather_melt\n",
        "                .pivot_table(\n",
        "                    index=['id', 'year', 'month', 'day'],\n",
        "                    columns='element',\n",
        "                    values='temp')\n",
        "                .reset_index()\n",
        ")"
      ],
      "execution_count": 40,
      "outputs": []
    },
    {
      "cell_type": "code",
      "metadata": {
        "colab": {
          "base_uri": "https://localhost:8080/",
          "height": 197
        },
        "id": "d1qwSGqh2nfP",
        "outputId": "bec10695-2d23-456e-b9af-0258c0ab597f"
      },
      "source": [
        "weather_tidy.head()"
      ],
      "execution_count": 41,
      "outputs": [
        {
          "output_type": "execute_result",
          "data": {
            "text/html": [
              "<div>\n",
              "<style scoped>\n",
              "    .dataframe tbody tr th:only-of-type {\n",
              "        vertical-align: middle;\n",
              "    }\n",
              "\n",
              "    .dataframe tbody tr th {\n",
              "        vertical-align: top;\n",
              "    }\n",
              "\n",
              "    .dataframe thead th {\n",
              "        text-align: right;\n",
              "    }\n",
              "</style>\n",
              "<table border=\"1\" class=\"dataframe\">\n",
              "  <thead>\n",
              "    <tr style=\"text-align: right;\">\n",
              "      <th>element</th>\n",
              "      <th>id</th>\n",
              "      <th>year</th>\n",
              "      <th>month</th>\n",
              "      <th>day</th>\n",
              "      <th>tmax</th>\n",
              "      <th>tmin</th>\n",
              "    </tr>\n",
              "  </thead>\n",
              "  <tbody>\n",
              "    <tr>\n",
              "      <th>0</th>\n",
              "      <td>MX17004</td>\n",
              "      <td>2010</td>\n",
              "      <td>1</td>\n",
              "      <td>d30</td>\n",
              "      <td>27.8</td>\n",
              "      <td>14.5</td>\n",
              "    </tr>\n",
              "    <tr>\n",
              "      <th>1</th>\n",
              "      <td>MX17004</td>\n",
              "      <td>2010</td>\n",
              "      <td>2</td>\n",
              "      <td>d11</td>\n",
              "      <td>29.7</td>\n",
              "      <td>13.4</td>\n",
              "    </tr>\n",
              "    <tr>\n",
              "      <th>2</th>\n",
              "      <td>MX17004</td>\n",
              "      <td>2010</td>\n",
              "      <td>2</td>\n",
              "      <td>d2</td>\n",
              "      <td>27.3</td>\n",
              "      <td>14.4</td>\n",
              "    </tr>\n",
              "    <tr>\n",
              "      <th>3</th>\n",
              "      <td>MX17004</td>\n",
              "      <td>2010</td>\n",
              "      <td>2</td>\n",
              "      <td>d23</td>\n",
              "      <td>29.9</td>\n",
              "      <td>10.7</td>\n",
              "    </tr>\n",
              "    <tr>\n",
              "      <th>4</th>\n",
              "      <td>MX17004</td>\n",
              "      <td>2010</td>\n",
              "      <td>2</td>\n",
              "      <td>d3</td>\n",
              "      <td>24.1</td>\n",
              "      <td>14.4</td>\n",
              "    </tr>\n",
              "  </tbody>\n",
              "</table>\n",
              "</div>"
            ],
            "text/plain": [
              "element       id  year  month  day  tmax  tmin\n",
              "0        MX17004  2010      1  d30  27.8  14.5\n",
              "1        MX17004  2010      2  d11  29.7  13.4\n",
              "2        MX17004  2010      2   d2  27.3  14.4\n",
              "3        MX17004  2010      2  d23  29.9  10.7\n",
              "4        MX17004  2010      2   d3  24.1  14.4"
            ]
          },
          "metadata": {
            "tags": []
          },
          "execution_count": 41
        }
      ]
    },
    {
      "cell_type": "code",
      "metadata": {
        "colab": {
          "base_uri": "https://localhost:8080/",
          "height": 197
        },
        "id": "5HIyevw72nch",
        "outputId": "a83735d3-a5ff-4f24-f9ea-8ec2d17245fc"
      },
      "source": [
        "billboard_long.head()"
      ],
      "execution_count": 42,
      "outputs": [
        {
          "output_type": "execute_result",
          "data": {
            "text/html": [
              "<div>\n",
              "<style scoped>\n",
              "    .dataframe tbody tr th:only-of-type {\n",
              "        vertical-align: middle;\n",
              "    }\n",
              "\n",
              "    .dataframe tbody tr th {\n",
              "        vertical-align: top;\n",
              "    }\n",
              "\n",
              "    .dataframe thead th {\n",
              "        text-align: right;\n",
              "    }\n",
              "</style>\n",
              "<table border=\"1\" class=\"dataframe\">\n",
              "  <thead>\n",
              "    <tr style=\"text-align: right;\">\n",
              "      <th></th>\n",
              "      <th>year</th>\n",
              "      <th>artist</th>\n",
              "      <th>track</th>\n",
              "      <th>time</th>\n",
              "      <th>date.entered</th>\n",
              "      <th>week</th>\n",
              "      <th>rating</th>\n",
              "    </tr>\n",
              "  </thead>\n",
              "  <tbody>\n",
              "    <tr>\n",
              "      <th>0</th>\n",
              "      <td>2000</td>\n",
              "      <td>2 Pac</td>\n",
              "      <td>Baby Don't Cry (Keep...</td>\n",
              "      <td>4:22</td>\n",
              "      <td>2000-02-26</td>\n",
              "      <td>wk1</td>\n",
              "      <td>87.0</td>\n",
              "    </tr>\n",
              "    <tr>\n",
              "      <th>1</th>\n",
              "      <td>2000</td>\n",
              "      <td>2Ge+her</td>\n",
              "      <td>The Hardest Part Of ...</td>\n",
              "      <td>3:15</td>\n",
              "      <td>2000-09-02</td>\n",
              "      <td>wk1</td>\n",
              "      <td>91.0</td>\n",
              "    </tr>\n",
              "    <tr>\n",
              "      <th>2</th>\n",
              "      <td>2000</td>\n",
              "      <td>3 Doors Down</td>\n",
              "      <td>Kryptonite</td>\n",
              "      <td>3:53</td>\n",
              "      <td>2000-04-08</td>\n",
              "      <td>wk1</td>\n",
              "      <td>81.0</td>\n",
              "    </tr>\n",
              "    <tr>\n",
              "      <th>3</th>\n",
              "      <td>2000</td>\n",
              "      <td>3 Doors Down</td>\n",
              "      <td>Loser</td>\n",
              "      <td>4:24</td>\n",
              "      <td>2000-10-21</td>\n",
              "      <td>wk1</td>\n",
              "      <td>76.0</td>\n",
              "    </tr>\n",
              "    <tr>\n",
              "      <th>4</th>\n",
              "      <td>2000</td>\n",
              "      <td>504 Boyz</td>\n",
              "      <td>Wobble Wobble</td>\n",
              "      <td>3:35</td>\n",
              "      <td>2000-04-15</td>\n",
              "      <td>wk1</td>\n",
              "      <td>57.0</td>\n",
              "    </tr>\n",
              "  </tbody>\n",
              "</table>\n",
              "</div>"
            ],
            "text/plain": [
              "   year        artist                    track  time date.entered week  rating\n",
              "0  2000         2 Pac  Baby Don't Cry (Keep...  4:22   2000-02-26  wk1    87.0\n",
              "1  2000       2Ge+her  The Hardest Part Of ...  3:15   2000-09-02  wk1    91.0\n",
              "2  2000  3 Doors Down               Kryptonite  3:53   2000-04-08  wk1    81.0\n",
              "3  2000  3 Doors Down                    Loser  4:24   2000-10-21  wk1    76.0\n",
              "4  2000      504 Boyz            Wobble Wobble  3:35   2000-04-15  wk1    57.0"
            ]
          },
          "metadata": {
            "tags": []
          },
          "execution_count": 42
        }
      ]
    },
    {
      "cell_type": "code",
      "metadata": {
        "colab": {
          "base_uri": "https://localhost:8080/",
          "height": 406
        },
        "id": "Ugiz9xoT2pKU",
        "outputId": "b81aa9d4-8cfd-41b4-d02e-17edd7850776"
      },
      "source": [
        "\n",
        "billboard_long[billboard_long['track'] == 'Loser']"
      ],
      "execution_count": 43,
      "outputs": [
        {
          "output_type": "execute_result",
          "data": {
            "text/html": [
              "<div>\n",
              "<style scoped>\n",
              "    .dataframe tbody tr th:only-of-type {\n",
              "        vertical-align: middle;\n",
              "    }\n",
              "\n",
              "    .dataframe tbody tr th {\n",
              "        vertical-align: top;\n",
              "    }\n",
              "\n",
              "    .dataframe thead th {\n",
              "        text-align: right;\n",
              "    }\n",
              "</style>\n",
              "<table border=\"1\" class=\"dataframe\">\n",
              "  <thead>\n",
              "    <tr style=\"text-align: right;\">\n",
              "      <th></th>\n",
              "      <th>year</th>\n",
              "      <th>artist</th>\n",
              "      <th>track</th>\n",
              "      <th>time</th>\n",
              "      <th>date.entered</th>\n",
              "      <th>week</th>\n",
              "      <th>rating</th>\n",
              "    </tr>\n",
              "  </thead>\n",
              "  <tbody>\n",
              "    <tr>\n",
              "      <th>3</th>\n",
              "      <td>2000</td>\n",
              "      <td>3 Doors Down</td>\n",
              "      <td>Loser</td>\n",
              "      <td>4:24</td>\n",
              "      <td>2000-10-21</td>\n",
              "      <td>wk1</td>\n",
              "      <td>76.0</td>\n",
              "    </tr>\n",
              "    <tr>\n",
              "      <th>320</th>\n",
              "      <td>2000</td>\n",
              "      <td>3 Doors Down</td>\n",
              "      <td>Loser</td>\n",
              "      <td>4:24</td>\n",
              "      <td>2000-10-21</td>\n",
              "      <td>wk2</td>\n",
              "      <td>76.0</td>\n",
              "    </tr>\n",
              "    <tr>\n",
              "      <th>637</th>\n",
              "      <td>2000</td>\n",
              "      <td>3 Doors Down</td>\n",
              "      <td>Loser</td>\n",
              "      <td>4:24</td>\n",
              "      <td>2000-10-21</td>\n",
              "      <td>wk3</td>\n",
              "      <td>72.0</td>\n",
              "    </tr>\n",
              "    <tr>\n",
              "      <th>954</th>\n",
              "      <td>2000</td>\n",
              "      <td>3 Doors Down</td>\n",
              "      <td>Loser</td>\n",
              "      <td>4:24</td>\n",
              "      <td>2000-10-21</td>\n",
              "      <td>wk4</td>\n",
              "      <td>69.0</td>\n",
              "    </tr>\n",
              "    <tr>\n",
              "      <th>1271</th>\n",
              "      <td>2000</td>\n",
              "      <td>3 Doors Down</td>\n",
              "      <td>Loser</td>\n",
              "      <td>4:24</td>\n",
              "      <td>2000-10-21</td>\n",
              "      <td>wk5</td>\n",
              "      <td>67.0</td>\n",
              "    </tr>\n",
              "    <tr>\n",
              "      <th>...</th>\n",
              "      <td>...</td>\n",
              "      <td>...</td>\n",
              "      <td>...</td>\n",
              "      <td>...</td>\n",
              "      <td>...</td>\n",
              "      <td>...</td>\n",
              "      <td>...</td>\n",
              "    </tr>\n",
              "    <tr>\n",
              "      <th>22510</th>\n",
              "      <td>2000</td>\n",
              "      <td>3 Doors Down</td>\n",
              "      <td>Loser</td>\n",
              "      <td>4:24</td>\n",
              "      <td>2000-10-21</td>\n",
              "      <td>wk72</td>\n",
              "      <td>NaN</td>\n",
              "    </tr>\n",
              "    <tr>\n",
              "      <th>22827</th>\n",
              "      <td>2000</td>\n",
              "      <td>3 Doors Down</td>\n",
              "      <td>Loser</td>\n",
              "      <td>4:24</td>\n",
              "      <td>2000-10-21</td>\n",
              "      <td>wk73</td>\n",
              "      <td>NaN</td>\n",
              "    </tr>\n",
              "    <tr>\n",
              "      <th>23144</th>\n",
              "      <td>2000</td>\n",
              "      <td>3 Doors Down</td>\n",
              "      <td>Loser</td>\n",
              "      <td>4:24</td>\n",
              "      <td>2000-10-21</td>\n",
              "      <td>wk74</td>\n",
              "      <td>NaN</td>\n",
              "    </tr>\n",
              "    <tr>\n",
              "      <th>23461</th>\n",
              "      <td>2000</td>\n",
              "      <td>3 Doors Down</td>\n",
              "      <td>Loser</td>\n",
              "      <td>4:24</td>\n",
              "      <td>2000-10-21</td>\n",
              "      <td>wk75</td>\n",
              "      <td>NaN</td>\n",
              "    </tr>\n",
              "    <tr>\n",
              "      <th>23778</th>\n",
              "      <td>2000</td>\n",
              "      <td>3 Doors Down</td>\n",
              "      <td>Loser</td>\n",
              "      <td>4:24</td>\n",
              "      <td>2000-10-21</td>\n",
              "      <td>wk76</td>\n",
              "      <td>NaN</td>\n",
              "    </tr>\n",
              "  </tbody>\n",
              "</table>\n",
              "<p>76 rows × 7 columns</p>\n",
              "</div>"
            ],
            "text/plain": [
              "       year        artist  track  time date.entered  week  rating\n",
              "3      2000  3 Doors Down  Loser  4:24   2000-10-21   wk1    76.0\n",
              "320    2000  3 Doors Down  Loser  4:24   2000-10-21   wk2    76.0\n",
              "637    2000  3 Doors Down  Loser  4:24   2000-10-21   wk3    72.0\n",
              "954    2000  3 Doors Down  Loser  4:24   2000-10-21   wk4    69.0\n",
              "1271   2000  3 Doors Down  Loser  4:24   2000-10-21   wk5    67.0\n",
              "...     ...           ...    ...   ...          ...   ...     ...\n",
              "22510  2000  3 Doors Down  Loser  4:24   2000-10-21  wk72     NaN\n",
              "22827  2000  3 Doors Down  Loser  4:24   2000-10-21  wk73     NaN\n",
              "23144  2000  3 Doors Down  Loser  4:24   2000-10-21  wk74     NaN\n",
              "23461  2000  3 Doors Down  Loser  4:24   2000-10-21  wk75     NaN\n",
              "23778  2000  3 Doors Down  Loser  4:24   2000-10-21  wk76     NaN\n",
              "\n",
              "[76 rows x 7 columns]"
            ]
          },
          "metadata": {
            "tags": []
          },
          "execution_count": 43
        }
      ]
    },
    {
      "cell_type": "code",
      "metadata": {
        "id": "ZZuVxHO62pHg"
      },
      "source": [
        "billboard_songs = billboard_long[['year', 'artist', 'track', 'time']]"
      ],
      "execution_count": 44,
      "outputs": []
    },
    {
      "cell_type": "code",
      "metadata": {
        "colab": {
          "base_uri": "https://localhost:8080/",
          "height": 197
        },
        "id": "HFm5iNq52pEU",
        "outputId": "7741cc5b-11bb-4953-b475-d2213180901a"
      },
      "source": [
        "billboard_songs.head()"
      ],
      "execution_count": 45,
      "outputs": [
        {
          "output_type": "execute_result",
          "data": {
            "text/html": [
              "<div>\n",
              "<style scoped>\n",
              "    .dataframe tbody tr th:only-of-type {\n",
              "        vertical-align: middle;\n",
              "    }\n",
              "\n",
              "    .dataframe tbody tr th {\n",
              "        vertical-align: top;\n",
              "    }\n",
              "\n",
              "    .dataframe thead th {\n",
              "        text-align: right;\n",
              "    }\n",
              "</style>\n",
              "<table border=\"1\" class=\"dataframe\">\n",
              "  <thead>\n",
              "    <tr style=\"text-align: right;\">\n",
              "      <th></th>\n",
              "      <th>year</th>\n",
              "      <th>artist</th>\n",
              "      <th>track</th>\n",
              "      <th>time</th>\n",
              "    </tr>\n",
              "  </thead>\n",
              "  <tbody>\n",
              "    <tr>\n",
              "      <th>0</th>\n",
              "      <td>2000</td>\n",
              "      <td>2 Pac</td>\n",
              "      <td>Baby Don't Cry (Keep...</td>\n",
              "      <td>4:22</td>\n",
              "    </tr>\n",
              "    <tr>\n",
              "      <th>1</th>\n",
              "      <td>2000</td>\n",
              "      <td>2Ge+her</td>\n",
              "      <td>The Hardest Part Of ...</td>\n",
              "      <td>3:15</td>\n",
              "    </tr>\n",
              "    <tr>\n",
              "      <th>2</th>\n",
              "      <td>2000</td>\n",
              "      <td>3 Doors Down</td>\n",
              "      <td>Kryptonite</td>\n",
              "      <td>3:53</td>\n",
              "    </tr>\n",
              "    <tr>\n",
              "      <th>3</th>\n",
              "      <td>2000</td>\n",
              "      <td>3 Doors Down</td>\n",
              "      <td>Loser</td>\n",
              "      <td>4:24</td>\n",
              "    </tr>\n",
              "    <tr>\n",
              "      <th>4</th>\n",
              "      <td>2000</td>\n",
              "      <td>504 Boyz</td>\n",
              "      <td>Wobble Wobble</td>\n",
              "      <td>3:35</td>\n",
              "    </tr>\n",
              "  </tbody>\n",
              "</table>\n",
              "</div>"
            ],
            "text/plain": [
              "   year        artist                    track  time\n",
              "0  2000         2 Pac  Baby Don't Cry (Keep...  4:22\n",
              "1  2000       2Ge+her  The Hardest Part Of ...  3:15\n",
              "2  2000  3 Doors Down               Kryptonite  3:53\n",
              "3  2000  3 Doors Down                    Loser  4:24\n",
              "4  2000      504 Boyz            Wobble Wobble  3:35"
            ]
          },
          "metadata": {
            "tags": []
          },
          "execution_count": 45
        }
      ]
    },
    {
      "cell_type": "code",
      "metadata": {
        "colab": {
          "base_uri": "https://localhost:8080/"
        },
        "id": "OpbfOcy92nZ2",
        "outputId": "ef0f2c00-97cc-48e2-a383-c9d11f49822b"
      },
      "source": [
        "\n",
        "billboard_songs.shape"
      ],
      "execution_count": 46,
      "outputs": [
        {
          "output_type": "execute_result",
          "data": {
            "text/plain": [
              "(24092, 4)"
            ]
          },
          "metadata": {
            "tags": []
          },
          "execution_count": 46
        }
      ]
    },
    {
      "cell_type": "code",
      "metadata": {
        "id": "FZxEsg8d2nW5"
      },
      "source": [
        "\n",
        "billboard_songs = billboard_songs.drop_duplicates()"
      ],
      "execution_count": 47,
      "outputs": []
    },
    {
      "cell_type": "code",
      "metadata": {
        "colab": {
          "base_uri": "https://localhost:8080/"
        },
        "id": "cBvvHF3C3OsL",
        "outputId": "4af5c368-c8b3-4101-e858-96d1ba8b0200"
      },
      "source": [
        "billboard_songs.shape"
      ],
      "execution_count": 48,
      "outputs": [
        {
          "output_type": "execute_result",
          "data": {
            "text/plain": [
              "(317, 4)"
            ]
          },
          "metadata": {
            "tags": []
          },
          "execution_count": 48
        }
      ]
    },
    {
      "cell_type": "code",
      "metadata": {
        "colab": {
          "base_uri": "https://localhost:8080/"
        },
        "id": "aJA7G_i63Ops",
        "outputId": "c25ef0a6-9a6d-424b-c11f-dc12698a387a"
      },
      "source": [
        "range(10)"
      ],
      "execution_count": 49,
      "outputs": [
        {
          "output_type": "execute_result",
          "data": {
            "text/plain": [
              "range(0, 10)"
            ]
          },
          "metadata": {
            "tags": []
          },
          "execution_count": 49
        }
      ]
    },
    {
      "cell_type": "code",
      "metadata": {
        "colab": {
          "base_uri": "https://localhost:8080/"
        },
        "id": "_xPOtSQi3Omg",
        "outputId": "b54ab6b3-ca7d-4eb0-87d8-02436c03e15b"
      },
      "source": [
        "billboard_songs.shape[0]"
      ],
      "execution_count": 50,
      "outputs": [
        {
          "output_type": "execute_result",
          "data": {
            "text/plain": [
              "317"
            ]
          },
          "metadata": {
            "tags": []
          },
          "execution_count": 50
        }
      ]
    },
    {
      "cell_type": "code",
      "metadata": {
        "colab": {
          "base_uri": "https://localhost:8080/"
        },
        "id": "xJL-9u7Z3OkG",
        "outputId": "3475d8f5-7372-47b2-f25b-191584f27e29"
      },
      "source": [
        "len(billboard_songs)"
      ],
      "execution_count": 51,
      "outputs": [
        {
          "output_type": "execute_result",
          "data": {
            "text/plain": [
              "317"
            ]
          },
          "metadata": {
            "tags": []
          },
          "execution_count": 51
        }
      ]
    },
    {
      "cell_type": "code",
      "metadata": {
        "id": "mfNTAEuG3Ohy"
      },
      "source": [
        "billboard_songs['id'] = range(len(billboard_songs))"
      ],
      "execution_count": 52,
      "outputs": []
    },
    {
      "cell_type": "code",
      "metadata": {
        "colab": {
          "base_uri": "https://localhost:8080/",
          "height": 347
        },
        "id": "jnNY4gj03OfT",
        "outputId": "b7f409b6-66c0-4f6e-8da1-dfcf016baeec"
      },
      "source": [
        "billboard_songs.head(10)"
      ],
      "execution_count": 53,
      "outputs": [
        {
          "output_type": "execute_result",
          "data": {
            "text/html": [
              "<div>\n",
              "<style scoped>\n",
              "    .dataframe tbody tr th:only-of-type {\n",
              "        vertical-align: middle;\n",
              "    }\n",
              "\n",
              "    .dataframe tbody tr th {\n",
              "        vertical-align: top;\n",
              "    }\n",
              "\n",
              "    .dataframe thead th {\n",
              "        text-align: right;\n",
              "    }\n",
              "</style>\n",
              "<table border=\"1\" class=\"dataframe\">\n",
              "  <thead>\n",
              "    <tr style=\"text-align: right;\">\n",
              "      <th></th>\n",
              "      <th>year</th>\n",
              "      <th>artist</th>\n",
              "      <th>track</th>\n",
              "      <th>time</th>\n",
              "      <th>id</th>\n",
              "    </tr>\n",
              "  </thead>\n",
              "  <tbody>\n",
              "    <tr>\n",
              "      <th>0</th>\n",
              "      <td>2000</td>\n",
              "      <td>2 Pac</td>\n",
              "      <td>Baby Don't Cry (Keep...</td>\n",
              "      <td>4:22</td>\n",
              "      <td>0</td>\n",
              "    </tr>\n",
              "    <tr>\n",
              "      <th>1</th>\n",
              "      <td>2000</td>\n",
              "      <td>2Ge+her</td>\n",
              "      <td>The Hardest Part Of ...</td>\n",
              "      <td>3:15</td>\n",
              "      <td>1</td>\n",
              "    </tr>\n",
              "    <tr>\n",
              "      <th>2</th>\n",
              "      <td>2000</td>\n",
              "      <td>3 Doors Down</td>\n",
              "      <td>Kryptonite</td>\n",
              "      <td>3:53</td>\n",
              "      <td>2</td>\n",
              "    </tr>\n",
              "    <tr>\n",
              "      <th>3</th>\n",
              "      <td>2000</td>\n",
              "      <td>3 Doors Down</td>\n",
              "      <td>Loser</td>\n",
              "      <td>4:24</td>\n",
              "      <td>3</td>\n",
              "    </tr>\n",
              "    <tr>\n",
              "      <th>4</th>\n",
              "      <td>2000</td>\n",
              "      <td>504 Boyz</td>\n",
              "      <td>Wobble Wobble</td>\n",
              "      <td>3:35</td>\n",
              "      <td>4</td>\n",
              "    </tr>\n",
              "    <tr>\n",
              "      <th>5</th>\n",
              "      <td>2000</td>\n",
              "      <td>98^0</td>\n",
              "      <td>Give Me Just One Nig...</td>\n",
              "      <td>3:24</td>\n",
              "      <td>5</td>\n",
              "    </tr>\n",
              "    <tr>\n",
              "      <th>6</th>\n",
              "      <td>2000</td>\n",
              "      <td>A*Teens</td>\n",
              "      <td>Dancing Queen</td>\n",
              "      <td>3:44</td>\n",
              "      <td>6</td>\n",
              "    </tr>\n",
              "    <tr>\n",
              "      <th>7</th>\n",
              "      <td>2000</td>\n",
              "      <td>Aaliyah</td>\n",
              "      <td>I Don't Wanna</td>\n",
              "      <td>4:15</td>\n",
              "      <td>7</td>\n",
              "    </tr>\n",
              "    <tr>\n",
              "      <th>8</th>\n",
              "      <td>2000</td>\n",
              "      <td>Aaliyah</td>\n",
              "      <td>Try Again</td>\n",
              "      <td>4:03</td>\n",
              "      <td>8</td>\n",
              "    </tr>\n",
              "    <tr>\n",
              "      <th>9</th>\n",
              "      <td>2000</td>\n",
              "      <td>Adams, Yolanda</td>\n",
              "      <td>Open My Heart</td>\n",
              "      <td>5:30</td>\n",
              "      <td>9</td>\n",
              "    </tr>\n",
              "  </tbody>\n",
              "</table>\n",
              "</div>"
            ],
            "text/plain": [
              "   year          artist                    track  time  id\n",
              "0  2000           2 Pac  Baby Don't Cry (Keep...  4:22   0\n",
              "1  2000         2Ge+her  The Hardest Part Of ...  3:15   1\n",
              "2  2000    3 Doors Down               Kryptonite  3:53   2\n",
              "3  2000    3 Doors Down                    Loser  4:24   3\n",
              "4  2000        504 Boyz            Wobble Wobble  3:35   4\n",
              "5  2000            98^0  Give Me Just One Nig...  3:24   5\n",
              "6  2000         A*Teens            Dancing Queen  3:44   6\n",
              "7  2000         Aaliyah            I Don't Wanna  4:15   7\n",
              "8  2000         Aaliyah                Try Again  4:03   8\n",
              "9  2000  Adams, Yolanda            Open My Heart  5:30   9"
            ]
          },
          "metadata": {
            "tags": []
          },
          "execution_count": 53
        }
      ]
    },
    {
      "cell_type": "code",
      "metadata": {
        "id": "BpFSf86m3Oc7"
      },
      "source": [
        "billboard_ratings = billboard_long.merge(\n",
        "    billboard_songs, on=['year', 'artist', 'track', 'time']\n",
        ")"
      ],
      "execution_count": 54,
      "outputs": []
    },
    {
      "cell_type": "code",
      "metadata": {
        "colab": {
          "base_uri": "https://localhost:8080/",
          "height": 197
        },
        "id": "D8UYHDhn3OaL",
        "outputId": "bcd5bfa7-602e-43ab-e936-9986f2ff374b"
      },
      "source": [
        "billboard_ratings.head()"
      ],
      "execution_count": 55,
      "outputs": [
        {
          "output_type": "execute_result",
          "data": {
            "text/html": [
              "<div>\n",
              "<style scoped>\n",
              "    .dataframe tbody tr th:only-of-type {\n",
              "        vertical-align: middle;\n",
              "    }\n",
              "\n",
              "    .dataframe tbody tr th {\n",
              "        vertical-align: top;\n",
              "    }\n",
              "\n",
              "    .dataframe thead th {\n",
              "        text-align: right;\n",
              "    }\n",
              "</style>\n",
              "<table border=\"1\" class=\"dataframe\">\n",
              "  <thead>\n",
              "    <tr style=\"text-align: right;\">\n",
              "      <th></th>\n",
              "      <th>year</th>\n",
              "      <th>artist</th>\n",
              "      <th>track</th>\n",
              "      <th>time</th>\n",
              "      <th>date.entered</th>\n",
              "      <th>week</th>\n",
              "      <th>rating</th>\n",
              "      <th>id</th>\n",
              "    </tr>\n",
              "  </thead>\n",
              "  <tbody>\n",
              "    <tr>\n",
              "      <th>0</th>\n",
              "      <td>2000</td>\n",
              "      <td>2 Pac</td>\n",
              "      <td>Baby Don't Cry (Keep...</td>\n",
              "      <td>4:22</td>\n",
              "      <td>2000-02-26</td>\n",
              "      <td>wk1</td>\n",
              "      <td>87.0</td>\n",
              "      <td>0</td>\n",
              "    </tr>\n",
              "    <tr>\n",
              "      <th>1</th>\n",
              "      <td>2000</td>\n",
              "      <td>2 Pac</td>\n",
              "      <td>Baby Don't Cry (Keep...</td>\n",
              "      <td>4:22</td>\n",
              "      <td>2000-02-26</td>\n",
              "      <td>wk2</td>\n",
              "      <td>82.0</td>\n",
              "      <td>0</td>\n",
              "    </tr>\n",
              "    <tr>\n",
              "      <th>2</th>\n",
              "      <td>2000</td>\n",
              "      <td>2 Pac</td>\n",
              "      <td>Baby Don't Cry (Keep...</td>\n",
              "      <td>4:22</td>\n",
              "      <td>2000-02-26</td>\n",
              "      <td>wk3</td>\n",
              "      <td>72.0</td>\n",
              "      <td>0</td>\n",
              "    </tr>\n",
              "    <tr>\n",
              "      <th>3</th>\n",
              "      <td>2000</td>\n",
              "      <td>2 Pac</td>\n",
              "      <td>Baby Don't Cry (Keep...</td>\n",
              "      <td>4:22</td>\n",
              "      <td>2000-02-26</td>\n",
              "      <td>wk4</td>\n",
              "      <td>77.0</td>\n",
              "      <td>0</td>\n",
              "    </tr>\n",
              "    <tr>\n",
              "      <th>4</th>\n",
              "      <td>2000</td>\n",
              "      <td>2 Pac</td>\n",
              "      <td>Baby Don't Cry (Keep...</td>\n",
              "      <td>4:22</td>\n",
              "      <td>2000-02-26</td>\n",
              "      <td>wk5</td>\n",
              "      <td>87.0</td>\n",
              "      <td>0</td>\n",
              "    </tr>\n",
              "  </tbody>\n",
              "</table>\n",
              "</div>"
            ],
            "text/plain": [
              "   year artist                    track  time date.entered week  rating  id\n",
              "0  2000  2 Pac  Baby Don't Cry (Keep...  4:22   2000-02-26  wk1    87.0   0\n",
              "1  2000  2 Pac  Baby Don't Cry (Keep...  4:22   2000-02-26  wk2    82.0   0\n",
              "2  2000  2 Pac  Baby Don't Cry (Keep...  4:22   2000-02-26  wk3    72.0   0\n",
              "3  2000  2 Pac  Baby Don't Cry (Keep...  4:22   2000-02-26  wk4    77.0   0\n",
              "4  2000  2 Pac  Baby Don't Cry (Keep...  4:22   2000-02-26  wk5    87.0   0"
            ]
          },
          "metadata": {
            "tags": []
          },
          "execution_count": 55
        }
      ]
    },
    {
      "cell_type": "code",
      "metadata": {
        "id": "84P4jn3U3OUw"
      },
      "source": [
        "\n",
        "billboard_ratings = billboard_ratings[['id', 'date.entered', 'week', 'rating']]"
      ],
      "execution_count": 56,
      "outputs": []
    },
    {
      "cell_type": "code",
      "metadata": {
        "colab": {
          "base_uri": "https://localhost:8080/",
          "height": 197
        },
        "id": "KDf2WT0W3Zqw",
        "outputId": "b11c85df-578c-44af-bfe7-d09fcf34b901"
      },
      "source": [
        "\n",
        "billboard_ratings.head()"
      ],
      "execution_count": 57,
      "outputs": [
        {
          "output_type": "execute_result",
          "data": {
            "text/html": [
              "<div>\n",
              "<style scoped>\n",
              "    .dataframe tbody tr th:only-of-type {\n",
              "        vertical-align: middle;\n",
              "    }\n",
              "\n",
              "    .dataframe tbody tr th {\n",
              "        vertical-align: top;\n",
              "    }\n",
              "\n",
              "    .dataframe thead th {\n",
              "        text-align: right;\n",
              "    }\n",
              "</style>\n",
              "<table border=\"1\" class=\"dataframe\">\n",
              "  <thead>\n",
              "    <tr style=\"text-align: right;\">\n",
              "      <th></th>\n",
              "      <th>id</th>\n",
              "      <th>date.entered</th>\n",
              "      <th>week</th>\n",
              "      <th>rating</th>\n",
              "    </tr>\n",
              "  </thead>\n",
              "  <tbody>\n",
              "    <tr>\n",
              "      <th>0</th>\n",
              "      <td>0</td>\n",
              "      <td>2000-02-26</td>\n",
              "      <td>wk1</td>\n",
              "      <td>87.0</td>\n",
              "    </tr>\n",
              "    <tr>\n",
              "      <th>1</th>\n",
              "      <td>0</td>\n",
              "      <td>2000-02-26</td>\n",
              "      <td>wk2</td>\n",
              "      <td>82.0</td>\n",
              "    </tr>\n",
              "    <tr>\n",
              "      <th>2</th>\n",
              "      <td>0</td>\n",
              "      <td>2000-02-26</td>\n",
              "      <td>wk3</td>\n",
              "      <td>72.0</td>\n",
              "    </tr>\n",
              "    <tr>\n",
              "      <th>3</th>\n",
              "      <td>0</td>\n",
              "      <td>2000-02-26</td>\n",
              "      <td>wk4</td>\n",
              "      <td>77.0</td>\n",
              "    </tr>\n",
              "    <tr>\n",
              "      <th>4</th>\n",
              "      <td>0</td>\n",
              "      <td>2000-02-26</td>\n",
              "      <td>wk5</td>\n",
              "      <td>87.0</td>\n",
              "    </tr>\n",
              "  </tbody>\n",
              "</table>\n",
              "</div>"
            ],
            "text/plain": [
              "   id date.entered week  rating\n",
              "0   0   2000-02-26  wk1    87.0\n",
              "1   0   2000-02-26  wk2    82.0\n",
              "2   0   2000-02-26  wk3    72.0\n",
              "3   0   2000-02-26  wk4    77.0\n",
              "4   0   2000-02-26  wk5    87.0"
            ]
          },
          "metadata": {
            "tags": []
          },
          "execution_count": 57
        }
      ]
    },
    {
      "cell_type": "code",
      "metadata": {
        "id": "MjJP6fEG3Znb"
      },
      "source": [
        "billboard_songs.to_csv('billboard_songs.csv', index=False)"
      ],
      "execution_count": 58,
      "outputs": []
    },
    {
      "cell_type": "code",
      "metadata": {
        "id": "tB5s6Elg3ZlR"
      },
      "source": [
        "billboard_ratings.to_csv('billboard_ratings.csv', index=False)"
      ],
      "execution_count": 59,
      "outputs": []
    },
    {
      "cell_type": "markdown",
      "metadata": {
        "id": "6K40Uvfs8Ta3"
      },
      "source": [
        "After watching the video and following along with the speaker, I learned about the concept of Tidy Data. I learned what \"clean\" and \"tidy\" data looks like. \n",
        "\n",
        "In addition, I learned the meaning of varible and obseravation in data science; I learned more about python fundamentals and best pratices for data cleaning and tidying; and I learned how to look at the dataset and explore the data. \n",
        "\n",
        "\n",
        "\n",
        "[link text](https://www.youtube.com/watch?v=iYie42M1ZyU)\n",
        "\n",
        "## What I learned: \n",
        "\n",
        "*   processing/cleaning/munging data\n",
        "*   Pandas Python library\n",
        "*   exploring data\n",
        "*   analyzing\n",
        "*   \"tidy\" data\n",
        "*   reshape data\n",
        "*   applying customized processing functions on the data\n",
        "\n",
        "\n"
      ]
    }
  ]
}