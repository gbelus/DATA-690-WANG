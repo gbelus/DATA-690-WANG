{
 "cells": [
  {
   "cell_type": "markdown",
   "source": "# Assignment 3",
   "metadata": {
    "tags": [],
    "cell_id": "00000-0806bbd7-07f1-4a99-ad77-e790d24fcc72",
    "deepnote_cell_type": "markdown"
   }
  },
  {
   "cell_type": "code",
   "metadata": {
    "tags": [],
    "cell_id": "00000-b5255f20-1cf6-4f4a-9693-218253c4ac48",
    "deepnote_to_be_reexecuted": false,
    "source_hash": "8ad57f32",
    "execution_start": 1621782522000,
    "execution_millis": 0,
    "deepnote_cell_type": "code"
   },
   "source": "# Start writing code here...",
   "execution_count": 1,
   "outputs": []
  },
  {
   "cell_type": "markdown",
   "source": "### Write a program that generates 100 random integers between 0 and 9.\n\nPrint them in a 10 by 10 matrix neatly arranged like the following (one space between each number):",
   "metadata": {
    "tags": [],
    "cell_id": "00002-591e6a7f-af65-4315-be93-400d50bc5e37",
    "deepnote_cell_type": "markdown"
   }
  },
  {
   "cell_type": "markdown",
   "source": "",
   "metadata": {
    "tags": [],
    "cell_id": "00001-52ba39eb-dfa6-4f92-ae98-169a19a3712f",
    "deepnote_cell_type": "markdown"
   }
  },
  {
   "cell_type": "code",
   "metadata": {
    "tags": [],
    "cell_id": "00001-f6e2dbb5-09aa-4354-acd0-cf163f0fb9ee",
    "deepnote_to_be_reexecuted": false,
    "source_hash": "e65f9094",
    "execution_millis": 49,
    "execution_start": 1621782522001,
    "deepnote_cell_type": "code"
   },
   "source": "\nimport random\nprint('problem 1','\\n')\n\nfor i in range(10):\n   # print(i)\n    for j in range(10):\n        print(random.randint(0,9), end = \"  \")\n    print(\"\\n\")\n\nprint(i)",
   "execution_count": 2,
   "outputs": [
    {
     "name": "stdout",
     "text": "problem 1 \n\n7  0  5  5  1  4  3  5  1  4  \n\n8  8  2  6  9  0  6  4  8  2  \n\n4  4  5  2  9  8  0  6  6  7  \n\n7  6  3  2  4  0  3  4  6  3  \n\n1  7  3  1  0  6  2  9  2  5  \n\n4  9  9  2  6  4  0  9  5  9  \n\n5  5  8  8  1  1  7  1  4  2  \n\n0  4  2  8  3  2  4  5  4  9  \n\n0  8  4  9  3  4  9  8  2  7  \n\n1  3  1  0  8  0  2  1  7  2  \n\n9\n",
     "output_type": "stream"
    }
   ]
  },
  {
   "cell_type": "markdown",
   "source": "## 2. If the random number is an odd number, print \"@\" instead. like the following:\n",
   "metadata": {
    "tags": [],
    "cell_id": "00005-c5a56830-4758-4e5f-97e4-7c4a33fcd58e",
    "deepnote_cell_type": "markdown"
   }
  },
  {
   "cell_type": "code",
   "metadata": {
    "tags": [],
    "cell_id": "00002-6ef70fab-af70-48a4-8304-b2a321cbb6f6",
    "deepnote_to_be_reexecuted": false,
    "source_hash": "d8732efc",
    "execution_millis": 8,
    "execution_start": 1621782522042,
    "deepnote_cell_type": "code"
   },
   "source": "print(\"Problem 2:\")\n\nval_sum = 0 \nfor i in range(10):\n    for j in range(10):\n        val = random.randint(0,9)\n        if val % 2 == 0:\n            print(val,end = \" \")\n        else:\n            print('@', end = \" \")\n    print(\"\\n\")",
   "execution_count": 3,
   "outputs": [
    {
     "name": "stdout",
     "text": "Problem 2:\n8 2 4 @ 8 6 @ 4 0 @ \n\n8 @ @ @ @ 4 8 @ @ 2 \n\n0 4 @ 2 8 0 2 4 @ @ \n\n@ 0 @ 2 @ 6 @ 4 @ 2 \n\n@ 4 8 4 @ @ 0 4 @ @ \n\n2 @ 0 @ @ 6 @ 4 0 4 \n\n@ @ @ @ 0 8 @ 2 4 @ \n\n8 @ @ @ @ @ @ 4 @ @ \n\n4 0 @ 0 8 @ 2 8 2 6 \n\n@ 6 4 2 @ 2 @ @ @ 0 \n\n",
     "output_type": "stream"
    }
   ]
  },
  {
   "cell_type": "markdown",
   "source": "## 3. Calculate and Print the total of each row like the following (use \"*\" to separate the total from the numbers):",
   "metadata": {
    "tags": [],
    "cell_id": "00007-f686acf9-7cac-4f08-aeec-066fba541547",
    "deepnote_cell_type": "markdown"
   }
  },
  {
   "cell_type": "code",
   "metadata": {
    "tags": [],
    "cell_id": "00003-4ba608cd-819c-4f7c-8d9d-f22bd641ebb9",
    "deepnote_to_be_reexecuted": false,
    "source_hash": "9089a2b7",
    "execution_start": 1621782522043,
    "execution_millis": 16,
    "deepnote_cell_type": "code"
   },
   "source": "    \nprint('\\n','problem 3','\\n')\nfor i in range(10):\n    val_sum = 0\n    for j in range(10):\n        val = random.randint(0,9)\n        print(val, end = \" \")\n        val_sum +=val\n    print(\"*\",val_sum,\"\\n\")",
   "execution_count": 4,
   "outputs": [
    {
     "name": "stdout",
     "text": "\n problem 3 \n\n4 0 8 4 4 0 6 9 7 9 * 51 \n\n6 9 2 3 3 2 7 3 0 7 * 42 \n\n2 8 1 2 7 8 4 2 9 8 * 51 \n\n8 7 0 3 4 0 8 5 3 3 * 41 \n\n6 3 1 1 0 0 1 8 9 3 * 32 \n\n4 0 2 3 4 4 2 1 8 1 * 29 \n\n8 5 8 2 9 6 0 2 9 4 * 53 \n\n4 8 1 0 8 6 6 1 0 3 * 37 \n\n7 3 8 6 7 7 7 0 8 6 * 59 \n\n1 3 4 4 7 3 2 4 7 2 * 37 \n\n",
     "output_type": "stream"
    }
   ]
  },
  {
   "cell_type": "markdown",
   "source": "## 4. Optional: Surround the matrix with asterisks (*) like the following:",
   "metadata": {
    "tags": [],
    "cell_id": "00009-04d7cb72-a71f-4f8a-b2a3-84ed374dfe49",
    "deepnote_cell_type": "markdown"
   }
  },
  {
   "cell_type": "code",
   "metadata": {
    "tags": [],
    "cell_id": "00004-3084b93f-1431-40f9-9f74-c30e7d4ca22c",
    "deepnote_to_be_reexecuted": false,
    "source_hash": "3f6fdff6",
    "execution_start": 1621782522098,
    "execution_millis": 8,
    "deepnote_cell_type": "code"
   },
   "source": "print('\\n','problem 4','\\n')   \nprint(len(range(23)) * \"*\")\nfor i in range(10):\n    print(\"*\", end = \" \")\n    for j in range(10):\n        val = random.randint(0,9)\n        print(val,end = \" \")\n    print('*',\"\\n\")\nprint(len(range(23)) * \"*\")\n#problem 5 \n#not fully sure how to do the column count but here is how far i got to ",
   "execution_count": 5,
   "outputs": [
    {
     "name": "stdout",
     "text": "\n problem 4 \n\n***********************\n* 0 3 6 8 6 5 7 2 7 3 * \n\n* 8 7 9 6 2 2 9 0 1 5 * \n\n* 3 7 6 9 7 6 8 9 0 2 * \n\n* 8 9 0 9 2 6 3 2 1 7 * \n\n* 8 7 4 1 2 9 4 2 3 3 * \n\n* 5 8 4 2 0 8 5 3 0 8 * \n\n* 2 2 4 7 6 9 7 3 7 9 * \n\n* 8 3 4 6 7 1 2 6 3 7 * \n\n* 2 6 4 4 2 6 8 6 1 7 * \n\n* 8 0 5 6 2 4 0 8 8 8 * \n\n***********************\n",
     "output_type": "stream"
    }
   ]
  },
  {
   "cell_type": "markdown",
   "source": "## 5. Optional (challenging): Calculate and Print the total of each row and column like the following:",
   "metadata": {
    "tags": [],
    "cell_id": "00011-a125e7b0-c07a-4108-b8d6-2d3980b5451d",
    "deepnote_cell_type": "markdown"
   }
  },
  {
   "cell_type": "code",
   "metadata": {
    "tags": [],
    "cell_id": "00005-6050a735-0540-4398-965c-682478e8398b",
    "deepnote_to_be_reexecuted": false,
    "source_hash": "7580c9fe",
    "execution_start": 1621782522100,
    "execution_millis": 6,
    "deepnote_cell_type": "code"
   },
   "source": "print('\\n','partial response to problem 5' ,'\\n')\nprint(len(range(22)) * \"*\")\nfor i in range(10):\n    val_sum = 0\n    for j in range(10):\n        val = random.randint(0,9)\n        print(val, end = \" \")\n        val_sum +=val\n    print(\"*\",val_sum,\"\\n\")",
   "execution_count": 6,
   "outputs": [
    {
     "name": "stdout",
     "text": "\n partial response to problem 5 \n\n**********************\n3 9 7 6 4 1 0 8 6 5 * 49 \n\n7 4 1 0 2 0 5 6 9 7 * 41 \n\n0 6 6 1 6 1 2 8 0 8 * 38 \n\n7 7 2 6 7 7 8 3 0 9 * 56 \n\n7 2 9 3 6 2 3 5 1 8 * 46 \n\n1 3 8 2 8 8 4 2 5 1 * 42 \n\n8 2 3 0 0 4 3 9 7 3 * 39 \n\n3 1 4 1 2 0 1 7 8 9 * 36 \n\n1 1 4 3 5 4 8 5 2 8 * 41 \n\n8 6 0 6 0 2 8 2 0 8 * 40 \n\n",
     "output_type": "stream"
    }
   ]
  },
  {
   "cell_type": "markdown",
   "source": "<a style='text-decoration:none;line-height:16px;display:flex;color:#5B5B62;padding:10px;justify-content:end;' href='https://deepnote.com?utm_source=created-in-deepnote-cell&projectId=d7b9ad1a-058d-4099-acdc-888131314832' target=\"_blank\">\n<img alt='Created in deepnote.com' style='display:inline;max-height:16px;margin:0px;margin-right:7.5px;' src='data:image/svg+xml;base64,PD94bWwgdmVyc2lvbj0iMS4wIiBlbmNvZGluZz0iVVRGLTgiPz4KPHN2ZyB3aWR0aD0iODBweCIgaGVpZ2h0PSI4MHB4IiB2aWV3Qm94PSIwIDAgODAgODAiIHZlcnNpb249IjEuMSIgeG1sbnM9Imh0dHA6Ly93d3cudzMub3JnLzIwMDAvc3ZnIiB4bWxuczp4bGluaz0iaHR0cDovL3d3dy53My5vcmcvMTk5OS94bGluayI+CiAgICA8IS0tIEdlbmVyYXRvcjogU2tldGNoIDU0LjEgKDc2NDkwKSAtIGh0dHBzOi8vc2tldGNoYXBwLmNvbSAtLT4KICAgIDx0aXRsZT5Hcm91cCAzPC90aXRsZT4KICAgIDxkZXNjPkNyZWF0ZWQgd2l0aCBTa2V0Y2guPC9kZXNjPgogICAgPGcgaWQ9IkxhbmRpbmciIHN0cm9rZT0ibm9uZSIgc3Ryb2tlLXdpZHRoPSIxIiBmaWxsPSJub25lIiBmaWxsLXJ1bGU9ImV2ZW5vZGQiPgogICAgICAgIDxnIGlkPSJBcnRib2FyZCIgdHJhbnNmb3JtPSJ0cmFuc2xhdGUoLTEyMzUuMDAwMDAwLCAtNzkuMDAwMDAwKSI+CiAgICAgICAgICAgIDxnIGlkPSJHcm91cC0zIiB0cmFuc2Zvcm09InRyYW5zbGF0ZSgxMjM1LjAwMDAwMCwgNzkuMDAwMDAwKSI+CiAgICAgICAgICAgICAgICA8cG9seWdvbiBpZD0iUGF0aC0yMCIgZmlsbD0iIzAyNjVCNCIgcG9pbnRzPSIyLjM3NjIzNzYyIDgwIDM4LjA0NzY2NjcgODAgNTcuODIxNzgyMiA3My44MDU3NTkyIDU3LjgyMTc4MjIgMzIuNzU5MjczOSAzOS4xNDAyMjc4IDMxLjY4MzE2ODMiPjwvcG9seWdvbj4KICAgICAgICAgICAgICAgIDxwYXRoIGQ9Ik0zNS4wMDc3MTgsODAgQzQyLjkwNjIwMDcsNzYuNDU0OTM1OCA0Ny41NjQ5MTY3LDcxLjU0MjI2NzEgNDguOTgzODY2LDY1LjI2MTk5MzkgQzUxLjExMjI4OTksNTUuODQxNTg0MiA0MS42NzcxNzk1LDQ5LjIxMjIyODQgMjUuNjIzOTg0Niw0OS4yMTIyMjg0IEMyNS40ODQ5Mjg5LDQ5LjEyNjg0NDggMjkuODI2MTI5Niw0My4yODM4MjQ4IDM4LjY0NzU4NjksMzEuNjgzMTY4MyBMNzIuODcxMjg3MSwzMi41NTQ0MjUgTDY1LjI4MDk3Myw2Ny42NzYzNDIxIEw1MS4xMTIyODk5LDc3LjM3NjE0NCBMMzUuMDA3NzE4LDgwIFoiIGlkPSJQYXRoLTIyIiBmaWxsPSIjMDAyODY4Ij48L3BhdGg+CiAgICAgICAgICAgICAgICA8cGF0aCBkPSJNMCwzNy43MzA0NDA1IEwyNy4xMTQ1MzcsMC4yNTcxMTE0MzYgQzYyLjM3MTUxMjMsLTEuOTkwNzE3MDEgODAsMTAuNTAwMzkyNyA4MCwzNy43MzA0NDA1IEM4MCw2NC45NjA0ODgyIDY0Ljc3NjUwMzgsNzkuMDUwMzQxNCAzNC4zMjk1MTEzLDgwIEM0Ny4wNTUzNDg5LDc3LjU2NzA4MDggNTMuNDE4MjY3Nyw3MC4zMTM2MTAzIDUzLjQxODI2NzcsNTguMjM5NTg4NSBDNTMuNDE4MjY3Nyw0MC4xMjg1NTU3IDM2LjMwMzk1NDQsMzcuNzMwNDQwNSAyNS4yMjc0MTcsMzcuNzMwNDQwNSBDMTcuODQzMDU4NiwzNy43MzA0NDA1IDkuNDMzOTE5NjYsMzcuNzMwNDQwNSAwLDM3LjczMDQ0MDUgWiIgaWQ9IlBhdGgtMTkiIGZpbGw9IiMzNzkzRUYiPjwvcGF0aD4KICAgICAgICAgICAgPC9nPgogICAgICAgIDwvZz4KICAgIDwvZz4KPC9zdmc+' > </img>\nCreated in <span style='font-weight:600;margin-left:4px;'>Deepnote</span></a>",
   "metadata": {
    "tags": [],
    "created_in_deepnote_cell": true,
    "deepnote_cell_type": "markdown"
   }
  }
 ],
 "nbformat": 4,
 "nbformat_minor": 2,
 "metadata": {
  "orig_nbformat": 2,
  "deepnote_notebook_id": "85dc99d4-75fc-44b7-93fd-3aa01e3dfb55",
  "deepnote": {},
  "deepnote_execution_queue": []
 }
}