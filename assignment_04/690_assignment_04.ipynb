{
  "nbformat": 4,
  "nbformat_minor": 0,
  "metadata": {
    "colab": {
      "name": "690_assignment_04.ipynb",
      "provenance": [],
      "toc_visible": true
    },
    "kernelspec": {
      "name": "python3",
      "display_name": "Python 3"
    },
    "language_info": {
      "name": "python"
    }
  },
  "cells": [
    {
      "cell_type": "code",
      "metadata": {
        "id": "e_izf-I4mnvV"
      },
      "source": [
        "import pandas as pd"
      ],
      "execution_count": 1,
      "outputs": []
    },
    {
      "cell_type": "code",
      "metadata": {
        "colab": {
          "base_uri": "https://localhost:8080/"
        },
        "id": "vLE66F1rN_zi",
        "outputId": "3d8421f0-05f4-4d0f-8a78-ab3f51c345f2"
      },
      "source": [
        "with open('/content/census_cost.txt', 'tr') as myfile:\n",
        "  all_lines = myfile.readlines()\n",
        "\n",
        "print(all_lines)"
      ],
      "execution_count": 2,
      "outputs": [
        {
          "output_type": "stream",
          "text": [
            "['Source: https://www.genealogybranches.com/censuscosts.html\\n', 'Census Year\\tTotal Population\\tCensus Cost\\tAverage Cost Per Person\\n', '1790\\t3,929,214\\t$44,377\\t1.13 cents\\n', '1800\\t5,308,483\\t$66,109\\t1.24 cents\\n', '1810\\t7,239,881\\t$178,445\\t2.46 cents\\n', '1820\\t9,633,822\\t$208,526\\t2.16 cents\\n', '1830\\t12,866,020\\t$378,545\\t2.94 cents\\n', '1840\\t17,069,458\\t$833,371\\t4.88 cents\\n', '1850\\t23,191,876\\t$1,423,351\\t6.14 cents\\n', '1860\\t31,443,321\\t$1,969,377\\t6.26 cents\\n', '1870\\t38,558,371\\t$3,421,198\\t8.87 cents\\n', '1880\\t50,155,783\\t$5,790,678\\t11.54 cents\\n', '1890\\t62,979,766\\t$11,547,127\\t18.33 cents\\n', '1900\\t76,303,387\\t$11,854,000\\t15.54 cents\\n', '1910\\t91,972,266\\t$15,968,000\\t17.07 cents\\n', '1920\\t105,710,620\\t$25,117,000\\t23.76 cents\\n', '1930\\t122,775,046\\t$40,156,000\\t32.71 cents\\n', '1940\\t131,669,275\\t$67,527,000\\t51.29 cents\\n', '1950\\t151,325,798\\t$91,462,000\\t60.44 cents\\n', '1960\\t179,323,175\\t$127,934,000\\t71.34 cents\\n', '1970\\t203,302,031\\t$247,653,000\\t$1.22\\n', '1980\\t226,542,199\\t$1,078,488,000\\t$4.76\\n', '1990\\t248,718,301\\t$2,492,830,000\\t$10.02\\n', '2000\\t281,421,906\\t$4.5 Billion\\t$15.99\\n', '2010*\\t308,745,538\\t$13 Billion\\t$42.11\\n']\n"
          ],
          "name": "stdout"
        }
      ]
    },
    {
      "cell_type": "code",
      "metadata": {
        "colab": {
          "base_uri": "https://localhost:8080/"
        },
        "id": "zGncygWlPbTy",
        "outputId": "79da31a9-6a05-4798-d838-6ea44ca4dd0a"
      },
      "source": [
        "for row in all_lines:\n",
        "  print(row)"
      ],
      "execution_count": 3,
      "outputs": [
        {
          "output_type": "stream",
          "text": [
            "Source: https://www.genealogybranches.com/censuscosts.html\n",
            "\n",
            "Census Year\tTotal Population\tCensus Cost\tAverage Cost Per Person\n",
            "\n",
            "1790\t3,929,214\t$44,377\t1.13 cents\n",
            "\n",
            "1800\t5,308,483\t$66,109\t1.24 cents\n",
            "\n",
            "1810\t7,239,881\t$178,445\t2.46 cents\n",
            "\n",
            "1820\t9,633,822\t$208,526\t2.16 cents\n",
            "\n",
            "1830\t12,866,020\t$378,545\t2.94 cents\n",
            "\n",
            "1840\t17,069,458\t$833,371\t4.88 cents\n",
            "\n",
            "1850\t23,191,876\t$1,423,351\t6.14 cents\n",
            "\n",
            "1860\t31,443,321\t$1,969,377\t6.26 cents\n",
            "\n",
            "1870\t38,558,371\t$3,421,198\t8.87 cents\n",
            "\n",
            "1880\t50,155,783\t$5,790,678\t11.54 cents\n",
            "\n",
            "1890\t62,979,766\t$11,547,127\t18.33 cents\n",
            "\n",
            "1900\t76,303,387\t$11,854,000\t15.54 cents\n",
            "\n",
            "1910\t91,972,266\t$15,968,000\t17.07 cents\n",
            "\n",
            "1920\t105,710,620\t$25,117,000\t23.76 cents\n",
            "\n",
            "1930\t122,775,046\t$40,156,000\t32.71 cents\n",
            "\n",
            "1940\t131,669,275\t$67,527,000\t51.29 cents\n",
            "\n",
            "1950\t151,325,798\t$91,462,000\t60.44 cents\n",
            "\n",
            "1960\t179,323,175\t$127,934,000\t71.34 cents\n",
            "\n",
            "1970\t203,302,031\t$247,653,000\t$1.22\n",
            "\n",
            "1980\t226,542,199\t$1,078,488,000\t$4.76\n",
            "\n",
            "1990\t248,718,301\t$2,492,830,000\t$10.02\n",
            "\n",
            "2000\t281,421,906\t$4.5 Billion\t$15.99\n",
            "\n",
            "2010*\t308,745,538\t$13 Billion\t$42.11\n",
            "\n"
          ],
          "name": "stdout"
        }
      ]
    },
    {
      "cell_type": "code",
      "metadata": {
        "colab": {
          "base_uri": "https://localhost:8080/"
        },
        "id": "Sxrd4jmLJmq8",
        "outputId": "ad048176-d045-481f-d758-07eea6da4ad3"
      },
      "source": [
        "for row in all_lines[1:]:\n",
        "  print(row)"
      ],
      "execution_count": 4,
      "outputs": [
        {
          "output_type": "stream",
          "text": [
            "Census Year\tTotal Population\tCensus Cost\tAverage Cost Per Person\n",
            "\n",
            "1790\t3,929,214\t$44,377\t1.13 cents\n",
            "\n",
            "1800\t5,308,483\t$66,109\t1.24 cents\n",
            "\n",
            "1810\t7,239,881\t$178,445\t2.46 cents\n",
            "\n",
            "1820\t9,633,822\t$208,526\t2.16 cents\n",
            "\n",
            "1830\t12,866,020\t$378,545\t2.94 cents\n",
            "\n",
            "1840\t17,069,458\t$833,371\t4.88 cents\n",
            "\n",
            "1850\t23,191,876\t$1,423,351\t6.14 cents\n",
            "\n",
            "1860\t31,443,321\t$1,969,377\t6.26 cents\n",
            "\n",
            "1870\t38,558,371\t$3,421,198\t8.87 cents\n",
            "\n",
            "1880\t50,155,783\t$5,790,678\t11.54 cents\n",
            "\n",
            "1890\t62,979,766\t$11,547,127\t18.33 cents\n",
            "\n",
            "1900\t76,303,387\t$11,854,000\t15.54 cents\n",
            "\n",
            "1910\t91,972,266\t$15,968,000\t17.07 cents\n",
            "\n",
            "1920\t105,710,620\t$25,117,000\t23.76 cents\n",
            "\n",
            "1930\t122,775,046\t$40,156,000\t32.71 cents\n",
            "\n",
            "1940\t131,669,275\t$67,527,000\t51.29 cents\n",
            "\n",
            "1950\t151,325,798\t$91,462,000\t60.44 cents\n",
            "\n",
            "1960\t179,323,175\t$127,934,000\t71.34 cents\n",
            "\n",
            "1970\t203,302,031\t$247,653,000\t$1.22\n",
            "\n",
            "1980\t226,542,199\t$1,078,488,000\t$4.76\n",
            "\n",
            "1990\t248,718,301\t$2,492,830,000\t$10.02\n",
            "\n",
            "2000\t281,421,906\t$4.5 Billion\t$15.99\n",
            "\n",
            "2010*\t308,745,538\t$13 Billion\t$42.11\n",
            "\n"
          ],
          "name": "stdout"
        }
      ]
    },
    {
      "cell_type": "code",
      "metadata": {
        "colab": {
          "base_uri": "https://localhost:8080/"
        },
        "id": "5VmjAQRSW9cz",
        "outputId": "63356a7e-62f5-4e66-8ac8-7ab4bff7854d"
      },
      "source": [
        "all_lines[1:]"
      ],
      "execution_count": 5,
      "outputs": [
        {
          "output_type": "execute_result",
          "data": {
            "text/plain": [
              "['Census Year\\tTotal Population\\tCensus Cost\\tAverage Cost Per Person\\n',\n",
              " '1790\\t3,929,214\\t$44,377\\t1.13 cents\\n',\n",
              " '1800\\t5,308,483\\t$66,109\\t1.24 cents\\n',\n",
              " '1810\\t7,239,881\\t$178,445\\t2.46 cents\\n',\n",
              " '1820\\t9,633,822\\t$208,526\\t2.16 cents\\n',\n",
              " '1830\\t12,866,020\\t$378,545\\t2.94 cents\\n',\n",
              " '1840\\t17,069,458\\t$833,371\\t4.88 cents\\n',\n",
              " '1850\\t23,191,876\\t$1,423,351\\t6.14 cents\\n',\n",
              " '1860\\t31,443,321\\t$1,969,377\\t6.26 cents\\n',\n",
              " '1870\\t38,558,371\\t$3,421,198\\t8.87 cents\\n',\n",
              " '1880\\t50,155,783\\t$5,790,678\\t11.54 cents\\n',\n",
              " '1890\\t62,979,766\\t$11,547,127\\t18.33 cents\\n',\n",
              " '1900\\t76,303,387\\t$11,854,000\\t15.54 cents\\n',\n",
              " '1910\\t91,972,266\\t$15,968,000\\t17.07 cents\\n',\n",
              " '1920\\t105,710,620\\t$25,117,000\\t23.76 cents\\n',\n",
              " '1930\\t122,775,046\\t$40,156,000\\t32.71 cents\\n',\n",
              " '1940\\t131,669,275\\t$67,527,000\\t51.29 cents\\n',\n",
              " '1950\\t151,325,798\\t$91,462,000\\t60.44 cents\\n',\n",
              " '1960\\t179,323,175\\t$127,934,000\\t71.34 cents\\n',\n",
              " '1970\\t203,302,031\\t$247,653,000\\t$1.22\\n',\n",
              " '1980\\t226,542,199\\t$1,078,488,000\\t$4.76\\n',\n",
              " '1990\\t248,718,301\\t$2,492,830,000\\t$10.02\\n',\n",
              " '2000\\t281,421,906\\t$4.5 Billion\\t$15.99\\n',\n",
              " '2010*\\t308,745,538\\t$13 Billion\\t$42.11\\n']"
            ]
          },
          "metadata": {
            "tags": []
          },
          "execution_count": 5
        }
      ]
    },
    {
      "cell_type": "code",
      "metadata": {
        "colab": {
          "base_uri": "https://localhost:8080/"
        },
        "id": "QNnmDr3gJmiU",
        "outputId": "6fc09280-dc85-4f30-d911-b1599c4fba18"
      },
      "source": [
        "data_list = []\n",
        "\n",
        "for row in all_lines[1:]:\n",
        "  data_list.append(row.split(\"\\t\"))\n",
        "\n",
        "data_list"
      ],
      "execution_count": 6,
      "outputs": [
        {
          "output_type": "execute_result",
          "data": {
            "text/plain": [
              "[['Census Year',\n",
              "  'Total Population',\n",
              "  'Census Cost',\n",
              "  'Average Cost Per Person\\n'],\n",
              " ['1790', '3,929,214', '$44,377', '1.13 cents\\n'],\n",
              " ['1800', '5,308,483', '$66,109', '1.24 cents\\n'],\n",
              " ['1810', '7,239,881', '$178,445', '2.46 cents\\n'],\n",
              " ['1820', '9,633,822', '$208,526', '2.16 cents\\n'],\n",
              " ['1830', '12,866,020', '$378,545', '2.94 cents\\n'],\n",
              " ['1840', '17,069,458', '$833,371', '4.88 cents\\n'],\n",
              " ['1850', '23,191,876', '$1,423,351', '6.14 cents\\n'],\n",
              " ['1860', '31,443,321', '$1,969,377', '6.26 cents\\n'],\n",
              " ['1870', '38,558,371', '$3,421,198', '8.87 cents\\n'],\n",
              " ['1880', '50,155,783', '$5,790,678', '11.54 cents\\n'],\n",
              " ['1890', '62,979,766', '$11,547,127', '18.33 cents\\n'],\n",
              " ['1900', '76,303,387', '$11,854,000', '15.54 cents\\n'],\n",
              " ['1910', '91,972,266', '$15,968,000', '17.07 cents\\n'],\n",
              " ['1920', '105,710,620', '$25,117,000', '23.76 cents\\n'],\n",
              " ['1930', '122,775,046', '$40,156,000', '32.71 cents\\n'],\n",
              " ['1940', '131,669,275', '$67,527,000', '51.29 cents\\n'],\n",
              " ['1950', '151,325,798', '$91,462,000', '60.44 cents\\n'],\n",
              " ['1960', '179,323,175', '$127,934,000', '71.34 cents\\n'],\n",
              " ['1970', '203,302,031', '$247,653,000', '$1.22\\n'],\n",
              " ['1980', '226,542,199', '$1,078,488,000', '$4.76\\n'],\n",
              " ['1990', '248,718,301', '$2,492,830,000', '$10.02\\n'],\n",
              " ['2000', '281,421,906', '$4.5 Billion', '$15.99\\n'],\n",
              " ['2010*', '308,745,538', '$13 Billion', '$42.11\\n']]"
            ]
          },
          "metadata": {
            "tags": []
          },
          "execution_count": 6
        }
      ]
    },
    {
      "cell_type": "code",
      "metadata": {
        "colab": {
          "base_uri": "https://localhost:8080/",
          "height": 764
        },
        "id": "fCBZ1_3CaMUn",
        "outputId": "67ea8434-066c-46fb-800d-caa13f46368b"
      },
      "source": [
        "df = pd.DataFrame(data_list[1:], columns = data_list[0])\n",
        "df"
      ],
      "execution_count": 7,
      "outputs": [
        {
          "output_type": "execute_result",
          "data": {
            "text/html": [
              "<div>\n",
              "<style scoped>\n",
              "    .dataframe tbody tr th:only-of-type {\n",
              "        vertical-align: middle;\n",
              "    }\n",
              "\n",
              "    .dataframe tbody tr th {\n",
              "        vertical-align: top;\n",
              "    }\n",
              "\n",
              "    .dataframe thead th {\n",
              "        text-align: right;\n",
              "    }\n",
              "</style>\n",
              "<table border=\"1\" class=\"dataframe\">\n",
              "  <thead>\n",
              "    <tr style=\"text-align: right;\">\n",
              "      <th></th>\n",
              "      <th>Census Year</th>\n",
              "      <th>Total Population</th>\n",
              "      <th>Census Cost</th>\n",
              "      <th>Average Cost Per Person\\n</th>\n",
              "    </tr>\n",
              "  </thead>\n",
              "  <tbody>\n",
              "    <tr>\n",
              "      <th>0</th>\n",
              "      <td>1790</td>\n",
              "      <td>3,929,214</td>\n",
              "      <td>$44,377</td>\n",
              "      <td>1.13 cents\\n</td>\n",
              "    </tr>\n",
              "    <tr>\n",
              "      <th>1</th>\n",
              "      <td>1800</td>\n",
              "      <td>5,308,483</td>\n",
              "      <td>$66,109</td>\n",
              "      <td>1.24 cents\\n</td>\n",
              "    </tr>\n",
              "    <tr>\n",
              "      <th>2</th>\n",
              "      <td>1810</td>\n",
              "      <td>7,239,881</td>\n",
              "      <td>$178,445</td>\n",
              "      <td>2.46 cents\\n</td>\n",
              "    </tr>\n",
              "    <tr>\n",
              "      <th>3</th>\n",
              "      <td>1820</td>\n",
              "      <td>9,633,822</td>\n",
              "      <td>$208,526</td>\n",
              "      <td>2.16 cents\\n</td>\n",
              "    </tr>\n",
              "    <tr>\n",
              "      <th>4</th>\n",
              "      <td>1830</td>\n",
              "      <td>12,866,020</td>\n",
              "      <td>$378,545</td>\n",
              "      <td>2.94 cents\\n</td>\n",
              "    </tr>\n",
              "    <tr>\n",
              "      <th>5</th>\n",
              "      <td>1840</td>\n",
              "      <td>17,069,458</td>\n",
              "      <td>$833,371</td>\n",
              "      <td>4.88 cents\\n</td>\n",
              "    </tr>\n",
              "    <tr>\n",
              "      <th>6</th>\n",
              "      <td>1850</td>\n",
              "      <td>23,191,876</td>\n",
              "      <td>$1,423,351</td>\n",
              "      <td>6.14 cents\\n</td>\n",
              "    </tr>\n",
              "    <tr>\n",
              "      <th>7</th>\n",
              "      <td>1860</td>\n",
              "      <td>31,443,321</td>\n",
              "      <td>$1,969,377</td>\n",
              "      <td>6.26 cents\\n</td>\n",
              "    </tr>\n",
              "    <tr>\n",
              "      <th>8</th>\n",
              "      <td>1870</td>\n",
              "      <td>38,558,371</td>\n",
              "      <td>$3,421,198</td>\n",
              "      <td>8.87 cents\\n</td>\n",
              "    </tr>\n",
              "    <tr>\n",
              "      <th>9</th>\n",
              "      <td>1880</td>\n",
              "      <td>50,155,783</td>\n",
              "      <td>$5,790,678</td>\n",
              "      <td>11.54 cents\\n</td>\n",
              "    </tr>\n",
              "    <tr>\n",
              "      <th>10</th>\n",
              "      <td>1890</td>\n",
              "      <td>62,979,766</td>\n",
              "      <td>$11,547,127</td>\n",
              "      <td>18.33 cents\\n</td>\n",
              "    </tr>\n",
              "    <tr>\n",
              "      <th>11</th>\n",
              "      <td>1900</td>\n",
              "      <td>76,303,387</td>\n",
              "      <td>$11,854,000</td>\n",
              "      <td>15.54 cents\\n</td>\n",
              "    </tr>\n",
              "    <tr>\n",
              "      <th>12</th>\n",
              "      <td>1910</td>\n",
              "      <td>91,972,266</td>\n",
              "      <td>$15,968,000</td>\n",
              "      <td>17.07 cents\\n</td>\n",
              "    </tr>\n",
              "    <tr>\n",
              "      <th>13</th>\n",
              "      <td>1920</td>\n",
              "      <td>105,710,620</td>\n",
              "      <td>$25,117,000</td>\n",
              "      <td>23.76 cents\\n</td>\n",
              "    </tr>\n",
              "    <tr>\n",
              "      <th>14</th>\n",
              "      <td>1930</td>\n",
              "      <td>122,775,046</td>\n",
              "      <td>$40,156,000</td>\n",
              "      <td>32.71 cents\\n</td>\n",
              "    </tr>\n",
              "    <tr>\n",
              "      <th>15</th>\n",
              "      <td>1940</td>\n",
              "      <td>131,669,275</td>\n",
              "      <td>$67,527,000</td>\n",
              "      <td>51.29 cents\\n</td>\n",
              "    </tr>\n",
              "    <tr>\n",
              "      <th>16</th>\n",
              "      <td>1950</td>\n",
              "      <td>151,325,798</td>\n",
              "      <td>$91,462,000</td>\n",
              "      <td>60.44 cents\\n</td>\n",
              "    </tr>\n",
              "    <tr>\n",
              "      <th>17</th>\n",
              "      <td>1960</td>\n",
              "      <td>179,323,175</td>\n",
              "      <td>$127,934,000</td>\n",
              "      <td>71.34 cents\\n</td>\n",
              "    </tr>\n",
              "    <tr>\n",
              "      <th>18</th>\n",
              "      <td>1970</td>\n",
              "      <td>203,302,031</td>\n",
              "      <td>$247,653,000</td>\n",
              "      <td>$1.22\\n</td>\n",
              "    </tr>\n",
              "    <tr>\n",
              "      <th>19</th>\n",
              "      <td>1980</td>\n",
              "      <td>226,542,199</td>\n",
              "      <td>$1,078,488,000</td>\n",
              "      <td>$4.76\\n</td>\n",
              "    </tr>\n",
              "    <tr>\n",
              "      <th>20</th>\n",
              "      <td>1990</td>\n",
              "      <td>248,718,301</td>\n",
              "      <td>$2,492,830,000</td>\n",
              "      <td>$10.02\\n</td>\n",
              "    </tr>\n",
              "    <tr>\n",
              "      <th>21</th>\n",
              "      <td>2000</td>\n",
              "      <td>281,421,906</td>\n",
              "      <td>$4.5 Billion</td>\n",
              "      <td>$15.99\\n</td>\n",
              "    </tr>\n",
              "    <tr>\n",
              "      <th>22</th>\n",
              "      <td>2010*</td>\n",
              "      <td>308,745,538</td>\n",
              "      <td>$13 Billion</td>\n",
              "      <td>$42.11\\n</td>\n",
              "    </tr>\n",
              "  </tbody>\n",
              "</table>\n",
              "</div>"
            ],
            "text/plain": [
              "   Census Year Total Population     Census Cost Average Cost Per Person\\n\n",
              "0         1790        3,929,214         $44,377              1.13 cents\\n\n",
              "1         1800        5,308,483         $66,109              1.24 cents\\n\n",
              "2         1810        7,239,881        $178,445              2.46 cents\\n\n",
              "3         1820        9,633,822        $208,526              2.16 cents\\n\n",
              "4         1830       12,866,020        $378,545              2.94 cents\\n\n",
              "5         1840       17,069,458        $833,371              4.88 cents\\n\n",
              "6         1850       23,191,876      $1,423,351              6.14 cents\\n\n",
              "7         1860       31,443,321      $1,969,377              6.26 cents\\n\n",
              "8         1870       38,558,371      $3,421,198              8.87 cents\\n\n",
              "9         1880       50,155,783      $5,790,678             11.54 cents\\n\n",
              "10        1890       62,979,766     $11,547,127             18.33 cents\\n\n",
              "11        1900       76,303,387     $11,854,000             15.54 cents\\n\n",
              "12        1910       91,972,266     $15,968,000             17.07 cents\\n\n",
              "13        1920      105,710,620     $25,117,000             23.76 cents\\n\n",
              "14        1930      122,775,046     $40,156,000             32.71 cents\\n\n",
              "15        1940      131,669,275     $67,527,000             51.29 cents\\n\n",
              "16        1950      151,325,798     $91,462,000             60.44 cents\\n\n",
              "17        1960      179,323,175    $127,934,000             71.34 cents\\n\n",
              "18        1970      203,302,031    $247,653,000                   $1.22\\n\n",
              "19        1980      226,542,199  $1,078,488,000                   $4.76\\n\n",
              "20        1990      248,718,301  $2,492,830,000                  $10.02\\n\n",
              "21        2000      281,421,906    $4.5 Billion                  $15.99\\n\n",
              "22       2010*      308,745,538     $13 Billion                  $42.11\\n"
            ]
          },
          "metadata": {
            "tags": []
          },
          "execution_count": 7
        }
      ]
    },
    {
      "cell_type": "code",
      "metadata": {
        "colab": {
          "base_uri": "https://localhost:8080/",
          "height": 764
        },
        "id": "dxNDOJZrJmfO",
        "outputId": "c0896189-3abb-4c5b-de80-4a19d5dd57a0"
      },
      "source": [
        "df = df.rename(columns={'Average Cost Per Person\\n':'Average Cost Per Person'})\n",
        "df"
      ],
      "execution_count": 8,
      "outputs": [
        {
          "output_type": "execute_result",
          "data": {
            "text/html": [
              "<div>\n",
              "<style scoped>\n",
              "    .dataframe tbody tr th:only-of-type {\n",
              "        vertical-align: middle;\n",
              "    }\n",
              "\n",
              "    .dataframe tbody tr th {\n",
              "        vertical-align: top;\n",
              "    }\n",
              "\n",
              "    .dataframe thead th {\n",
              "        text-align: right;\n",
              "    }\n",
              "</style>\n",
              "<table border=\"1\" class=\"dataframe\">\n",
              "  <thead>\n",
              "    <tr style=\"text-align: right;\">\n",
              "      <th></th>\n",
              "      <th>Census Year</th>\n",
              "      <th>Total Population</th>\n",
              "      <th>Census Cost</th>\n",
              "      <th>Average Cost Per Person</th>\n",
              "    </tr>\n",
              "  </thead>\n",
              "  <tbody>\n",
              "    <tr>\n",
              "      <th>0</th>\n",
              "      <td>1790</td>\n",
              "      <td>3,929,214</td>\n",
              "      <td>$44,377</td>\n",
              "      <td>1.13 cents\\n</td>\n",
              "    </tr>\n",
              "    <tr>\n",
              "      <th>1</th>\n",
              "      <td>1800</td>\n",
              "      <td>5,308,483</td>\n",
              "      <td>$66,109</td>\n",
              "      <td>1.24 cents\\n</td>\n",
              "    </tr>\n",
              "    <tr>\n",
              "      <th>2</th>\n",
              "      <td>1810</td>\n",
              "      <td>7,239,881</td>\n",
              "      <td>$178,445</td>\n",
              "      <td>2.46 cents\\n</td>\n",
              "    </tr>\n",
              "    <tr>\n",
              "      <th>3</th>\n",
              "      <td>1820</td>\n",
              "      <td>9,633,822</td>\n",
              "      <td>$208,526</td>\n",
              "      <td>2.16 cents\\n</td>\n",
              "    </tr>\n",
              "    <tr>\n",
              "      <th>4</th>\n",
              "      <td>1830</td>\n",
              "      <td>12,866,020</td>\n",
              "      <td>$378,545</td>\n",
              "      <td>2.94 cents\\n</td>\n",
              "    </tr>\n",
              "    <tr>\n",
              "      <th>5</th>\n",
              "      <td>1840</td>\n",
              "      <td>17,069,458</td>\n",
              "      <td>$833,371</td>\n",
              "      <td>4.88 cents\\n</td>\n",
              "    </tr>\n",
              "    <tr>\n",
              "      <th>6</th>\n",
              "      <td>1850</td>\n",
              "      <td>23,191,876</td>\n",
              "      <td>$1,423,351</td>\n",
              "      <td>6.14 cents\\n</td>\n",
              "    </tr>\n",
              "    <tr>\n",
              "      <th>7</th>\n",
              "      <td>1860</td>\n",
              "      <td>31,443,321</td>\n",
              "      <td>$1,969,377</td>\n",
              "      <td>6.26 cents\\n</td>\n",
              "    </tr>\n",
              "    <tr>\n",
              "      <th>8</th>\n",
              "      <td>1870</td>\n",
              "      <td>38,558,371</td>\n",
              "      <td>$3,421,198</td>\n",
              "      <td>8.87 cents\\n</td>\n",
              "    </tr>\n",
              "    <tr>\n",
              "      <th>9</th>\n",
              "      <td>1880</td>\n",
              "      <td>50,155,783</td>\n",
              "      <td>$5,790,678</td>\n",
              "      <td>11.54 cents\\n</td>\n",
              "    </tr>\n",
              "    <tr>\n",
              "      <th>10</th>\n",
              "      <td>1890</td>\n",
              "      <td>62,979,766</td>\n",
              "      <td>$11,547,127</td>\n",
              "      <td>18.33 cents\\n</td>\n",
              "    </tr>\n",
              "    <tr>\n",
              "      <th>11</th>\n",
              "      <td>1900</td>\n",
              "      <td>76,303,387</td>\n",
              "      <td>$11,854,000</td>\n",
              "      <td>15.54 cents\\n</td>\n",
              "    </tr>\n",
              "    <tr>\n",
              "      <th>12</th>\n",
              "      <td>1910</td>\n",
              "      <td>91,972,266</td>\n",
              "      <td>$15,968,000</td>\n",
              "      <td>17.07 cents\\n</td>\n",
              "    </tr>\n",
              "    <tr>\n",
              "      <th>13</th>\n",
              "      <td>1920</td>\n",
              "      <td>105,710,620</td>\n",
              "      <td>$25,117,000</td>\n",
              "      <td>23.76 cents\\n</td>\n",
              "    </tr>\n",
              "    <tr>\n",
              "      <th>14</th>\n",
              "      <td>1930</td>\n",
              "      <td>122,775,046</td>\n",
              "      <td>$40,156,000</td>\n",
              "      <td>32.71 cents\\n</td>\n",
              "    </tr>\n",
              "    <tr>\n",
              "      <th>15</th>\n",
              "      <td>1940</td>\n",
              "      <td>131,669,275</td>\n",
              "      <td>$67,527,000</td>\n",
              "      <td>51.29 cents\\n</td>\n",
              "    </tr>\n",
              "    <tr>\n",
              "      <th>16</th>\n",
              "      <td>1950</td>\n",
              "      <td>151,325,798</td>\n",
              "      <td>$91,462,000</td>\n",
              "      <td>60.44 cents\\n</td>\n",
              "    </tr>\n",
              "    <tr>\n",
              "      <th>17</th>\n",
              "      <td>1960</td>\n",
              "      <td>179,323,175</td>\n",
              "      <td>$127,934,000</td>\n",
              "      <td>71.34 cents\\n</td>\n",
              "    </tr>\n",
              "    <tr>\n",
              "      <th>18</th>\n",
              "      <td>1970</td>\n",
              "      <td>203,302,031</td>\n",
              "      <td>$247,653,000</td>\n",
              "      <td>$1.22\\n</td>\n",
              "    </tr>\n",
              "    <tr>\n",
              "      <th>19</th>\n",
              "      <td>1980</td>\n",
              "      <td>226,542,199</td>\n",
              "      <td>$1,078,488,000</td>\n",
              "      <td>$4.76\\n</td>\n",
              "    </tr>\n",
              "    <tr>\n",
              "      <th>20</th>\n",
              "      <td>1990</td>\n",
              "      <td>248,718,301</td>\n",
              "      <td>$2,492,830,000</td>\n",
              "      <td>$10.02\\n</td>\n",
              "    </tr>\n",
              "    <tr>\n",
              "      <th>21</th>\n",
              "      <td>2000</td>\n",
              "      <td>281,421,906</td>\n",
              "      <td>$4.5 Billion</td>\n",
              "      <td>$15.99\\n</td>\n",
              "    </tr>\n",
              "    <tr>\n",
              "      <th>22</th>\n",
              "      <td>2010*</td>\n",
              "      <td>308,745,538</td>\n",
              "      <td>$13 Billion</td>\n",
              "      <td>$42.11\\n</td>\n",
              "    </tr>\n",
              "  </tbody>\n",
              "</table>\n",
              "</div>"
            ],
            "text/plain": [
              "   Census Year Total Population     Census Cost Average Cost Per Person\n",
              "0         1790        3,929,214         $44,377            1.13 cents\\n\n",
              "1         1800        5,308,483         $66,109            1.24 cents\\n\n",
              "2         1810        7,239,881        $178,445            2.46 cents\\n\n",
              "3         1820        9,633,822        $208,526            2.16 cents\\n\n",
              "4         1830       12,866,020        $378,545            2.94 cents\\n\n",
              "5         1840       17,069,458        $833,371            4.88 cents\\n\n",
              "6         1850       23,191,876      $1,423,351            6.14 cents\\n\n",
              "7         1860       31,443,321      $1,969,377            6.26 cents\\n\n",
              "8         1870       38,558,371      $3,421,198            8.87 cents\\n\n",
              "9         1880       50,155,783      $5,790,678           11.54 cents\\n\n",
              "10        1890       62,979,766     $11,547,127           18.33 cents\\n\n",
              "11        1900       76,303,387     $11,854,000           15.54 cents\\n\n",
              "12        1910       91,972,266     $15,968,000           17.07 cents\\n\n",
              "13        1920      105,710,620     $25,117,000           23.76 cents\\n\n",
              "14        1930      122,775,046     $40,156,000           32.71 cents\\n\n",
              "15        1940      131,669,275     $67,527,000           51.29 cents\\n\n",
              "16        1950      151,325,798     $91,462,000           60.44 cents\\n\n",
              "17        1960      179,323,175    $127,934,000           71.34 cents\\n\n",
              "18        1970      203,302,031    $247,653,000                 $1.22\\n\n",
              "19        1980      226,542,199  $1,078,488,000                 $4.76\\n\n",
              "20        1990      248,718,301  $2,492,830,000                $10.02\\n\n",
              "21        2000      281,421,906    $4.5 Billion                $15.99\\n\n",
              "22       2010*      308,745,538     $13 Billion                $42.11\\n"
            ]
          },
          "metadata": {
            "tags": []
          },
          "execution_count": 8
        }
      ]
    },
    {
      "cell_type": "code",
      "metadata": {
        "colab": {
          "base_uri": "https://localhost:8080/"
        },
        "id": "7MfCdnMece3i",
        "outputId": "0d648e91-4888-42ff-a991-559388cc5e03"
      },
      "source": [
        "df.info()"
      ],
      "execution_count": 9,
      "outputs": [
        {
          "output_type": "stream",
          "text": [
            "<class 'pandas.core.frame.DataFrame'>\n",
            "RangeIndex: 23 entries, 0 to 22\n",
            "Data columns (total 4 columns):\n",
            " #   Column                   Non-Null Count  Dtype \n",
            "---  ------                   --------------  ----- \n",
            " 0   Census Year              23 non-null     object\n",
            " 1   Total Population         23 non-null     object\n",
            " 2   Census Cost              23 non-null     object\n",
            " 3   Average Cost Per Person  23 non-null     object\n",
            "dtypes: object(4)\n",
            "memory usage: 864.0+ bytes\n"
          ],
          "name": "stdout"
        }
      ]
    },
    {
      "cell_type": "code",
      "metadata": {
        "colab": {
          "base_uri": "https://localhost:8080/"
        },
        "id": "FNpfJ0KVm14S",
        "outputId": "9d425564-a9a8-4e4b-ef3c-429ea9c86a21"
      },
      "source": [
        "census_year_values = []\n",
        "\n",
        "for element in df['Census Year']:\n",
        "  element = element.replace('*', '')\n",
        "  element = (element)\n",
        "  census_year_values.append(element)\n",
        "  print(element)"
      ],
      "execution_count": 10,
      "outputs": [
        {
          "output_type": "stream",
          "text": [
            "1790\n",
            "1800\n",
            "1810\n",
            "1820\n",
            "1830\n",
            "1840\n",
            "1850\n",
            "1860\n",
            "1870\n",
            "1880\n",
            "1890\n",
            "1900\n",
            "1910\n",
            "1920\n",
            "1930\n",
            "1940\n",
            "1950\n",
            "1960\n",
            "1970\n",
            "1980\n",
            "1990\n",
            "2000\n",
            "2010\n"
          ],
          "name": "stdout"
        }
      ]
    },
    {
      "cell_type": "code",
      "metadata": {
        "colab": {
          "base_uri": "https://localhost:8080/"
        },
        "id": "vEGyfdX_n4G9",
        "outputId": "ab39edcf-54ce-41e3-d79a-5016c11e4e2e"
      },
      "source": [
        "df['Census Year'] = census_year_values\n",
        "df['Census Year'] "
      ],
      "execution_count": 11,
      "outputs": [
        {
          "output_type": "execute_result",
          "data": {
            "text/plain": [
              "0     1790\n",
              "1     1800\n",
              "2     1810\n",
              "3     1820\n",
              "4     1830\n",
              "5     1840\n",
              "6     1850\n",
              "7     1860\n",
              "8     1870\n",
              "9     1880\n",
              "10    1890\n",
              "11    1900\n",
              "12    1910\n",
              "13    1920\n",
              "14    1930\n",
              "15    1940\n",
              "16    1950\n",
              "17    1960\n",
              "18    1970\n",
              "19    1980\n",
              "20    1990\n",
              "21    2000\n",
              "22    2010\n",
              "Name: Census Year, dtype: object"
            ]
          },
          "metadata": {
            "tags": []
          },
          "execution_count": 11
        }
      ]
    },
    {
      "cell_type": "code",
      "metadata": {
        "colab": {
          "base_uri": "https://localhost:8080/"
        },
        "id": "FDy9OZDXicY1",
        "outputId": "040ac121-96f5-4417-cfef-b7454022a632"
      },
      "source": [
        "pop_values = []\n",
        "\n",
        "for element in df['Total Population']:\n",
        "  element = element.replace(\"$\", \"\").replace(\",\",\"\")\n",
        "  element = (element)\n",
        "  element = int(element)\n",
        "  pop_values.append(element)\n",
        "  print(element)"
      ],
      "execution_count": 12,
      "outputs": [
        {
          "output_type": "stream",
          "text": [
            "3929214\n",
            "5308483\n",
            "7239881\n",
            "9633822\n",
            "12866020\n",
            "17069458\n",
            "23191876\n",
            "31443321\n",
            "38558371\n",
            "50155783\n",
            "62979766\n",
            "76303387\n",
            "91972266\n",
            "105710620\n",
            "122775046\n",
            "131669275\n",
            "151325798\n",
            "179323175\n",
            "203302031\n",
            "226542199\n",
            "248718301\n",
            "281421906\n",
            "308745538\n"
          ],
          "name": "stdout"
        }
      ]
    },
    {
      "cell_type": "code",
      "metadata": {
        "colab": {
          "base_uri": "https://localhost:8080/"
        },
        "id": "VdCrT93OiyYd",
        "outputId": "d9ac1077-7d2d-44e8-85a1-137acf09fb6c"
      },
      "source": [
        "df['Total Population'] = pop_values\n",
        "df['Total Population']"
      ],
      "execution_count": 13,
      "outputs": [
        {
          "output_type": "execute_result",
          "data": {
            "text/plain": [
              "0       3929214\n",
              "1       5308483\n",
              "2       7239881\n",
              "3       9633822\n",
              "4      12866020\n",
              "5      17069458\n",
              "6      23191876\n",
              "7      31443321\n",
              "8      38558371\n",
              "9      50155783\n",
              "10     62979766\n",
              "11     76303387\n",
              "12     91972266\n",
              "13    105710620\n",
              "14    122775046\n",
              "15    131669275\n",
              "16    151325798\n",
              "17    179323175\n",
              "18    203302031\n",
              "19    226542199\n",
              "20    248718301\n",
              "21    281421906\n",
              "22    308745538\n",
              "Name: Total Population, dtype: int64"
            ]
          },
          "metadata": {
            "tags": []
          },
          "execution_count": 13
        }
      ]
    },
    {
      "cell_type": "code",
      "metadata": {
        "colab": {
          "base_uri": "https://localhost:8080/"
        },
        "id": "C8FOc5uOJmRb",
        "outputId": "804f06ba-6062-4ecf-bb36-8e674709481c"
      },
      "source": [
        "cost_values = []\n",
        "\n",
        "for element in df['Census Cost']:\n",
        "    if \",\" in element:\n",
        "      element = element.replace(\"$\", \"\").replace(\",\",\"\")\n",
        "      element = (element)\n",
        "      element = int(element)\n",
        "      cost_values.append(element)\n",
        "      print(element)\n",
        "    elif \"Billion\" in element:\n",
        "      element = element.replace(\"$\", \"\")\n",
        "      element = element.replace(\"Billion\", \"\")\n",
        "      element = float(element) \n",
        "      element = int(element * 1000000000)\n",
        "      cost_values.append(element)\n",
        "      print(element)\n"
      ],
      "execution_count": 14,
      "outputs": [
        {
          "output_type": "stream",
          "text": [
            "44377\n",
            "66109\n",
            "178445\n",
            "208526\n",
            "378545\n",
            "833371\n",
            "1423351\n",
            "1969377\n",
            "3421198\n",
            "5790678\n",
            "11547127\n",
            "11854000\n",
            "15968000\n",
            "25117000\n",
            "40156000\n",
            "67527000\n",
            "91462000\n",
            "127934000\n",
            "247653000\n",
            "1078488000\n",
            "2492830000\n",
            "4500000000\n",
            "13000000000\n"
          ],
          "name": "stdout"
        }
      ]
    },
    {
      "cell_type": "code",
      "metadata": {
        "colab": {
          "base_uri": "https://localhost:8080/"
        },
        "id": "hKmY0pmIiV6a",
        "outputId": "e0e06c25-f61e-48ed-aae4-70f61c801a78"
      },
      "source": [
        "df['Census Cost'] = cost_values\n",
        "df['Census Cost']"
      ],
      "execution_count": 15,
      "outputs": [
        {
          "output_type": "execute_result",
          "data": {
            "text/plain": [
              "0           44377\n",
              "1           66109\n",
              "2          178445\n",
              "3          208526\n",
              "4          378545\n",
              "5          833371\n",
              "6         1423351\n",
              "7         1969377\n",
              "8         3421198\n",
              "9         5790678\n",
              "10       11547127\n",
              "11       11854000\n",
              "12       15968000\n",
              "13       25117000\n",
              "14       40156000\n",
              "15       67527000\n",
              "16       91462000\n",
              "17      127934000\n",
              "18      247653000\n",
              "19     1078488000\n",
              "20     2492830000\n",
              "21     4500000000\n",
              "22    13000000000\n",
              "Name: Census Cost, dtype: int64"
            ]
          },
          "metadata": {
            "tags": []
          },
          "execution_count": 15
        }
      ]
    },
    {
      "cell_type": "code",
      "metadata": {
        "colab": {
          "base_uri": "https://localhost:8080/"
        },
        "id": "2p01PfHIjMpe",
        "outputId": "17317393-a9ed-4b45-c65c-e8b24605bdd2"
      },
      "source": [
        "cost_per_person_values = []\n",
        "\n",
        "for element in df['Average Cost Per Person']:\n",
        "    element = element.replace(\"$\", \"\").replace(\"cents\\n\",\"\").replace(\"\\n\",\"\").replace(\"$\",\"\")\n",
        "    element = (element)\n",
        "    element = float(element)\n",
        "    cost_per_person_values.append(element)\n",
        "    print(element)\n"
      ],
      "execution_count": 16,
      "outputs": [
        {
          "output_type": "stream",
          "text": [
            "1.13\n",
            "1.24\n",
            "2.46\n",
            "2.16\n",
            "2.94\n",
            "4.88\n",
            "6.14\n",
            "6.26\n",
            "8.87\n",
            "11.54\n",
            "18.33\n",
            "15.54\n",
            "17.07\n",
            "23.76\n",
            "32.71\n",
            "51.29\n",
            "60.44\n",
            "71.34\n",
            "1.22\n",
            "4.76\n",
            "10.02\n",
            "15.99\n",
            "42.11\n"
          ],
          "name": "stdout"
        }
      ]
    },
    {
      "cell_type": "code",
      "metadata": {
        "id": "-oQo3R_ul17J"
      },
      "source": [
        "df['Average Cost Per Person'] = cost_per_person_values"
      ],
      "execution_count": 17,
      "outputs": []
    },
    {
      "cell_type": "code",
      "metadata": {
        "colab": {
          "base_uri": "https://localhost:8080/",
          "height": 764
        },
        "id": "5rxvfKWXl9TS",
        "outputId": "aeda001a-ab6b-4796-f2cc-514c9deb2839"
      },
      "source": [
        "df"
      ],
      "execution_count": 18,
      "outputs": [
        {
          "output_type": "execute_result",
          "data": {
            "text/html": [
              "<div>\n",
              "<style scoped>\n",
              "    .dataframe tbody tr th:only-of-type {\n",
              "        vertical-align: middle;\n",
              "    }\n",
              "\n",
              "    .dataframe tbody tr th {\n",
              "        vertical-align: top;\n",
              "    }\n",
              "\n",
              "    .dataframe thead th {\n",
              "        text-align: right;\n",
              "    }\n",
              "</style>\n",
              "<table border=\"1\" class=\"dataframe\">\n",
              "  <thead>\n",
              "    <tr style=\"text-align: right;\">\n",
              "      <th></th>\n",
              "      <th>Census Year</th>\n",
              "      <th>Total Population</th>\n",
              "      <th>Census Cost</th>\n",
              "      <th>Average Cost Per Person</th>\n",
              "    </tr>\n",
              "  </thead>\n",
              "  <tbody>\n",
              "    <tr>\n",
              "      <th>0</th>\n",
              "      <td>1790</td>\n",
              "      <td>3929214</td>\n",
              "      <td>44377</td>\n",
              "      <td>1.13</td>\n",
              "    </tr>\n",
              "    <tr>\n",
              "      <th>1</th>\n",
              "      <td>1800</td>\n",
              "      <td>5308483</td>\n",
              "      <td>66109</td>\n",
              "      <td>1.24</td>\n",
              "    </tr>\n",
              "    <tr>\n",
              "      <th>2</th>\n",
              "      <td>1810</td>\n",
              "      <td>7239881</td>\n",
              "      <td>178445</td>\n",
              "      <td>2.46</td>\n",
              "    </tr>\n",
              "    <tr>\n",
              "      <th>3</th>\n",
              "      <td>1820</td>\n",
              "      <td>9633822</td>\n",
              "      <td>208526</td>\n",
              "      <td>2.16</td>\n",
              "    </tr>\n",
              "    <tr>\n",
              "      <th>4</th>\n",
              "      <td>1830</td>\n",
              "      <td>12866020</td>\n",
              "      <td>378545</td>\n",
              "      <td>2.94</td>\n",
              "    </tr>\n",
              "    <tr>\n",
              "      <th>5</th>\n",
              "      <td>1840</td>\n",
              "      <td>17069458</td>\n",
              "      <td>833371</td>\n",
              "      <td>4.88</td>\n",
              "    </tr>\n",
              "    <tr>\n",
              "      <th>6</th>\n",
              "      <td>1850</td>\n",
              "      <td>23191876</td>\n",
              "      <td>1423351</td>\n",
              "      <td>6.14</td>\n",
              "    </tr>\n",
              "    <tr>\n",
              "      <th>7</th>\n",
              "      <td>1860</td>\n",
              "      <td>31443321</td>\n",
              "      <td>1969377</td>\n",
              "      <td>6.26</td>\n",
              "    </tr>\n",
              "    <tr>\n",
              "      <th>8</th>\n",
              "      <td>1870</td>\n",
              "      <td>38558371</td>\n",
              "      <td>3421198</td>\n",
              "      <td>8.87</td>\n",
              "    </tr>\n",
              "    <tr>\n",
              "      <th>9</th>\n",
              "      <td>1880</td>\n",
              "      <td>50155783</td>\n",
              "      <td>5790678</td>\n",
              "      <td>11.54</td>\n",
              "    </tr>\n",
              "    <tr>\n",
              "      <th>10</th>\n",
              "      <td>1890</td>\n",
              "      <td>62979766</td>\n",
              "      <td>11547127</td>\n",
              "      <td>18.33</td>\n",
              "    </tr>\n",
              "    <tr>\n",
              "      <th>11</th>\n",
              "      <td>1900</td>\n",
              "      <td>76303387</td>\n",
              "      <td>11854000</td>\n",
              "      <td>15.54</td>\n",
              "    </tr>\n",
              "    <tr>\n",
              "      <th>12</th>\n",
              "      <td>1910</td>\n",
              "      <td>91972266</td>\n",
              "      <td>15968000</td>\n",
              "      <td>17.07</td>\n",
              "    </tr>\n",
              "    <tr>\n",
              "      <th>13</th>\n",
              "      <td>1920</td>\n",
              "      <td>105710620</td>\n",
              "      <td>25117000</td>\n",
              "      <td>23.76</td>\n",
              "    </tr>\n",
              "    <tr>\n",
              "      <th>14</th>\n",
              "      <td>1930</td>\n",
              "      <td>122775046</td>\n",
              "      <td>40156000</td>\n",
              "      <td>32.71</td>\n",
              "    </tr>\n",
              "    <tr>\n",
              "      <th>15</th>\n",
              "      <td>1940</td>\n",
              "      <td>131669275</td>\n",
              "      <td>67527000</td>\n",
              "      <td>51.29</td>\n",
              "    </tr>\n",
              "    <tr>\n",
              "      <th>16</th>\n",
              "      <td>1950</td>\n",
              "      <td>151325798</td>\n",
              "      <td>91462000</td>\n",
              "      <td>60.44</td>\n",
              "    </tr>\n",
              "    <tr>\n",
              "      <th>17</th>\n",
              "      <td>1960</td>\n",
              "      <td>179323175</td>\n",
              "      <td>127934000</td>\n",
              "      <td>71.34</td>\n",
              "    </tr>\n",
              "    <tr>\n",
              "      <th>18</th>\n",
              "      <td>1970</td>\n",
              "      <td>203302031</td>\n",
              "      <td>247653000</td>\n",
              "      <td>1.22</td>\n",
              "    </tr>\n",
              "    <tr>\n",
              "      <th>19</th>\n",
              "      <td>1980</td>\n",
              "      <td>226542199</td>\n",
              "      <td>1078488000</td>\n",
              "      <td>4.76</td>\n",
              "    </tr>\n",
              "    <tr>\n",
              "      <th>20</th>\n",
              "      <td>1990</td>\n",
              "      <td>248718301</td>\n",
              "      <td>2492830000</td>\n",
              "      <td>10.02</td>\n",
              "    </tr>\n",
              "    <tr>\n",
              "      <th>21</th>\n",
              "      <td>2000</td>\n",
              "      <td>281421906</td>\n",
              "      <td>4500000000</td>\n",
              "      <td>15.99</td>\n",
              "    </tr>\n",
              "    <tr>\n",
              "      <th>22</th>\n",
              "      <td>2010</td>\n",
              "      <td>308745538</td>\n",
              "      <td>13000000000</td>\n",
              "      <td>42.11</td>\n",
              "    </tr>\n",
              "  </tbody>\n",
              "</table>\n",
              "</div>"
            ],
            "text/plain": [
              "   Census Year  Total Population  Census Cost  Average Cost Per Person\n",
              "0         1790           3929214        44377                     1.13\n",
              "1         1800           5308483        66109                     1.24\n",
              "2         1810           7239881       178445                     2.46\n",
              "3         1820           9633822       208526                     2.16\n",
              "4         1830          12866020       378545                     2.94\n",
              "5         1840          17069458       833371                     4.88\n",
              "6         1850          23191876      1423351                     6.14\n",
              "7         1860          31443321      1969377                     6.26\n",
              "8         1870          38558371      3421198                     8.87\n",
              "9         1880          50155783      5790678                    11.54\n",
              "10        1890          62979766     11547127                    18.33\n",
              "11        1900          76303387     11854000                    15.54\n",
              "12        1910          91972266     15968000                    17.07\n",
              "13        1920         105710620     25117000                    23.76\n",
              "14        1930         122775046     40156000                    32.71\n",
              "15        1940         131669275     67527000                    51.29\n",
              "16        1950         151325798     91462000                    60.44\n",
              "17        1960         179323175    127934000                    71.34\n",
              "18        1970         203302031    247653000                     1.22\n",
              "19        1980         226542199   1078488000                     4.76\n",
              "20        1990         248718301   2492830000                    10.02\n",
              "21        2000         281421906   4500000000                    15.99\n",
              "22        2010         308745538  13000000000                    42.11"
            ]
          },
          "metadata": {
            "tags": []
          },
          "execution_count": 18
        }
      ]
    },
    {
      "cell_type": "code",
      "metadata": {
        "colab": {
          "base_uri": "https://localhost:8080/"
        },
        "id": "mXso2w0IqQyC",
        "outputId": "17872129-b59f-47ee-910c-588162d28824"
      },
      "source": [
        "df.info()"
      ],
      "execution_count": 19,
      "outputs": [
        {
          "output_type": "stream",
          "text": [
            "<class 'pandas.core.frame.DataFrame'>\n",
            "RangeIndex: 23 entries, 0 to 22\n",
            "Data columns (total 4 columns):\n",
            " #   Column                   Non-Null Count  Dtype  \n",
            "---  ------                   --------------  -----  \n",
            " 0   Census Year              23 non-null     object \n",
            " 1   Total Population         23 non-null     int64  \n",
            " 2   Census Cost              23 non-null     int64  \n",
            " 3   Average Cost Per Person  23 non-null     float64\n",
            "dtypes: float64(1), int64(2), object(1)\n",
            "memory usage: 864.0+ bytes\n"
          ],
          "name": "stdout"
        }
      ]
    },
    {
      "cell_type": "code",
      "metadata": {
        "id": "FMUTjsFOpcSF"
      },
      "source": [
        "df.to_csv('census_cost.csv')"
      ],
      "execution_count": 20,
      "outputs": []
    }
  ]
}